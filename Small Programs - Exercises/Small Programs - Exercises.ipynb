{
 "cells": [
  {
   "cell_type": "code",
   "execution_count": 2,
   "metadata": {},
   "outputs": [],
   "source": [
    "#Pagina de los ejercicios:\n",
    "#https://www.practicepython.org/ \n",
    "\n",
    "#para ver mas de 1 output x cell de jupyter\n",
    "from IPython.core.interactiveshell import InteractiveShell\n",
    "InteractiveShell.ast_node_interactivity = 'all'\n"
   ]
  },
  {
   "cell_type": "code",
   "execution_count": 3,
   "metadata": {},
   "outputs": [],
   "source": [
    "#EXERCISE 1\n",
    "#Create a program that asks the user to enter their name and their age.\n",
    "#Print out a message addressed to them that tells them the year that they will turn 100 years old. "
   ]
  },
  {
   "cell_type": "code",
   "execution_count": 53,
   "metadata": {},
   "outputs": [
    {
     "name": "stdout",
     "output_type": "stream",
     "text": [
      "Please give me your name Cristian\n",
      "Please give me your age 33\n",
      "your name is Cristian and you will be 100 year in the year 2089\n"
     ]
    }
   ],
   "source": [
    "from datetime import date\n",
    "def exercise_1():\n",
    "    name = input('Please give me your name ')\n",
    "    age = input('Please give me your age ')\n",
    "    actual_year = date.today().year\n",
    "    years_100 = actual_year-int(age)+100\n",
    "    \n",
    "    print(f'your name is {name} and you will be 100 year in the year {years_100}')\n",
    "    \n",
    "exercise_1()"
   ]
  },
  {
   "cell_type": "code",
   "execution_count": 6,
   "metadata": {
    "scrolled": true
   },
   "outputs": [],
   "source": [
    "#EXERCISE 2\n",
    "#Ask the user for a number. Depending on whether the number is even or odd, print out an appropriate message to the user"
   ]
  },
  {
   "cell_type": "code",
   "execution_count": 5,
   "metadata": {},
   "outputs": [
    {
     "name": "stdout",
     "output_type": "stream",
     "text": [
      "Insert a number 111\n",
      "The number is odd\n"
     ]
    }
   ],
   "source": [
    "def exercise_2():\n",
    "    number = int(input('Insert a number '))\n",
    "    if number % 2 == 0:\n",
    "        print('The number is even')\n",
    "    else:\n",
    "        print('The number is odd')\n",
    "\n",
    "exercise_2()"
   ]
  },
  {
   "cell_type": "code",
   "execution_count": 8,
   "metadata": {},
   "outputs": [],
   "source": [
    "#EXERCISE 3\n",
    "#Take a list, say for example this one:\n",
    "#a = [1, 1, 2, 3, 5, 8, 13, 21, 34, 55, 89]\n",
    "#and write a program that prints out all the elements of the list that are less than 5."
   ]
  },
  {
   "cell_type": "code",
   "execution_count": 6,
   "metadata": {},
   "outputs": [
    {
     "name": "stdout",
     "output_type": "stream",
     "text": [
      "1 1 2 3\n"
     ]
    }
   ],
   "source": [
    "def exercise_3():\n",
    "    a = [1, 1, 2, 3, 5, 8, 13, 21, 34, 55, 89]\n",
    "    #print([value for value in a if value < 5])\n",
    "    print(*[value for value in a if value < 5])\n",
    "\n",
    "exercise_3()"
   ]
  },
  {
   "cell_type": "code",
   "execution_count": 10,
   "metadata": {},
   "outputs": [],
   "source": [
    "#EXERCISE 4\n",
    "#Create a program that asks the user for a number and then prints out a list of all the divisors of that number. \n",
    "#(If you don’t know what a divisor is, it is a number that divides evenly into another number. \n",
    "#For example, 13 is a divisor of 26 because 26 / 13 has no remainder.)\n"
   ]
  },
  {
   "cell_type": "code",
   "execution_count": 7,
   "metadata": {},
   "outputs": [
    {
     "name": "stdout",
     "output_type": "stream",
     "text": [
      "Please enter a number to divide: 44\n",
      "The divisors of 44 are [1, 2, 4, 11, 22, 44]\n"
     ]
    },
    {
     "data": {
      "text/plain": [
       "([1, 2, 4, 11, 22, 44], 44)"
      ]
     },
     "execution_count": 7,
     "metadata": {},
     "output_type": "execute_result"
    }
   ],
   "source": [
    "def exercise_4():\n",
    "    numb = int(input('Please enter a number to divide: '))\n",
    "    divisors = [n for n in range(1,numb+1) if numb % n == 0]\n",
    "    print(f'The divisors of {numb} are {divisors}')\n",
    "    return divisors, numb\n",
    "\n",
    "exercise_4()"
   ]
  },
  {
   "cell_type": "code",
   "execution_count": 12,
   "metadata": {},
   "outputs": [],
   "source": [
    "##EXERCISE 5\n",
    "#Take two lists, say for example these two:\n",
    "#a = [1, 1, 2, 3, 5, 8, 13, 21, 34, 55, 89]\n",
    "#b = [1, 2, 3, 4, 5, 6, 7, 8, 9, 10, 11, 12, 13]\n",
    "#and write a program that returns a list that contains only the elements that are common between the lists (without duplicates).\n",
    "#Make sure your program works on two lists of different sizes."
   ]
  },
  {
   "cell_type": "code",
   "execution_count": 8,
   "metadata": {},
   "outputs": [
    {
     "data": {
      "text/plain": [
       "[1, 2, 3, 5, 8, 13]"
      ]
     },
     "execution_count": 8,
     "metadata": {},
     "output_type": "execute_result"
    },
    {
     "data": {
      "text/plain": [
       "[1, 2, 3, 5, 8, 13]"
      ]
     },
     "execution_count": 8,
     "metadata": {},
     "output_type": "execute_result"
    }
   ],
   "source": [
    "import numpy as np\n",
    "a = [1, 1, 2, 3, 5, 8, 13, 21, 34, 55, 89]\n",
    "b = [1, 2, 3, 4, 5, 6, 7, 8, 9, 10, 11, 12, 13]\n",
    "\n",
    "def exercise_5_v1(a,b):\n",
    "    a_unique = np.unique(a).tolist()\n",
    "    b_unique = np.unique(b).tolist()\n",
    "    commons = [n for n in a_unique if n in b_unique]\n",
    "    return commons\n",
    "    \n",
    "def exercise_5_v2(a,b):\n",
    "    commons = set(a).intersection(set(b))\n",
    "    return list(commons)\n",
    "\n",
    "exercise_5_v1(a,b)\n",
    "exercise_5_v2(a,b)\n"
   ]
  },
  {
   "cell_type": "code",
   "execution_count": 14,
   "metadata": {},
   "outputs": [],
   "source": [
    "# EXERCISE 6\n",
    "#Ask the user for a string and print out whether this string is a palindrome or not. \n",
    "# (A palindrome is a string that reads the same forwards and backwards.)"
   ]
  },
  {
   "cell_type": "code",
   "execution_count": 9,
   "metadata": {},
   "outputs": [
    {
     "name": "stdout",
     "output_type": "stream",
     "text": [
      "The word Dabale arroz a la zorra el abad is a palindrome\n"
     ]
    }
   ],
   "source": [
    "def exercise_6(txt):\n",
    "    txt2 = txt.lower().replace(' ', '') #a lowercap y para eliminar los espacios\n",
    "    string1 = txt2\n",
    "    string2 = txt2[::-1] #para recorrer el string al reves\n",
    "    if string1 == string2:\n",
    "        print(f'The word {txt} is a palindrome')\n",
    "    else:\n",
    "        print(f'The word {txt} is not a palindrome')\n",
    "\n",
    "exercise_6('Dabale arroz a la zorra el abad')"
   ]
  },
  {
   "cell_type": "code",
   "execution_count": 16,
   "metadata": {},
   "outputs": [],
   "source": [
    "#EXERCISE 7\n",
    "#Let’s say I give you a list saved in a variable: a = [1, 4, 9, 16, 25, 36, 49, 64, 81, 100]. \n",
    "#Write one line of Python that takes this list a and makes a new list that has only the even elements of this list in it."
   ]
  },
  {
   "cell_type": "code",
   "execution_count": 10,
   "metadata": {
    "scrolled": true
   },
   "outputs": [
    {
     "data": {
      "text/plain": [
       "[4, 16, 36, 64, 100]"
      ]
     },
     "execution_count": 10,
     "metadata": {},
     "output_type": "execute_result"
    }
   ],
   "source": [
    "a = [1, 4, 9, 16, 25, 36, 49, 64, 81, 100]\n",
    "def exercise_7(a):\n",
    "    even_n = [n for n in a if n % 2 == 0]\n",
    "    return even_n\n",
    "\n",
    "exercise_7(a)"
   ]
  },
  {
   "cell_type": "code",
   "execution_count": 18,
   "metadata": {},
   "outputs": [],
   "source": [
    "#EXERCISE 8\n",
    "#Make a two-player Rock-Paper-Scissors game. \n",
    "#(Hint: Ask for player plays (using input), compare them, print out a message of congratulations to the winner,\n",
    "#and ask if the players want to start a new game)"
   ]
  },
  {
   "cell_type": "code",
   "execution_count": 11,
   "metadata": {},
   "outputs": [
    {
     "name": "stdout",
     "output_type": "stream",
     "text": [
      "Player 1, Select rock, paper or scissor: rock\n",
      "Player 2, Select rock, paper or scissor: paper\n",
      "Congratulations, player2 wins!\n"
     ]
    }
   ],
   "source": [
    "def exercise8():\n",
    "    \n",
    "    player1 = input('Player 1, Select rock, paper or scissor: ').lower()\n",
    "    player2 = input('Player 2, Select rock, paper or scissor: ').lower()\n",
    "    while True:\n",
    "        #player1 wins\n",
    "        if player2=='rock' and player1=='paper':\n",
    "            print(f'Congratulations, player1 wins!')\n",
    "            break\n",
    "\n",
    "        if player2=='paper' and player1=='scissor':\n",
    "            print(f'Congratulations, player1 wins!')\n",
    "            break\n",
    "\n",
    "        if player2=='scissor' and player1=='rock':\n",
    "            print(f'Congratulations, player1 wins!')\n",
    "            break\n",
    "        #player2 wins\n",
    "        if player1=='rock' and player2=='paper':\n",
    "            print(f'Congratulations, player2 wins!')\n",
    "            break\n",
    "\n",
    "        if player1=='paper' and player2=='scissor':\n",
    "            print(f'Congratulations, player2 wins!')\n",
    "            break\n",
    "\n",
    "        if player1=='scissor' and player2=='rock':\n",
    "            print(f'Congratulations, player2 wins!')\n",
    "            break\n",
    "        else:\n",
    "            print('it is a draw!')\n",
    "            play_again = input('Want to play again? (Y/N): ')\n",
    "            if play_again.upper() == 'Y':\n",
    "                player1 = input('Player 1, Select rock, paper or scissor: ').lower()\n",
    "                player2 = input('Player 2, Select rock, paper or scissor: ').lower()\n",
    "            else:\n",
    "                print('game over, its a tie!')\n",
    "                break\n",
    "            \n",
    "exercise8()        "
   ]
  },
  {
   "cell_type": "code",
   "execution_count": 26,
   "metadata": {},
   "outputs": [],
   "source": [
    "#EXERCISE 9\n",
    "#Generate a random number between 1 and 9 (including 1 and 9). \n",
    "#Ask the user to guess the number, then tell them whether they guessed too low, too high, or exactly right.\n",
    "#Extras:\n",
    "#Keep the game going until the user types “exit”\n",
    "#Keep track of how many guesses the user has taken, and when the game ends, print this out."
   ]
  },
  {
   "cell_type": "code",
   "execution_count": 12,
   "metadata": {},
   "outputs": [
    {
     "name": "stdout",
     "output_type": "stream",
     "text": [
      "Guess a number between 1 and 9: 8\n",
      "too high\n",
      "Guess a number between 1 and 9: 4\n",
      "too low\n",
      "Guess a number between 1 and 9: 4\n",
      "too low\n",
      "Guess a number between 1 and 9: 5\n",
      "too low\n",
      "Guess a number between 1 and 9: 7\n",
      "correct, the number was 7,  took you 5 tries to guess!\n"
     ]
    }
   ],
   "source": [
    "import random\n",
    "#random.randrange(0,10)\n",
    "def exercise_9(): \n",
    "    random_num = random.randint(1,9) #toma en cuenta el 1 y el 9 de esta forma!\n",
    "    user_guess = int(input('Guess a number between 1 and 9: '))\n",
    "    count = 1\n",
    "    while True:\n",
    "        if user_guess > random_num:\n",
    "            count += 1\n",
    "            print('too high')\n",
    "            user_guess = input('Guess a number between 1 and 9: ')\n",
    "            if user_guess == 'exit':\n",
    "                break\n",
    "            else:\n",
    "                user_guess = int(user_guess)\n",
    "\n",
    "        if user_guess < random_num:\n",
    "            count += 1\n",
    "            print('too low')\n",
    "            user_guess = input('Guess a number between 1 and 9: ')\n",
    "            if user_guess == 'exit':\n",
    "                break\n",
    "            else:\n",
    "                user_guess = int(user_guess)\n",
    "\n",
    "        if user_guess == random_num:\n",
    "            print(f'correct, the number was {random_num},  took you {count} tries to guess!')\n",
    "            break\n",
    "\n",
    "exercise_9()"
   ]
  },
  {
   "cell_type": "code",
   "execution_count": 29,
   "metadata": {},
   "outputs": [],
   "source": [
    "#EXERCISE 10 \n",
    "#igual a ex5. done"
   ]
  },
  {
   "cell_type": "code",
   "execution_count": 30,
   "metadata": {},
   "outputs": [],
   "source": [
    "#EXERCISE 11\n",
    "#Ask the user for a number and determine whether the number is prime or not. \n",
    "#(For those who have forgotten, a prime number is a number that has no divisors.). \n",
    "#You can (and should!) use your answer to Exercise 4 to help you. \n",
    "#Take this opportunity to practice using functions, described below.\n",
    "\n",
    "    "
   ]
  },
  {
   "cell_type": "code",
   "execution_count": 13,
   "metadata": {},
   "outputs": [
    {
     "name": "stdout",
     "output_type": "stream",
     "text": [
      "Please enter a number to divide: 22\n",
      "The divisors of 22 are [1, 2, 11, 22]\n",
      "The number: 22 is not prime\n"
     ]
    }
   ],
   "source": [
    "def exercise_11():\n",
    "    divisors, numb = exercise_4()\n",
    "    if numb > 1:\n",
    "        if len(divisors) == 2:\n",
    "            print(f'The number: {numb} is prime')\n",
    "        else:\n",
    "            print(f'The number: {numb} is not prime')\n",
    "    else:\n",
    "        print(f'The number: {numb} is not prime')\n",
    "                  \n",
    "\n",
    "exercise_11()"
   ]
  },
  {
   "cell_type": "code",
   "execution_count": 38,
   "metadata": {},
   "outputs": [],
   "source": [
    "#EXERCISE 12\n",
    "#Write a program that takes a list of numbers (for example, a = [5, 10, 15, 20, 25]) and makes a new list of only the first and last elements of the given list.\n",
    "#For practice, write this code inside a function."
   ]
  },
  {
   "cell_type": "code",
   "execution_count": 14,
   "metadata": {},
   "outputs": [
    {
     "data": {
      "text/plain": [
       "[5, 25]"
      ]
     },
     "execution_count": 14,
     "metadata": {},
     "output_type": "execute_result"
    }
   ],
   "source": [
    "a = [5, 10, 15, 20, 25]\n",
    "def exercise_12(a):   \n",
    "    x=[]\n",
    "    x.append(a[0])\n",
    "    x.append(a[-1])\n",
    "    #x = [a[0],a[-1]]\n",
    "    return x\n",
    "\n",
    "exercise_12(a)"
   ]
  },
  {
   "cell_type": "code",
   "execution_count": 40,
   "metadata": {},
   "outputs": [],
   "source": [
    "#EXERCISE 13, FIBONACCI\n",
    "#Write a program that asks the user how many Fibonnaci numbers to generate and then generates them. \n",
    "#Take this opportunity to think about how you can use functions. \n",
    "#Make sure to ask the user to enter the number of numbers in the sequence to generate.\n",
    "#(Hint: The Fibonnaci seqence is a sequence of numbers where the next number in the sequence is the sum of the \n",
    "#previous two numbers in the sequence. The sequence looks like this: 1, 1, 2, 3, 5, 8, 13, …)"
   ]
  },
  {
   "cell_type": "code",
   "execution_count": 15,
   "metadata": {},
   "outputs": [
    {
     "name": "stdout",
     "output_type": "stream",
     "text": [
      "Enter how many numbers of the Fibonacci Serie you want to generate: 33\n",
      "0 1 1 2 3 5 8 13 21 34 55 89 144 233 377 610 987 1597 2584 4181 6765 10946 17711 28657 46368 75025 121393 196418 317811 514229 832040 1346269 2178309\n"
     ]
    }
   ],
   "source": [
    "def exercise_13():\n",
    "    length = int(input('Enter how many numbers of the Fibonacci Serie you want to generate: '))\n",
    "    fibo_list = []\n",
    "    fibo = 0\n",
    "    for n in range(length):\n",
    "        if len(fibo_list) < 2:\n",
    "            fibo_list.append(n)\n",
    "        else:\n",
    "            last_2 = sum(fibo_list[-2:])\n",
    "            fibo_list.append(last_2)\n",
    "    print(*fibo_list)\n",
    "\n",
    "exercise_13()"
   ]
  },
  {
   "cell_type": "code",
   "execution_count": 44,
   "metadata": {},
   "outputs": [],
   "source": [
    "#EXERCISE 14\n",
    "#Write a program (function!) that takes a list and \n",
    "#returns a new list that contains all the elements of the first list minus all the duplicates."
   ]
  },
  {
   "cell_type": "code",
   "execution_count": 17,
   "metadata": {},
   "outputs": [
    {
     "data": {
      "text/plain": [
       "[1, 2, 3, 4, 5, 6, 7, 8]"
      ]
     },
     "execution_count": 17,
     "metadata": {},
     "output_type": "execute_result"
    }
   ],
   "source": [
    "a = [1, 1, 2, 3, 3, 4, 4, 5, 6, 7, 8, 8]\n",
    "\n",
    "def exercise_14(a):\n",
    "    return list(set(a))\n",
    "\n",
    "exercise_14(a)"
   ]
  },
  {
   "cell_type": "code",
   "execution_count": 46,
   "metadata": {},
   "outputs": [],
   "source": [
    "#EXERCISE 15\n",
    "#Write a program (using functions!) that asks the user for a long string containing multiple words. \n",
    "#Print back to the user the same string, except with the words in backwards order. \n",
    "#For example, say I type the string:\n",
    "#My name is Michele\n",
    "#Then I would see the string:\n",
    "#Michele is name My"
   ]
  },
  {
   "cell_type": "code",
   "execution_count": 18,
   "metadata": {},
   "outputs": [
    {
     "name": "stdout",
     "output_type": "stream",
     "text": [
      "mate? going it Hows\n"
     ]
    }
   ],
   "source": [
    "string = 'My name is Michele'\n",
    "def exercise_15(string):\n",
    "    print(*string.split()[::-1])\n",
    "\n",
    "exercise_15('Hows it going mate?')"
   ]
  },
  {
   "cell_type": "code",
   "execution_count": 48,
   "metadata": {},
   "outputs": [],
   "source": [
    "#EXERCISE 16, SALTADO, mezclar disintos caracateres..hacer combis, etc!\n",
    "#Write a password generator in Python. Be creative with how you generate passwords - \n",
    "#strong passwords have a mix of lowercase letters, uppercase letters, numbers, and symbols.\n",
    "#The passwords should be random, \n",
    "#generating a new password every time the user asks for a new password. Include your run-time code in a main method."
   ]
  },
  {
   "cell_type": "code",
   "execution_count": 19,
   "metadata": {},
   "outputs": [
    {
     "name": "stdout",
     "output_type": "stream",
     "text": [
      "Python 3.7.8rc1\n"
     ]
    }
   ],
   "source": [
    "#EXERCISE 17 -BEAUTIFULSOUP!\n",
    "!python -V to check version\n",
    "#Use the BeautifulSoup and requests Python packages\n",
    "#to print out a list of all the article titles on the New York Times homepage."
   ]
  },
  {
   "cell_type": "code",
   "execution_count": 20,
   "metadata": {},
   "outputs": [],
   "source": [
    "from bs4 import BeautifulSoup\n",
    "import requests"
   ]
  },
  {
   "cell_type": "code",
   "execution_count": 21,
   "metadata": {},
   "outputs": [
    {
     "data": {
      "text/plain": [
       "['At Least 50 Killed in Strike on Train Station, Ukraine Says',\n",
       " 'Officials Say Nearly 100 Wounded in Attack',\n",
       " 'Russian Blunders in Chernobyl: ‘They Came and Did Whatever They Wanted’',\n",
       " 'On a Train Platform, Scenes of Carnage and Grief',\n",
       " 'Civilians near Kharkiv are discovering a new threat: munitions that eject up to two dozen mines that explode at intervals.',\n",
       " '“For the children:” A chilling message was found at the Ukrainian train station destroyed in a missile strike.',\n",
       " 'Europe approved its fifth round of sanctions against Russia, but the E.U. may be reaching its pain threshold.',\n",
       " 'In Kyiv, large lines of cars are now forming on highways into the city and businesses are reopening.',\n",
       " 'The U.K. is taking a hawkish lead on Russia, but will Europe follow?',\n",
       " 'Advertisement',\n",
       " '2 Men Acquitted of Plotting to Kidnap Michigan Governor in High-Profile Trial',\n",
       " 'Pro-Trump Rally Planner Is Cooperating in Justice Dept.’s Jan. 6 Inquiry',\n",
       " 'A Canadian billionaire illegally helped steer $1.75 million in donations to a pro-Trump super PAC, the F.E.C. said.',\n",
       " 'New York City wrongly terminated the Trump Organization’s contract at a golf course after the Jan. 6 riot, a judge ruled.',\n",
       " 'A text from Donald Trump Jr. set out strategies to fight the 2020 election outcome and keep his father in office.',\n",
       " 'Academy Bars Will Smith From Oscars Ceremony for 10 Years After Slap',\n",
       " '‘We’ve Made It’: Jackson Celebrates Supreme Court Confirmation',\n",
       " 'Jackson Confirmation Aside, G.O.P. Sees an Opening With Black Voters',\n",
       " 'The F.A.A. Recommends a Record $81,950 Fine for an Unruly Passenger',\n",
       " 'The world so far has dodged a coronavirus-flu “twindemic.” Scientists have a theory why.',\n",
       " 'Could you still have Covid with a negative home test?',\n",
       " 'U.S. hot spots ›',\n",
       " 'Vaccinations ›',\n",
       " 'Global hot spots ›',\n",
       " 'Cases rising fastest',\n",
       " 'Cases rising fastest',\n",
       " 'Other trackers',\n",
       " 'Former U.S.C. Coach Convicted in College Admissions Bribery Case',\n",
       " 'Are 1,818 Airbnbs Too Many in Joshua Tree?',\n",
       " 'The Mysterious Man Who Built (and Then Lost) Little Tokyo',\n",
       " 'Advertisement',\n",
       " 'Charles M. Blow',\n",
       " 'Cory Booker, ‘You Had Our Back’',\n",
       " 'David Brooks',\n",
       " 'Globalization Is Over. The Global Culture Wars Have Begun.',\n",
       " 'Lindsay Crouse',\n",
       " 'Go Ahead, Count Naomi Osaka Out',\n",
       " '‘The Ezra Klein Show’',\n",
       " 'Fiona Hill on Whether Ukraine Can Win — and What Happens if Russia Loses',\n",
       " 'Vanessa Nakate',\n",
       " 'The Oil Pipeline East Africa Doesn’t Need',\n",
       " 'Jamelle Bouie',\n",
       " 'You May Not Find a Friend on This Power-Hungry Supreme Court',\n",
       " 'Lulu Garcia-Navarro,\\xa0Ezra Klein,\\xa0Jane Coaston and Jamelle Bouie',\n",
       " '‘There’s a Great Deal of Danger’: Four Opinion Writers on the G.O.P. Fringe',\n",
       " 'John McWhorter',\n",
       " 'Ketanji Brown Jackson Has an ‘African’ Name. I Wish We Knew More About It.',\n",
       " 'Some of the Biggest Brands Are Leaving Russia. Others Just Can’t Quit Putin. Here’s a List.',\n",
       " 'Christine Emba',\n",
       " 'Straight People Need Better Rules for Sex',\n",
       " 'Paul Krugman',\n",
       " 'How Germany Became Putin’s Enabler',\n",
       " 'Peter Coy',\n",
       " 'Why Does a Hair Braider Need a License?',\n",
       " 'Frank Bruni',\n",
       " 'Republicans’ Fresh Fixation on Vintage Homophobia',\n",
       " 'Judge Jackson’s Confirmation to the Court: ‘It Lifts My Heart’',\n",
       " '‘Sway’',\n",
       " 'How Elon Musk’s ‘Soft Power’ Might Shape Twitter’s Future',\n",
       " 'Farhad Manjoo',\n",
       " 'We May Be Able to Prevent Some Mass Shootings',\n",
       " 'The ‘Consummate’ London Restaurateur Is Briskly Shown the Exit',\n",
       " 'Your eyes aren’t deceiving you — golfers are wearing Jordans.',\n",
       " 'Meet WordleBot, your new daily Wordle companion.',\n",
       " 'Advertisement',\n",
       " 'Your Friday Evening Briefing',\n",
       " 'Listen to Times Articles, Narrated for You',\n",
       " 'Listen to ‘The Daily’',\n",
       " 'Read Our Cooking Newsletter',\n",
       " 'Hochul Emerges From Budget Talks Unbowed, but Not Unscathed',\n",
       " 'Tiger Woods Has Bumpy Second Round at the Masters',\n",
       " 'Alabama Governor Signs Ban on Transition Care for Transgender Youth',\n",
       " 'Major Cheese Heist Puts Dutch Dairy Farmers on Alert',\n",
       " 'SpaceX and NASA Launch First Private Mission to the Space Station',\n",
       " 'A ‘New Era of Air Pollution’ in the Tropics Could Have a Huge Toll',\n",
       " '11 Set Up Hundreds of Sham Marriages for Green Card Seekers, U.S. Says',\n",
       " 'Amazon Says Landmark Staten Island Union Vote Should Be Thrown Out',\n",
       " 'Georgia Inmate Is Charged in Soldier’s Killing 40 Years Later',\n",
       " 'Officials Say Russian Art, Seized by Finns, Should Return Home',\n",
       " 'With New York District Lines On Hold, Judge Blesses Possible Backup Plan',\n",
       " 'As Police Make Arrests in One Bronx Shooting, a Teen Is Slain in Another',\n",
       " 'A Private War: Why PTSD Is Still Overlooked',\n",
       " 'In Defense of Melancholy',\n",
       " 'A Self Check-In for Mental Health',\n",
       " 'The Messy Truth About Teen Girls and Instagram',\n",
       " 'An Overlooked Cure for Loneliness',\n",
       " 'Advertisement',\n",
       " 'A Novelist Revisits Her ‘Haunted’ Childhood Home',\n",
       " 'Germany Reckons With Wagner: Cultural Jewel, or National Shame?',\n",
       " 'For the Yankees, a Day Finishes Better Than It Started',\n",
       " 'Five International Movies to Stream Now',\n",
       " 'In an Orange Grove in India, a Preamble to a Coming Hotel',\n",
       " 'Advertisement',\n",
       " 'Spelling Bee',\n",
       " 'The Crossword',\n",
       " 'Letter Boxed',\n",
       " 'Tiles',\n",
       " 'Vertex']"
      ]
     },
     "execution_count": 21,
     "metadata": {},
     "output_type": "execute_result"
    }
   ],
   "source": [
    "url = 'https://www.nytimes.com/'\n",
    "def exercise_17(url):\n",
    "    \n",
    "    r = requests.get(url)\n",
    "    r_html = r.text\n",
    "    soup = BeautifulSoup(r_html)\n",
    "    #soup #para jerarquizar de una mejor manera y poder leer mejor el txt del request\n",
    "    tags = soup.find_all(['h3','h1'])\n",
    "    tags_list = [tag.string for tag in tags]\n",
    "    #for tag in tags:\n",
    "    #    print(tag.string)\n",
    "\n",
    "    return tags_list\n",
    "\n",
    "exercise_17(url)"
   ]
  },
  {
   "cell_type": "code",
   "execution_count": 33,
   "metadata": {},
   "outputs": [],
   "source": [
    "#EXERCISE 18 \n",
    "#Create a program that will play the “cows and bulls” game with the user.\n",
    "#Randomly generate a 4-digit number. Ask the user to guess a 4-digit number. For every digit that the user guessed correctly in the correct place, they have a “cow”.\n",
    "#For every digit the user guessed correctly in the wrong place is a “bull.”"
   ]
  },
  {
   "cell_type": "code",
   "execution_count": 23,
   "metadata": {},
   "outputs": [
    {
     "name": "stdout",
     "output_type": "stream",
     "text": [
      "Enter a number of 4 digits: 1111\n",
      "0 cows, 4 bulls\n",
      "Enter another number: 4200\n",
      "0 cows, 4 bulls\n",
      "Enter another number: 3333\n",
      "2 cows, 2 bulls\n",
      "Enter another number: 3344\n",
      "1 cows, 3 bulls\n",
      "Enter another number: 3555\n",
      "0 cows, 4 bulls\n",
      "Enter another number: 1331\n",
      "2 cows, 2 bulls\n",
      "Enter another number: 4339\n",
      "2 cows, 2 bulls\n",
      "Enter another number: 5338\n",
      "2 cows, 2 bulls\n",
      "Enter another number: 6337\n",
      "3 cows, 1 bulls\n",
      "Enter another number: 6331\n",
      "2 cows, 2 bulls\n",
      "Enter another number: 1337\n",
      "3 cows, 1 bulls\n",
      "Enter another number: 2337\n",
      "3 cows, 1 bulls\n",
      "Enter another number: 7337\n",
      "3 cows, 1 bulls\n",
      "Enter another number: 8337\n",
      "4 cows, 0 bulls\n",
      "You won!, the number was: 8337. Tooks you 14 tries\n"
     ]
    }
   ],
   "source": [
    "import random\n",
    "\n",
    "def exercise_18():\n",
    "    cow = 0\n",
    "    bull = 0\n",
    "    tries = 1\n",
    "    random_num = random.randint(1000,9999)\n",
    "    guess = int(input('Enter a number of 4 digits: '))\n",
    "    assert guess > 999 and guess <10000, 'The number must have 4 digits'\n",
    "    #print(random_num) para probar!\n",
    "    random_num_split = [int(i) for i in str(random_num)]\n",
    "    while True:\n",
    "        guess_split = [int(i) for i in str(guess)]\n",
    "        aux = 0 #for the guess array        \n",
    "        for digit in random_num_split:\n",
    "            if digit == guess_split[aux]:\n",
    "                cow += 1\n",
    "            else:\n",
    "                bull +=1\n",
    "            aux+=1\n",
    "        print(f'{cow} cows, {bull} bulls')\n",
    "        if cow == 4:\n",
    "            print(f'You won!, the number was: {random_num}. Tooks you {tries} tries')\n",
    "            break\n",
    "            \n",
    "        guess = int(input('Enter another number: '))\n",
    "        assert guess > 999 and guess <10000, 'The number must have 4 digits'\n",
    "        cow = 0 \n",
    "        bull = 0\n",
    "        tries += 1\n",
    "\n",
    "exercise_18()"
   ]
  },
  {
   "cell_type": "code",
   "execution_count": 54,
   "metadata": {},
   "outputs": [],
   "source": [
    "#EXERCISE 19\n",
    "#Using the requests and BeautifulSoup Python libraries, print to the screen the full text of the article\n",
    "#on this website: http://www.vanityfair.com/society/2014/06/monica-lewinsky-humiliation-culture."
   ]
  },
  {
   "cell_type": "code",
   "execution_count": 24,
   "metadata": {
    "scrolled": false
   },
   "outputs": [
    {
     "name": "stdout",
     "output_type": "stream",
     "text": [
      "‘How does it feel to be America’s premier blow-job queen?”It was early 2001. I was sitting on the stage of New York’s Cooper Union in the middle of taping a Q&A for an HBO documentary. I was the subject. And I was thunderstruck.Hundreds of people in the audience, mostly students, were staring at me, many with their mouths agape, wondering if I would dare to answer this question.The main reason I had agreed to participate in the program was not to rehash or revise the story line of Interngate but to try to shift the focus to meaningful issues. Many troubling political and judicial questions had been brought to light by the investigation and impeachment of President Bill Clinton. But the most egregious had been generally ignored. People seemed indifferent to the deeper matters at hand, such as the erosion of private life in the public sphere, the balance of power and gender inequality in politics and media, and the erosion of legal protections to ensure that neither a parent nor a child should ever have to testify against each other.How naïve I was.There were gasps and sputters from the audience. Numerous blurred, faceless people called out, “Don’t answer it!”“It’s hurtful and it’s insulting,” I said, attempting to gather my wits. “And as insulting as it is to me, it’s even more insulting to my family. I don’t actually know why this whole story became about oral sex. I don’t. It was a mutual relationship.… The fact that it did is maybe a result of a male-dominated society.”The audience laughed. Maybe they were surprised to hear these words coming from me.I looked straight at the smirking guy who had asked the question. “You might be better poised to answer that.” After a pause, I added, “That’s probably cost me another year of therapy.”You could argue that in agreeing to participate in an HBO documentary called Monica in Black and White I had signed up to be shamed and publicly humiliated yet again. You might even think I would have been inured to humiliation. This encounter at Cooper Union, after all, paled in comparison with the 445-page Starr Report, which was the culmination of independent counsel Kenneth Starr’s four-year investigation of the Clinton White House. It included chapter and verse about my intimate sexual activities, along with transcripts of audiotapes that chronicled many of my private conversations. But the “B.J. Queen” question—which was included in the show when it aired on HBO in 2002—sat with me for a long time after the audience left and the taping wrapped.True, this wasn’t the first time I’d been stigmatized for my affair with Bill Clinton. But never had I been so directly confronted, one-on-one, with such a crass characterization. One of the unintended consequences of my agreeing to put myself out there and to try to tell the truth had been that shame would once again be hung around my neck like a scarlet-A albatross. Believe me, once it’s on, it is a bitch to take off.Had that awkward moment at Cooper Union aired only a few years later, with the advent of social media, the humiliation would have been even more devastating. That clip would have gone viral on Twitter, YouTube, Facebook, TMZ, Gawker. It would have become a meme of its own on Tumblr. The viralness itself would have merited mention on the Daily Beast and Huffington Post. As it was, it was viral enough, and, thanks to the all-encompassing nature of the Web, you can, 12 years later, watch it all day long on YouTube if you want to (but I really hope you have better things to do with your time).\n",
      "I know I’m not alone when it comes to public humiliation. No one, it seems, can escape the unforgiving gaze of the Internet, where gossip, half-truths, and lies take root and fester. We have created, to borrow a term from historian Nicolaus Mills, a “culture of humiliation” that not only encourages and revels in Schadenfreude but also rewards those who humiliate others, from the ranks of the paparazzi to the gossip bloggers, the late-night comedians, and the Web “entrepreneurs” who profit from clandestine videos.Yes, we’re all connected now. We can tweet a revolution in the streets or chronicle achievements large and small. But we’re also caught in a feedback loop of defame and shame, one in which we have become both perps and victims. We may not have become a crueler society—although it sure feels as if we have—but the Internet has seismically shifted the tone of our interactions. The ease, the speed, and the distance that our electronic devices afford us can also make us colder, more glib, and less concerned about the consequences of our pranks and prejudice. Having lived humiliation in the most intimate possible way, I marvel at how willingly we have all signed on to this new way of being.In my own case, each easy click of that YouTube link reinforces the archetype, despite my efforts to parry it away: Me, America’s B.J. Queen. That Intern. That Vixen. Or, in the inescapable phrase of our 42nd president, “That Woman.”It may surprise you to learn that I’m actually a person.WATCH: Dealing with Trauma in the Public Eye with Hannah Gadsby and Monica LewinskyIn 1998, when news of my affair with Bill Clinton broke, I was arguably the most humiliated person in the world. Thanks to the Drudge Report, I was also possibly the first person whose global humiliation was driven by the Internet.For several years I tried my hand in the fashion-accessory business and became involved in various media projects, including the HBO documentary. Then I lay low for the most part. (The last major interview I granted was 10 years ago.) After all, not lying low had exposed me to criticism for trying to “capitalize” on my “notoriety.” Apparently, others talking about me is O.K.; me speaking out for myself is not. I turned down offers that would have earned me more than $10 million, because they didn’t feel like the right thing to do. Over time, the media circus quieted down, but it never quite moved on, even as I attempted to move on.\n",
      "Meanwhile, I watched my friends’ lives move forward. Marriages. Kids. Degrees. (Second marriages. More kids. More degrees.) I decided to turn over a new leaf and attend grad school.I moved to England to study, to challenge myself, to escape scrutiny, and to reimagine my identity. My professors and fellow students at the London School of Economics were wonderful—welcoming and respectful. I had more anonymity in London, perhaps due to the fact that I spent most of my waking hours in class or buried in the library. In 2006, I graduated with a master’s in social psychology. My master’s thesis examined social bias in the courtroom and was titled “In Search of the Impartial Juror: An Exploration of Pretrial Publicity and the Third Person Effect.” I liked to joke that I was trading the blue dress for blue stockings, and the degree provided new scaffolding to hang my life experiences on. It would also prove, so I hoped, to be a gateway to a more normal life.I moved between London, Los Angeles, New York, and Portland, Oregon, interviewing for a variety of jobs that fell under the umbrella of “creative communication” and “branding,” with an emphasis on charity campaigns. Yet, because of what potential employers so tactfully referred to as my “history,” I was never “quite right” for the position. In some cases, I was right for all the wrong reasons, as in “Of course, your job would require you to attend our events.” And, of course, these would be events at which press would be in attendance.In one promising job interview that took place during the run-up to the 2008 primary season, the conversation took an interesting turn. “So here’s the thing, Monica,” the interviewer said. “You’re clearly a bright young woman and affable, but for us—and probably any other organization that relies on grants and other government funding—it’s risky. We would first need a Letter of Indemnification from the Clintons. After all, there is a 25 percent chance that Mrs. Clinton will be the next president.” I gave a fake smile and said, “I understand.”Another job interview, this one typical: walked into the stark, terminally cool reception area of a hip-yet-prestigious advertising agency in Los Angeles, my hometown. As always, I put on my best “I’m friendly, not a diva” smile. “Hi. Monica Lewinsky here to see So-and-So.”The twentysomething receptionist pushed her black-rimmed hipster frames up her nose. “Monica who?”Before I could answer, another twentysomething, in skinny jeans, plaid shirt, and bow tie, rushed over and interrupted: “ Ms. Lewinsky.” Like a maître d’, he continued, “Pleasure to have you here. I’ll let So-and-So know you’ve arrived. Soy latte? Green tea? Filtered water?”I found myself sitting at a small round table, face-to-face with So-and-So, the agency’s head of strategy and planning. We talked. She kept wincing. This was not going well. I tried to keep myself from getting flustered. Now she was not only wincing but also clearing her throat. Was that perspiration on her brow? It hit me: she was nervous, in full-tic mode.\n",
      "I’ve had to become adept at handling any number of reactions in social situations and job interviews. I get it: it must be disconcerting to sit across from “That Woman.” Needless to say, I didn’t get the position.I eventually came to realize that traditional employment might not be an option for me. I’ve managed to get by (barely, at times) with my own projects, usually with start-ups that I have participated in, or with loans from friends and family.In another job interview I was asked, “If you were a brand, which brand would you be?” Let me tell you, when you’re Monica Lewinsky, that is one loaded question.In September of 2010, the culmination of these experiences began to snap into a broader context for me. A phone conversation with my mother shifted the lens through which I viewed my world. We were discussing the tragic death of Tyler Clementi. Tyler, you will recall, was an 18-year-old Rutgers freshman who was secretly streamed via Webcam kissing another man. Days later, after being derided and humiliated on social media, he committed suicide by jumping off the George Washington Bridge.My mom wept. Sobbing, she kept repeating over and over, “How his parents must feel … his poor parents.”It was an unbearably tragic event, and while hearing of it brought me to tears, too, I couldn’t quite grasp why my mom was so distraught. And then it dawned on me: she was reliving 1998, when she wouldn’t let me out of her sight. She was replaying those weeks when she stayed by my bed, night after night, because I, too, was suicidal. The shame, the scorn, and the fear that had been thrown at her daughter left her afraid that I would take my own life—a fear that I would be literally humiliated to death. (I have never actually attempted suicide, but I had strong suicidal temptations several times during the investigations and during one or two periods after.)I would never be so presumptuous as to equate my own story with Tyler Clementi’s. After all, my public humiliation had been the result of my involvement with a world-renowned public figure—that is, a consequence of my own poor choices. But in that moment, when I felt the depths of my mother’s anguish, I wished I could have had a chance to have spoken to Tyler about how my love life, my sex life, my most private moments, my most sensitive secrets, had been broadcast around the globe. I wished I had been able to say to him that I knew a little of how it might have felt for him to be exposed before the world. And, as hard as it is to imagine surviving it, it is possible.In the wake of Tyler’s tragedy, my own suffering took on a different meaning. Perhaps by sharing my story, I reasoned, I might be able to help others in their darkest moments of humiliation. The question became: How do I find and give a purpose to my past? It was my Prufrockian moment: “Do I dare / Disturb the universe?” Or, in my case, the Clinton universe.Despite a decade of self-imposed silence, I have been periodically resuscitated as part of the national conversation, almost always in connection with the Clintons. For instance, in January and February of this year, Rand Paul, the Kentucky senator and a possible 2016 Republican presidential aspirant, managed to drag me into the pre-election muck. He fought back against the Democrats’ charges of a G.O.P. “war on women” by arguing that Bill Clinton had committed workplace “violence” and acted in a “predatory” manner against “a 20-year-old girl who was there from college.”Sure, my boss took advantage of me, but I will always remain firm on this point: it was a consensual relationship. Any “abuse” came in the aftermath, when I was made a scapegoat in order to protect his powerful position.So, trying to disappear has not kept me out of the fray. I am, for better or for worse, presumed to be a known quantity. Every day I am recognized. Every day. Sometimes a person will walk past me again and again, as if I wouldn’t notice. (Thankfully, 99.9 percent of the time when strangers do say something to me they are supportive and respectful.) Every day someone mentions me in a tweet or a blog post, and not altogether kindly. Every day, it seems, my name shows up in an op-ed column or a press clip or two—mentioned in passing in articles on subjects as disparate as millennials, Scandal, and French president François Hollande’s love life. Miley Cyrus references me in her twerking stage act, Eminem raps about me, and Beyoncé’s latest hit gives me a shout-out. Thanks, Beyoncé, but if we’re verbing, I think you meant “Bill Clinton’d all on my gown,” not “Monica Lewinsky’d.”\n",
      "With every man I date (yes, I date!), I go through some degree of 1998 whiplash. I need to be extremely circumspect about what it means to be “public” with someone. In the early years post-impeachment, I once left a front-row seat along the third-base line at a Yankees game when I learned that my date—a guy whose company I thoroughly enjoyed—was actually in another relationship. It was only a green-card marriage, but I freaked that we could be photographed together and someone might call the gossip rags. I’ve become adept at figuring out when men are interested in me for the wrong reason. Thankfully, those have been few and far between. But every man that has been special to me over the past 16 years has helped me find another piece of myself—the self that was shattered in 1998. And so, no matter the heartbreak, tears, or disenchantment, I’ll always be grateful to them.In February of this year, around the same time Senator Paul put me back into the unwanted spotlight, I became the “narcissistic loony toon,” the latest twist on Me as Archetype.A snapshot of a scenario I’ve grown all too accustomed to, even as I attempt to move on with my life: A shrill ring interrupts the rhythms of my day. The call—from the doorman of the apartment building where I’m staying in New York—leads me to an exasperated “What? Again?” They’ve reappeared: the paparazzi, like swallows, have returned to the sidewalk outside, pacing and circling and pacing some more.I hit the computer. Time for a little self-Google. (Oh, dear reader, please do not judge.) My heart sinks. There’s an explosion on Google News. I know what this means. Whatever day I’ve planned has been jettisoned. To leave the house—and risk a photo—only ensures that the story will stay alive.The cameras have returned because of the headlines: a conservative Web site has gone poking around the University of Arkansas archive of one of Hillary Clinton’s closest friends and admirers, Diane Blair, and has unearthed a cache of memos from the 1990s. In some of them, Blair, who died in 2000, quotes the former First Lady about her husband’s relationship with me. Though Hillary, according to Blair’s notes, claimed to find her husband’s “lapse” inexcusable, she praised him for trying to “manage someone who was clearly a ‘narcissistic loony toon.’ ”My first thought, as I was getting up to speed: If that’s the worst thing she said, I should be so lucky. Mrs. Clinton, I read, had supposedly confided to Blair that, in part, she blamed herself for her husband’s affair (by being emotionally neglectful) and seemed to forgive him. Although she regarded Bill as having engaged in “gross inappropriate behavior,” the affair was, nonetheless, “consensual (was not a power relationship).”I field the usual calls from friends who lend moral support whenever these volcanic media stories erupt. They diffuse the tension with good-natured teasing: “So, are we changing your monogram to NLT?” I try to ignore the former First Lady’s long-buried comments. Given my experiences with Linda Tripp, I know better than anyone what it’s like to have a conversation with a girlfriend exposed and scrutinized, taken out of context. But, even so, it begins to gnaw at me. I realize that Hillary Clinton was—unlike me when Tripp was prying loose my innermost secrets and insecurities and recording them surreptitiously—fully aware of this documentation: she’s the one who, according to the memos, asked Blair to keep a record or diary of their discussions for archival purposes.\n",
      "Yes, I get it. Hillary Clinton wanted it on record that she was lashing out at her husband’s mistress. She may have faulted her husband for being inappropriate, but I find her impulse to blame the Woman—not only me, but herself—troubling. And all too familiar: with every marital indiscretion that finds its way into the public sphere—many of which involve male politicians—it always seems like the woman conveniently takes the fall. Sure, the Anthony Weiners and Eliot Spitzers do what they need to do to look humiliated on cable news. They bow out of public life for a while, but they inevitably return, having put it all behind them. The women in these imbroglios return to lives that are not so easily repaired.But there is another layer here that is making me bristle: Narcissist? Loony?You might remember that just five days before the world had ever heard my name the F.B.I.—after my friend Linda Tripp approached Special Prosecutor Kenneth Starr’s office with information about my affair with the president—entrapped me in a terrifying “sting” in the Pentagon City mall. At age 24, cornered in a hotel room on January 16, 1998, with mainly male interrogators taking orders from Starr, I was discouraged from contacting my attorney and threatened with 27 years in jail for filing an affidavit denying the affair with Clinton, among other alleged crimes. I was offered immunity from that threat if I agreed to place monitored calls and wear a wire in conversations with two of the president’s confidants and possibly the president himself. I refused. Confiding in Linda Tripp turned into an unintended betrayal. But this? The mother of all betrayals. That, I couldn’t do. Courageous or foolish, maybe, but narcissistic and loony?These 16-year-old descriptions of me triggered memories of past anguish, particularly in the area of women lobbing derision at one another. So where, you might be wondering, were the feminists back then?It’s a question that troubles me to this day.I sorely wished for some sign of understanding from the feminist camp. Some good, old-fashioned, girl-on-girl support was much in need. None came. Given the issues at play—gender politics, sex in the workplace—you’d think they would have spoken up. They didn’t. I understood their dilemma: Bill Clinton had been a president “friendly” to women’s causes.It also didn’t help that my case was not one of conventional “sexual harassment”; that charge against Bill Clinton had been made by Paula Jones, who brought a colossal lawsuit against him. My name surfaced only because, thanks to newly won advances by feminists, investigations of such cases were now allowed to cast a wider net. The Jones case became a stick that the right wing used to strike back at the Clinton-supporting feminists: Why wouldn’t they enthusiastically support an investigation into a case of sexual harassment? What if the president had been a Republican? Charges of hypocrisy flew.A handful of representatives of the modern feminist movement did chime in, obliquely. Yet, instead of any meaningful engagement, we got this: January 30, 1998. Day Nine of the scandal. Cocktails at Le Bernardin, in Manhattan. In attendance: writers Erica Jong, Nancy Friday, Katie Roiphe, and Elizabeth Benedict; Saturday Night Live writer Patricia Marx; Marisa Bowe, the editor of Word, an online magazine; fashion designer Nicole Miller; former dominatrix Susan Shellogg; and their host, Le Bernardin co-owner Maguy Le Coze. The New York Observer brought this coven together to trade Interngate insights, to be recorded by Francine Prose. (Sadly, the gal who would really make this coven complete is missing: Maureen Dowd, or Moremean Dowdy, as I used to refer to her. Today, I’d meet her for a drink.)\n",
      "Oh, to have been at that cocktail party:Marisa Bowe: His whole life is about having to be in control and really intelligent all the time. And his wife is really intelligent and in control all the time. And the idea of just having stupid sex with some not-brilliant woman in the Oval Office, I can see the appeal in that.Imaginary Me: I’m not saying I’m brilliant, but how do you know I’m not? My first job out of college was at the White House.Susan Shellogg: And do you think it’s tremendously selfish? Selfish and demanding, having oral sex and not reciprocating? I mean … she didn’t say, “Well, you know he satisfied me.”Me: And where exactly “didn’t” I say this? In which public statement that I didn’t make? In which testimony that’s not been released?Katie Roiphe: I think what people are outraged about is the way that [Monica Lewinsky] looks, which is interesting. Because we like to think of our presidents as sort of godlike, and so if J.F.K. has an affair with Marilyn Monroe, it’s all in the realm of the demigods…. I mean, the thing I kept hearing over and over again was Monica Lewinsky’s not that pretty.Me: Well, thanks. The first picture that surfaced was a passport photo. Would you like to have a passport photo splattered across publications around the world as the picture that defines you?What you are also saying here is that the primary quality that would qualify a woman to have an intimate relationship with a powerful man is physical attractiveness. If that’s not setting the movement back, I don’t know what is.Erica Jong: My dental hygienist pointed out that she had third-stage gum disease.Shellogg: What do you think will happen to [her]? I mean, she’ll just fade out quietly or write a book? Or people will forget about her six months from now?Nancy Friday: She can rent out her mouth.Me: (Speechless.)Jong: But, you know, men do like to get close to the mouth that has been close to power. Think of the fantasy in the man’s mind as she’s going down on him and he’s thinking, “Oh my God.”Elizabeth Benedict: Do for me what you did to the President. Do that.Me: (Still speechless.)Jong: I think it’s a tribute to how far we’ve come that we’re not trashing Monica Lewinsky.The catty confab appeared under the headline SUPERGALS LOVE THAT NAUGHTY PREZ. (Writing in Vanity Fair, Marjorie Williams called it “the most embarrassing thing I had read in a long time.”) To me, it illustrates a perplexing aspect of the culture of humiliation, one that Phyllis Chesler recognized in her book Woman’s Inhumanity to Woman: that women themselves are not immune to certain kinds of misogyny. We see it today in how the “mean girls” at school lurk on the modern playground of the Web (or around a pundit’s roundtable on TV or at a French restaurant), ever eager to pile on.\n",
      "I still have deep respect for feminism and am thankful for the great strides the movement has made in advancing women’s rights over the past few decades. But, given my experience of being passed around like gender-politics cocktail food, I don’t identify myself as a Feminist, capital F. The movement’s leaders failed in articulating a position that was not essentially anti-woman during the witch hunt of 1998. In the case of the New York Supergals, it should not have been that hard for them to swoon over the president without attacking and shaming me. Instead, they joined the humiliation derby.I , myself, deeply regret what happened between me and President Clinton. Let me say it again: I. Myself. Deeply. Regret. What. Happened. At the time—at least from my point of view—it was an authentic connection, with emotional intimacy, frequent visits, plans made, phone calls and gifts exchanged. In my early 20s, I was too young to understand the real-life consequences, and too young to see that I would be sacrificed for political expediency. I look back now, shake my head in disbelief, and wonder: what was I—what were we—thinking? I would give anything to go back and rewind the tape.Like many other Americans, I’ve been thinking about Hillary Clinton. What might happen, I’ve wondered, if she does run in 2016? And what if she wins—and then wins a second term?But when I think about these matters, there’s a dimension at play for me other than just the fact that we might finally have a woman in the White House. We all remember the second-wave feminist rallying cry The personal is political. Many people (myself included) proclaimed that my relationship with Bill Clinton was a personal matter, not one to be used in a high-stakes political war. When I hear of Hillary’s prospective candidacy, I cannot help but fear the next wave of paparazzi, the next wave of “Where is she now?” stories, the next reference to me in Fox News’s coverage of the primaries. I’ve begun to find it debilitating to plot out the cycle of my life based, to some degree, on the political calendar. For me, it’s a scenario in which the personal and the political are impossible to separate.In 2008, when Hillary was running for president, I remained virtually reclusive, despite being inundated with press requests. I put off announcing several media projects in 2012 until after the election. (They were subsequently canceled—and, no, I wasn’t offered $12 million for a salacious tell-all book, contrary to press reports.) And recently I’ve found myself gun-shy yet again, fearful of “becoming an issue” should she decide to ramp up her campaign. But should I put my life on hold for another 8 to 10 years?Being a conscientious Democrat—and aware that I could be used as a tool for the left or the right—I have remained silent for 10 years. So silent, in fact, that the buzz in some circles has been that the Clintons must have paid me off; why else would I have refrained from speaking out? I can assure you that nothing could be further from the truth.So why speak now? Because it is time.I turned 40 last year, and it is time to stop tiptoeing around my past—and other people’s futures. I am determined to have a different ending to my story. I’ve decided, finally, to stick my head above the parapet so that I can take back my narrative and give a purpose to my past. (What this will cost me, I will soon find out.) Despite what some headlines will falsely report about this piece, this is not about Me versus the Clintons. Their lives have moved on; they occupy important and powerful places on the global stage. I wish them no ill. And I fully understand that what has happened to me and the issue of my future do not matter to either of them.It also goes back to the personal and the political. I have lived many of the questions that have become central to our national discourse since 1998. How far should we allow the government into our bedrooms? How do we reconcile the right to privacy with the need to expose sexual indiscretion? How do we guard against an overzealous government demanding our private data and information? And, most important to me personally, how do we cope with the shame game as it’s played in the Internet Age? (My current goal is to get involved with efforts on behalf of victims of online humiliation and harassment and to start speaking on this topic in public forums.)So far, That Woman has never been able to escape the shadow of that first depiction. I was the Unstable Stalker (a phrase disseminated by the Clinton White House), the Dimwit Floozy, the Poor Innocent who didn’t know any better. The Clinton administration, the special prosecutor’s minions, the political operatives on both sides of the aisle, and the media were able to brand me. And that brand stuck, in part because it was imbued with power. I became a social representation, a social canvas on which anybody could project their confusion about women, sex, infidelity, politics, and body issues.Unlike the other parties involved, I was so young that I had no established identity to which I could return. I didn’t “let this define” me—I simply hadn’t had the life experience to establish my own identity in 1998. If you haven’t figured out who you are, it’s hard not to accept the horrible image of you created by others. (Thus, my compassion for young people who find themselves shamed on the Web.) Despite much self-searching and therapy and exploring of different paths, I remained “stuck” for far too many years.No longer. It’s time to burn the beret and bury the blue dress. And move forward.Monica Lewinsky Is Back1 / 5ChevronChevron\n"
     ]
    }
   ],
   "source": [
    "#aca estoy volviendo a importar las librs\n",
    "from bs4 import BeautifulSoup\n",
    "import requests\n",
    "\n",
    "url2 = 'https://www.vanityfair.com/style/society/2014/06/monica-lewinsky-humiliation-culture'\n",
    "r2 = requests.get(url2)\n",
    "r2_html = r2.text\n",
    "soup = BeautifulSoup(r2_html)\n",
    "#soup\n",
    "body_text = soup.find_all(\"div\", {\"class\":\"body__inner-container\"})\n",
    "for t in body_text:\n",
    "    print(t.text)"
   ]
  },
  {
   "cell_type": "code",
   "execution_count": 56,
   "metadata": {},
   "outputs": [],
   "source": [
    "#EXERCISE 20\n",
    "#Write a function that takes an ordered list of numbers (a list where the elements are in order from smallest to largest)\n",
    "#and another number. The function decides whether or not the given number is inside the list and returns (then prints) \n",
    "#an appropriate boolean.\n",
    "#Extras:\n",
    "#Use binary search."
   ]
  },
  {
   "cell_type": "code",
   "execution_count": 25,
   "metadata": {},
   "outputs": [
    {
     "data": {
      "text/plain": [
       "True"
      ]
     },
     "execution_count": 25,
     "metadata": {},
     "output_type": "execute_result"
    },
    {
     "data": {
      "text/plain": [
       "True"
      ]
     },
     "execution_count": 25,
     "metadata": {},
     "output_type": "execute_result"
    }
   ],
   "source": [
    "a = [1, 3, 5, 30, 42, 43, 500]\n",
    "number = 20\n",
    "def exercise_20a(a,number):   #se puede hacer con sets tb, mas facil!\n",
    "    for n in a:\n",
    "        if n==number:\n",
    "            return True\n",
    "    return False\n",
    "\n",
    "def exercise_20b(a,number): #binary search\n",
    "    a_aux = a\n",
    "    while True:   \n",
    "        mid = len(a_aux)//2\n",
    "        if number == a_aux[mid]:\n",
    "            return True\n",
    "\n",
    "        if mid == 0:\n",
    "            if number == a_aux[0]:\n",
    "                return True\n",
    "            else:\n",
    "                return False\n",
    "\n",
    "        if number < a_aux[len(a_aux)//2]:\n",
    "            a_aux = a_aux[:mid]\n",
    "            continue\n",
    "        if number > a_aux[len(a_aux)//2]:\n",
    "            a_aux = a_aux[mid+1:]\n",
    "            continue\n",
    "    \n",
    "\n",
    "exercise_20a(a,1)\n",
    "exercise_20b(a,1)"
   ]
  },
  {
   "cell_type": "code",
   "execution_count": 58,
   "metadata": {},
   "outputs": [],
   "source": [
    "#EXERCISE 21 \n",
    "#Take the code from the How To Decode A Website exercise (ex_17) (if you didn’t do it or just want to play with some different code,\n",
    "#use the code from the solution), and instead of printing the results to a screen, write the results to a txt file. \n",
    "#In your code, just make up a name for the file you are saving to.\n",
    "#Extras:\n",
    "#Ask the user to specify the name of the output file that will be saved."
   ]
  },
  {
   "cell_type": "code",
   "execution_count": 26,
   "metadata": {},
   "outputs": [
    {
     "data": {
      "text/plain": [
       "60"
      ]
     },
     "execution_count": 26,
     "metadata": {},
     "output_type": "execute_result"
    },
    {
     "data": {
      "text/plain": [
       "43"
      ]
     },
     "execution_count": 26,
     "metadata": {},
     "output_type": "execute_result"
    },
    {
     "data": {
      "text/plain": [
       "72"
      ]
     },
     "execution_count": 26,
     "metadata": {},
     "output_type": "execute_result"
    },
    {
     "data": {
      "text/plain": [
       "49"
      ]
     },
     "execution_count": 26,
     "metadata": {},
     "output_type": "execute_result"
    },
    {
     "data": {
      "text/plain": [
       "123"
      ]
     },
     "execution_count": 26,
     "metadata": {},
     "output_type": "execute_result"
    },
    {
     "data": {
      "text/plain": [
       "111"
      ]
     },
     "execution_count": 26,
     "metadata": {},
     "output_type": "execute_result"
    },
    {
     "data": {
      "text/plain": [
       "110"
      ]
     },
     "execution_count": 26,
     "metadata": {},
     "output_type": "execute_result"
    },
    {
     "data": {
      "text/plain": [
       "101"
      ]
     },
     "execution_count": 26,
     "metadata": {},
     "output_type": "execute_result"
    },
    {
     "data": {
      "text/plain": [
       "69"
      ]
     },
     "execution_count": 26,
     "metadata": {},
     "output_type": "execute_result"
    },
    {
     "data": {
      "text/plain": [
       "14"
      ]
     },
     "execution_count": 26,
     "metadata": {},
     "output_type": "execute_result"
    },
    {
     "data": {
      "text/plain": [
       "78"
      ]
     },
     "execution_count": 26,
     "metadata": {},
     "output_type": "execute_result"
    },
    {
     "data": {
      "text/plain": [
       "73"
      ]
     },
     "execution_count": 26,
     "metadata": {},
     "output_type": "execute_result"
    },
    {
     "data": {
      "text/plain": [
       "116"
      ]
     },
     "execution_count": 26,
     "metadata": {},
     "output_type": "execute_result"
    },
    {
     "data": {
      "text/plain": [
       "122"
      ]
     },
     "execution_count": 26,
     "metadata": {},
     "output_type": "execute_result"
    },
    {
     "data": {
      "text/plain": [
       "114"
      ]
     },
     "execution_count": 26,
     "metadata": {},
     "output_type": "execute_result"
    },
    {
     "data": {
      "text/plain": [
       "69"
      ]
     },
     "execution_count": 26,
     "metadata": {},
     "output_type": "execute_result"
    },
    {
     "data": {
      "text/plain": [
       "63"
      ]
     },
     "execution_count": 26,
     "metadata": {},
     "output_type": "execute_result"
    },
    {
     "data": {
      "text/plain": [
       "69"
      ]
     },
     "execution_count": 26,
     "metadata": {},
     "output_type": "execute_result"
    },
    {
     "data": {
      "text/plain": [
       "68"
      ]
     },
     "execution_count": 26,
     "metadata": {},
     "output_type": "execute_result"
    },
    {
     "data": {
      "text/plain": [
       "89"
      ]
     },
     "execution_count": 26,
     "metadata": {},
     "output_type": "execute_result"
    },
    {
     "data": {
      "text/plain": [
       "54"
      ]
     },
     "execution_count": 26,
     "metadata": {},
     "output_type": "execute_result"
    },
    {
     "data": {
      "text/plain": [
       "17"
      ]
     },
     "execution_count": 26,
     "metadata": {},
     "output_type": "execute_result"
    },
    {
     "data": {
      "text/plain": [
       "15"
      ]
     },
     "execution_count": 26,
     "metadata": {},
     "output_type": "execute_result"
    },
    {
     "data": {
      "text/plain": [
       "19"
      ]
     },
     "execution_count": 26,
     "metadata": {},
     "output_type": "execute_result"
    },
    {
     "data": {
      "text/plain": [
       "21"
      ]
     },
     "execution_count": 26,
     "metadata": {},
     "output_type": "execute_result"
    },
    {
     "data": {
      "text/plain": [
       "21"
      ]
     },
     "execution_count": 26,
     "metadata": {},
     "output_type": "execute_result"
    },
    {
     "data": {
      "text/plain": [
       "15"
      ]
     },
     "execution_count": 26,
     "metadata": {},
     "output_type": "execute_result"
    },
    {
     "data": {
      "text/plain": [
       "65"
      ]
     },
     "execution_count": 26,
     "metadata": {},
     "output_type": "execute_result"
    },
    {
     "data": {
      "text/plain": [
       "43"
      ]
     },
     "execution_count": 26,
     "metadata": {},
     "output_type": "execute_result"
    },
    {
     "data": {
      "text/plain": [
       "58"
      ]
     },
     "execution_count": 26,
     "metadata": {},
     "output_type": "execute_result"
    },
    {
     "data": {
      "text/plain": [
       "14"
      ]
     },
     "execution_count": 26,
     "metadata": {},
     "output_type": "execute_result"
    },
    {
     "data": {
      "text/plain": [
       "16"
      ]
     },
     "execution_count": 26,
     "metadata": {},
     "output_type": "execute_result"
    },
    {
     "data": {
      "text/plain": [
       "32"
      ]
     },
     "execution_count": 26,
     "metadata": {},
     "output_type": "execute_result"
    },
    {
     "data": {
      "text/plain": [
       "13"
      ]
     },
     "execution_count": 26,
     "metadata": {},
     "output_type": "execute_result"
    },
    {
     "data": {
      "text/plain": [
       "59"
      ]
     },
     "execution_count": 26,
     "metadata": {},
     "output_type": "execute_result"
    },
    {
     "data": {
      "text/plain": [
       "15"
      ]
     },
     "execution_count": 26,
     "metadata": {},
     "output_type": "execute_result"
    },
    {
     "data": {
      "text/plain": [
       "32"
      ]
     },
     "execution_count": 26,
     "metadata": {},
     "output_type": "execute_result"
    },
    {
     "data": {
      "text/plain": [
       "22"
      ]
     },
     "execution_count": 26,
     "metadata": {},
     "output_type": "execute_result"
    },
    {
     "data": {
      "text/plain": [
       "73"
      ]
     },
     "execution_count": 26,
     "metadata": {},
     "output_type": "execute_result"
    },
    {
     "data": {
      "text/plain": [
       "15"
      ]
     },
     "execution_count": 26,
     "metadata": {},
     "output_type": "execute_result"
    },
    {
     "data": {
      "text/plain": [
       "42"
      ]
     },
     "execution_count": 26,
     "metadata": {},
     "output_type": "execute_result"
    },
    {
     "data": {
      "text/plain": [
       "14"
      ]
     },
     "execution_count": 26,
     "metadata": {},
     "output_type": "execute_result"
    },
    {
     "data": {
      "text/plain": [
       "61"
      ]
     },
     "execution_count": 26,
     "metadata": {},
     "output_type": "execute_result"
    },
    {
     "data": {
      "text/plain": [
       "64"
      ]
     },
     "execution_count": 26,
     "metadata": {},
     "output_type": "execute_result"
    },
    {
     "data": {
      "text/plain": [
       "76"
      ]
     },
     "execution_count": 26,
     "metadata": {},
     "output_type": "execute_result"
    },
    {
     "data": {
      "text/plain": [
       "15"
      ]
     },
     "execution_count": 26,
     "metadata": {},
     "output_type": "execute_result"
    },
    {
     "data": {
      "text/plain": [
       "75"
      ]
     },
     "execution_count": 26,
     "metadata": {},
     "output_type": "execute_result"
    },
    {
     "data": {
      "text/plain": [
       "92"
      ]
     },
     "execution_count": 26,
     "metadata": {},
     "output_type": "execute_result"
    },
    {
     "data": {
      "text/plain": [
       "15"
      ]
     },
     "execution_count": 26,
     "metadata": {},
     "output_type": "execute_result"
    },
    {
     "data": {
      "text/plain": [
       "42"
      ]
     },
     "execution_count": 26,
     "metadata": {},
     "output_type": "execute_result"
    },
    {
     "data": {
      "text/plain": [
       "13"
      ]
     },
     "execution_count": 26,
     "metadata": {},
     "output_type": "execute_result"
    },
    {
     "data": {
      "text/plain": [
       "35"
      ]
     },
     "execution_count": 26,
     "metadata": {},
     "output_type": "execute_result"
    },
    {
     "data": {
      "text/plain": [
       "10"
      ]
     },
     "execution_count": 26,
     "metadata": {},
     "output_type": "execute_result"
    },
    {
     "data": {
      "text/plain": [
       "40"
      ]
     },
     "execution_count": 26,
     "metadata": {},
     "output_type": "execute_result"
    },
    {
     "data": {
      "text/plain": [
       "12"
      ]
     },
     "execution_count": 26,
     "metadata": {},
     "output_type": "execute_result"
    },
    {
     "data": {
      "text/plain": [
       "50"
      ]
     },
     "execution_count": 26,
     "metadata": {},
     "output_type": "execute_result"
    },
    {
     "data": {
      "text/plain": [
       "63"
      ]
     },
     "execution_count": 26,
     "metadata": {},
     "output_type": "execute_result"
    },
    {
     "data": {
      "text/plain": [
       "7"
      ]
     },
     "execution_count": 26,
     "metadata": {},
     "output_type": "execute_result"
    },
    {
     "data": {
      "text/plain": [
       "58"
      ]
     },
     "execution_count": 26,
     "metadata": {},
     "output_type": "execute_result"
    },
    {
     "data": {
      "text/plain": [
       "14"
      ]
     },
     "execution_count": 26,
     "metadata": {},
     "output_type": "execute_result"
    },
    {
     "data": {
      "text/plain": [
       "46"
      ]
     },
     "execution_count": 26,
     "metadata": {},
     "output_type": "execute_result"
    },
    {
     "data": {
      "text/plain": [
       "63"
      ]
     },
     "execution_count": 26,
     "metadata": {},
     "output_type": "execute_result"
    },
    {
     "data": {
      "text/plain": [
       "62"
      ]
     },
     "execution_count": 26,
     "metadata": {},
     "output_type": "execute_result"
    },
    {
     "data": {
      "text/plain": [
       "49"
      ]
     },
     "execution_count": 26,
     "metadata": {},
     "output_type": "execute_result"
    },
    {
     "data": {
      "text/plain": [
       "14"
      ]
     },
     "execution_count": 26,
     "metadata": {},
     "output_type": "execute_result"
    },
    {
     "data": {
      "text/plain": [
       "29"
      ]
     },
     "execution_count": 26,
     "metadata": {},
     "output_type": "execute_result"
    },
    {
     "data": {
      "text/plain": [
       "43"
      ]
     },
     "execution_count": 26,
     "metadata": {},
     "output_type": "execute_result"
    },
    {
     "data": {
      "text/plain": [
       "22"
      ]
     },
     "execution_count": 26,
     "metadata": {},
     "output_type": "execute_result"
    },
    {
     "data": {
      "text/plain": [
       "28"
      ]
     },
     "execution_count": 26,
     "metadata": {},
     "output_type": "execute_result"
    },
    {
     "data": {
      "text/plain": [
       "60"
      ]
     },
     "execution_count": 26,
     "metadata": {},
     "output_type": "execute_result"
    },
    {
     "data": {
      "text/plain": [
       "50"
      ]
     },
     "execution_count": 26,
     "metadata": {},
     "output_type": "execute_result"
    },
    {
     "data": {
      "text/plain": [
       "68"
      ]
     },
     "execution_count": 26,
     "metadata": {},
     "output_type": "execute_result"
    },
    {
     "data": {
      "text/plain": [
       "53"
      ]
     },
     "execution_count": 26,
     "metadata": {},
     "output_type": "execute_result"
    },
    {
     "data": {
      "text/plain": [
       "66"
      ]
     },
     "execution_count": 26,
     "metadata": {},
     "output_type": "execute_result"
    },
    {
     "data": {
      "text/plain": [
       "67"
      ]
     },
     "execution_count": 26,
     "metadata": {},
     "output_type": "execute_result"
    },
    {
     "data": {
      "text/plain": [
       "71"
      ]
     },
     "execution_count": 26,
     "metadata": {},
     "output_type": "execute_result"
    },
    {
     "data": {
      "text/plain": [
       "67"
      ]
     },
     "execution_count": 26,
     "metadata": {},
     "output_type": "execute_result"
    },
    {
     "data": {
      "text/plain": [
       "62"
      ]
     },
     "execution_count": 26,
     "metadata": {},
     "output_type": "execute_result"
    },
    {
     "data": {
      "text/plain": [
       "63"
      ]
     },
     "execution_count": 26,
     "metadata": {},
     "output_type": "execute_result"
    },
    {
     "data": {
      "text/plain": [
       "73"
      ]
     },
     "execution_count": 26,
     "metadata": {},
     "output_type": "execute_result"
    },
    {
     "data": {
      "text/plain": [
       "73"
      ]
     },
     "execution_count": 26,
     "metadata": {},
     "output_type": "execute_result"
    },
    {
     "data": {
      "text/plain": [
       "44"
      ]
     },
     "execution_count": 26,
     "metadata": {},
     "output_type": "execute_result"
    },
    {
     "data": {
      "text/plain": [
       "25"
      ]
     },
     "execution_count": 26,
     "metadata": {},
     "output_type": "execute_result"
    },
    {
     "data": {
      "text/plain": [
       "34"
      ]
     },
     "execution_count": 26,
     "metadata": {},
     "output_type": "execute_result"
    },
    {
     "data": {
      "text/plain": [
       "47"
      ]
     },
     "execution_count": 26,
     "metadata": {},
     "output_type": "execute_result"
    },
    {
     "data": {
      "text/plain": [
       "34"
      ]
     },
     "execution_count": 26,
     "metadata": {},
     "output_type": "execute_result"
    },
    {
     "data": {
      "text/plain": [
       "14"
      ]
     },
     "execution_count": 26,
     "metadata": {},
     "output_type": "execute_result"
    },
    {
     "data": {
      "text/plain": [
       "49"
      ]
     },
     "execution_count": 26,
     "metadata": {},
     "output_type": "execute_result"
    },
    {
     "data": {
      "text/plain": [
       "64"
      ]
     },
     "execution_count": 26,
     "metadata": {},
     "output_type": "execute_result"
    },
    {
     "data": {
      "text/plain": [
       "55"
      ]
     },
     "execution_count": 26,
     "metadata": {},
     "output_type": "execute_result"
    },
    {
     "data": {
      "text/plain": [
       "40"
      ]
     },
     "execution_count": 26,
     "metadata": {},
     "output_type": "execute_result"
    },
    {
     "data": {
      "text/plain": [
       "58"
      ]
     },
     "execution_count": 26,
     "metadata": {},
     "output_type": "execute_result"
    },
    {
     "data": {
      "text/plain": [
       "14"
      ]
     },
     "execution_count": 26,
     "metadata": {},
     "output_type": "execute_result"
    },
    {
     "data": {
      "text/plain": [
       "13"
      ]
     },
     "execution_count": 26,
     "metadata": {},
     "output_type": "execute_result"
    },
    {
     "data": {
      "text/plain": [
       "14"
      ]
     },
     "execution_count": 26,
     "metadata": {},
     "output_type": "execute_result"
    },
    {
     "data": {
      "text/plain": [
       "13"
      ]
     },
     "execution_count": 26,
     "metadata": {},
     "output_type": "execute_result"
    },
    {
     "data": {
      "text/plain": [
       "6"
      ]
     },
     "execution_count": 26,
     "metadata": {},
     "output_type": "execute_result"
    },
    {
     "data": {
      "text/plain": [
       "7"
      ]
     },
     "execution_count": 26,
     "metadata": {},
     "output_type": "execute_result"
    }
   ],
   "source": [
    "titles = exercise_17(url)\n",
    "#titles\n",
    "with open('Exercise_17.txt', 'w') as open_file: #w para write, r para read , r+ read&write\n",
    "    for title in titles:\n",
    "        open_file.write(f'{title}\\n')"
   ]
  },
  {
   "cell_type": "code",
   "execution_count": 60,
   "metadata": {},
   "outputs": [],
   "source": [
    "#EXERCISE 22\n",
    "#Given a .txt file that has a list of a bunch of names, count how many of each name there are in the file, and print out the results to the screen. \n",
    "#I have a .txt file for you, if you want to use it!"
   ]
  },
  {
   "cell_type": "code",
   "execution_count": 27,
   "metadata": {},
   "outputs": [
    {
     "data": {
      "text/plain": [
       "{'Darth': 31, 'Lea': 54, 'Luke': 15}"
      ]
     },
     "execution_count": 27,
     "metadata": {},
     "output_type": "execute_result"
    }
   ],
   "source": [
    "txt = 'nameslist.txt'\n",
    "def exercise_22(txt):   \n",
    "    with open(txt, 'r') as open_file:\n",
    "        all_text = open_file.read()\n",
    "\n",
    "    all_text_split = all_text.split('\\n') #separado por linea\n",
    "    #set(all_text_split) #los nombres\n",
    "    #converting set to dict\n",
    "    names_dict = dict.fromkeys(set(all_text_split),0) #usando el set e igualando a 0 el contador\n",
    "    for name in all_text_split:\n",
    "        #print(name)\n",
    "        if name in names_dict:\n",
    "            names_dict[name] +=1\n",
    "    return names_dict\n",
    "\n",
    "exercise_22(txt)"
   ]
  },
  {
   "cell_type": "code",
   "execution_count": 62,
   "metadata": {},
   "outputs": [],
   "source": [
    "#EXERCISE 23\n",
    "#Given two .txt files that have lists of numbers in them, find the numbers that are overlapping. \n",
    "#One .txt file has a list of all prime numbers under 1000, and the other .txt file has a list of happy numbers up to 1000."
   ]
  },
  {
   "cell_type": "code",
   "execution_count": 28,
   "metadata": {
    "scrolled": true
   },
   "outputs": [
    {
     "name": "stdout",
     "output_type": "stream",
     "text": [
      "The numbers are:\n",
      "7 13 19 23 31 79 97 103 109 139 167 193 239 263 293 313 331 367 379 383 397 409 487 563 617 653 673 683 709 739 761 863 881 907 937\n",
      "A total of 35 numbers overlaped in both lists\n"
     ]
    }
   ],
   "source": [
    "def read_txt(txt_file):\n",
    "    with open(txt_file, 'r') as open_file:\n",
    "        all_text = open_file.read()\n",
    "        all_text_split = all_text.split('\\n') #separado por linea\n",
    "        return all_text_split #en formato list\n",
    "\n",
    "prime_n = read_txt('primenumbers.txt')\n",
    "happy_n = read_txt('happynumbers.txt')\n",
    "\n",
    "def format_str_to_int(list):\n",
    "        return [int(n) for n in list]\n",
    "    \n",
    "def exercise_23(txt1,txt2):\n",
    "    prime_n = read_txt(txt1) #read txt\n",
    "    happy_n = read_txt(txt2)\n",
    "    prime_n_f = format_str_to_int(prime_n) #format str to int\n",
    "    happy_n_f = format_str_to_int(happy_n)\n",
    "    count = 0\n",
    "    numbers_overlap = []\n",
    "    if len(prime_n_f) < len(happy_n_f):\n",
    "        for n in prime_n_f:\n",
    "            if n in set(happy_n_f):\n",
    "                count+=1\n",
    "                numbers_overlap.append(n)\n",
    "    else:\n",
    "        for n in happy_n_f:\n",
    "            if n in set(prime_n_f):\n",
    "                count+=1\n",
    "                numbers_overlap.append(n)\n",
    "    print('The numbers are:')\n",
    "    print(*numbers_overlap)\n",
    "    print(f'A total of {count} numbers overlaped in both lists')\n",
    "         \n",
    "exercise_23('primenumbers.txt', 'happynumbers.txt')    "
   ]
  },
  {
   "cell_type": "code",
   "execution_count": 64,
   "metadata": {},
   "outputs": [],
   "source": [
    "#EXERCISE 24\n",
    "#Ask the user what size game board they want to draw, and draw it for them to the screen using Python’s print statement."
   ]
  },
  {
   "cell_type": "code",
   "execution_count": 29,
   "metadata": {},
   "outputs": [
    {
     "name": "stdout",
     "output_type": "stream",
     "text": [
      "Please select the size of the board: 6\n",
      " ---  ---  ---  ---  ---  --- \n",
      "|    |    |    |    |    |    |    \n",
      " ---  ---  ---  ---  ---  --- \n",
      "|    |    |    |    |    |    |    \n",
      " ---  ---  ---  ---  ---  --- \n",
      "|    |    |    |    |    |    |    \n",
      " ---  ---  ---  ---  ---  --- \n",
      "|    |    |    |    |    |    |    \n",
      " ---  ---  ---  ---  ---  --- \n",
      "|    |    |    |    |    |    |    \n",
      " ---  ---  ---  ---  ---  --- \n",
      "|    |    |    |    |    |    |    \n",
      " ---  ---  ---  ---  ---  --- \n"
     ]
    }
   ],
   "source": [
    "def exercise_24():\n",
    "    n = int(input('Please select the size of the board: '))\n",
    "    lineas_h = ' --- '\n",
    "    lineas_v = '|    '\n",
    "    for i in range(n):\n",
    "        print(lineas_h*n)\n",
    "        print(lineas_v*(n+1))\n",
    "    print(lineas_h*n)\n",
    "\n",
    "exercise_24()"
   ]
  },
  {
   "cell_type": "code",
   "execution_count": 66,
   "metadata": {},
   "outputs": [],
   "source": [
    "#EXERCISE 25\n",
    "#You, the user, will have in your head a number between 0 and 100. \n",
    "#The program will guess a number, and you, the user, will say whether it is too high, too low, or your number.\n",
    "#At the end of this exchange, your program should print out how many guesses it took to get your number."
   ]
  },
  {
   "cell_type": "code",
   "execution_count": 31,
   "metadata": {},
   "outputs": [
    {
     "name": "stdout",
     "output_type": "stream",
     "text": [
      "the secret number is : 71\n",
      "\n",
      "my guess is :37\n",
      "Please tell me if the number is:  higher, lower or write the secret number! if i guessed higher\n",
      "\n",
      "my guess is :69\n",
      "Please tell me if the number is:  higher, lower or write the secret number! if i guessed higher\n",
      "\n",
      "my guess is :85\n",
      "Please tell me if the number is:  higher, lower or write the secret number! if i guessed lower\n",
      "\n",
      "my guess is :77\n",
      "Please tell me if the number is:  higher, lower or write the secret number! if i guessed lower\n",
      "\n",
      "my guess is :73\n",
      "Please tell me if the number is:  higher, lower or write the secret number! if i guessed lower\n",
      "\n",
      "my guess is :71\n",
      "Please tell me if the number is:  higher, lower or write the secret number! if i guessed 71\n",
      "\n",
      "you found it!, the number was: 71 and took you 6 guesses\n"
     ]
    }
   ],
   "source": [
    "import random\n",
    "\n",
    "secret_num = random.randint(0,100)\n",
    "print(f'the secret number is : {secret_num}\\n')\n",
    "#version pidiendo por input\n",
    "def exercise_25(secret_num):\n",
    "    num = random.randint(0,100)\n",
    "    min_n = 0\n",
    "    max_n = 100\n",
    "    count = 1 \n",
    "    while True:\n",
    "        print(f'my guess is :{num}')\n",
    "        input_num = input('Please tell me if the number is:  higher, lower or write the secret number! if i guessed ')\n",
    "        print('')\n",
    "        if input_num == 'lower':\n",
    "            count += 1\n",
    "            max_n = num\n",
    "            num = (min_n+max_n)//2\n",
    "\n",
    "        if input_num == 'higher':\n",
    "            count += 1\n",
    "            min_n = num\n",
    "            num = (min_n+max_n)//2+1\n",
    "\n",
    "        if input_num == str(num):\n",
    "            print(f'you found it!, the number was: {input_num} and took you {count} guesses')\n",
    "            break\n",
    "            \n",
    "exercise_25(secret_num)"
   ]
  },
  {
   "cell_type": "code",
   "execution_count": 32,
   "metadata": {
    "scrolled": true
   },
   "outputs": [
    {
     "data": {
      "text/plain": [
       "6"
      ]
     },
     "execution_count": 32,
     "metadata": {},
     "output_type": "execute_result"
    }
   ],
   "source": [
    "#version automatizada para ver hacer experimento (simulacion)\n",
    "def exercise_25_sim():\n",
    "    secret_num = random.randint(0,100)\n",
    "    #print(secret_num)\n",
    "    num = random.randint(0,100)\n",
    "    min_n = 0\n",
    "    max_n = 100\n",
    "    count = 0 \n",
    "    while True:\n",
    "        #print(f'my guess is :{num}')        \n",
    "        #input_num = input('Please tell me if the number is:  higher, lower or write the secret number! if i guessed ')\n",
    "        #print('')\n",
    "        count +=1\n",
    "        if num == secret_num:\n",
    "            #print(f'you found it!, the number was: {secret_num} and took you {count} guesses')\n",
    "            break\n",
    "            \n",
    "        if num > secret_num: #lower\n",
    "            \n",
    "            max_n = num\n",
    "            num = (min_n+max_n)//2\n",
    "\n",
    "        if num < secret_num: #higher\n",
    "            \n",
    "            min_n = num\n",
    "            num = (min_n+max_n)//2+1\n",
    "    return count\n",
    "            \n",
    "exercise_25_sim() #solo retorna la cantidad de veces que se demoró en encontrar el numero."
   ]
  },
  {
   "cell_type": "code",
   "execution_count": 33,
   "metadata": {},
   "outputs": [
    {
     "data": {
      "text/plain": [
       "(array([ 110.,  288.,  707., 1689., 2638., 2926., 1519.,  123.]),\n",
       " array([1, 2, 3, 4, 5, 6, 7, 8, 9]),\n",
       " <BarContainer object of 8 artists>)"
      ]
     },
     "execution_count": 33,
     "metadata": {},
     "output_type": "execute_result"
    },
    {
     "data": {
      "text/plain": [
       "Text(0.5, 0, 'number of guesses until find number')"
      ]
     },
     "execution_count": 33,
     "metadata": {},
     "output_type": "execute_result"
    },
    {
     "data": {
      "text/plain": [
       "Text(0, 0.5, 'count')"
      ]
     },
     "execution_count": 33,
     "metadata": {},
     "output_type": "execute_result"
    },
    {
     "data": {
      "image/png": "[encoded data removed]",
      "text/plain": [
       "<Figure size 432x288 with 1 Axes>"
      ]
     },
     "metadata": {
      "needs_background": "light"
     },
     "output_type": "display_data"
    },
    {
     "data": {
      "text/plain": [
       "{1: 110, 2: 288, 3: 707, 4: 1689, 5: 2638, 6: 2926, 7: 1519, 8: 123}"
      ]
     },
     "execution_count": 33,
     "metadata": {},
     "output_type": "execute_result"
    }
   ],
   "source": [
    "# import necessary packages\n",
    "import numpy as np\n",
    "import matplotlib.pyplot as plt\n",
    "#simulacion\n",
    "simulacion_10000 = [exercise_25_sim() for i in range(10000)]\n",
    "\n",
    "#print(*simulacion_100)\n",
    "\n",
    "plt.hist(simulacion_10000, bins=range(1,10), edgecolor = 'black')\n",
    "plt.xlabel('number of guesses until find number')\n",
    "plt.ylabel('count')\n",
    "plt.show()\n",
    "\n",
    "#contar para comprobar\n",
    "dict_count = dict.fromkeys(set(simulacion_10000),0)\n",
    "for v in simulacion_10000:\n",
    "    dict_count[v] +=1\n",
    "dict_count\n"
   ]
  },
  {
   "cell_type": "code",
   "execution_count": 72,
   "metadata": {},
   "outputs": [],
   "source": [
    "#EXERCISE 26\n",
    "#Today, we will simply focus on checking whether someone has WON a game of Tic Tac Toe\n",
    "#, not worrying about how the moves were made.\n",
    "#Your task this week: given a 3 by 3 list of lists that represents a Tic Tac Toe game board, \n",
    "#tell me whether anyone has won, and tell me which player won, if any. \n",
    "#A Tic Tac Toe win is 3 in a row - either in a row, a column, or a diagonal.\n",
    "#Don’t worry about the case where TWO people have won - assume that in every board there will only be one winner."
   ]
  },
  {
   "cell_type": "code",
   "execution_count": 34,
   "metadata": {},
   "outputs": [],
   "source": [
    "def check_row(arr):\n",
    "    check = 0\n",
    "    for row in arr:\n",
    "        if set(row) == {1}:\n",
    "            print(f'Player 1 won')\n",
    "            check = 1\n",
    "            return check\n",
    "        if set(row) == {2}:\n",
    "            print(f'Player 2 won')\n",
    "            check = 1\n",
    "            return check\n",
    "    \n",
    "            \n",
    "def check_column(arr):\n",
    "    check = 0\n",
    "    for row in range(len(arr)):\n",
    "        column = set()\n",
    "        for j in range(len(arr)):\n",
    "            column.add(arr[j][row])\n",
    "        \n",
    "        if column== {1}:\n",
    "                print(f'Player 1 won')\n",
    "                check = 1\n",
    "                return check\n",
    "\n",
    "        if column == {2}:\n",
    "                print(f'Player 2 won')\n",
    "                check = 1\n",
    "                return check\n",
    "    \n",
    "\n",
    "def check_diags(arr):\n",
    "    check = 0\n",
    "    aux = len(arr)-1\n",
    "    j = 0\n",
    "    diag_1 = set()\n",
    "    diag_2 = set()\n",
    "    for row in range(len(arr)):\n",
    "            diag_1.add(arr[row][aux])\n",
    "            diag_2.add(arr[row][j])\n",
    "            aux-=1\n",
    "            j+=1\n",
    "            \n",
    "    diags = [diag_1,diag_2]\n",
    "    for diag in diags:\n",
    "        if diag == {1}:\n",
    "            print(f'Player 1 won')\n",
    "            check = 1\n",
    "            return check\n",
    "        if diag == {2}:\n",
    "            print(f'Player 2 won')\n",
    "            check = 1\n",
    "            return check\n",
    "    \n",
    "\n",
    "def check_tic_tac(arr):\n",
    "    \n",
    "    if check_column(arr) == 1:\n",
    "        return\n",
    "    if check_row(arr) == 1:\n",
    "        return\n",
    "    if check_diags(arr) == 1:\n",
    "        return\n",
    "    else:\n",
    "        print('no winners')\n",
    "        return"
   ]
  },
  {
   "cell_type": "code",
   "execution_count": 35,
   "metadata": {},
   "outputs": [
    {
     "name": "stdout",
     "output_type": "stream",
     "text": [
      "Player 2 won\n",
      "\n",
      "Player 1 won\n",
      "\n",
      "Player 1 won\n",
      "\n",
      "no winners\n",
      "\n",
      "no winners\n",
      "\n"
     ]
    }
   ],
   "source": [
    "##Tests\n",
    "winner_is_2 = [[2, 2, 0],[2, 1, 0],[2, 1, 1]]\n",
    "check_tic_tac(winner_is_2)\n",
    "print('')\n",
    "winner_is_1 = [[1, 2, 0],[2, 1, 0],[2, 1, 1]]\n",
    "check_tic_tac(winner_is_1)\n",
    "print('')\n",
    "winner_is_also_1 = [[0, 1, 0],[2, 1, 0],[2, 1, 1]]\n",
    "check_tic_tac(winner_is_also_1)\n",
    "print('')\n",
    "no_winner = [[1, 2, 0],[2, 1, 0],[2, 1, 2]]\n",
    "check_tic_tac(no_winner)\n",
    "print('')\n",
    "also_no_winner = [[1, 2, 0],[2, 1, 0],[2, 1, 0]]\n",
    "check_tic_tac(also_no_winner)\n",
    "print('')"
   ]
  },
  {
   "cell_type": "code",
   "execution_count": 1,
   "metadata": {},
   "outputs": [],
   "source": [
    "#EXERCISE 27"
   ]
  },
  {
   "cell_type": "code",
   "execution_count": 40,
   "metadata": {
    "scrolled": true
   },
   "outputs": [
    {
     "name": "stdout",
     "output_type": "stream",
     "text": [
      "Initial grid:\n",
      "[0, 0, 0]\n",
      "[0, 0, 0]\n",
      "[0, 0, 0]\n",
      "Player 1 Please select the row and col (r,c): 0,0\n",
      "\n",
      "Updated grid:\n",
      "['X', 0, 0]\n",
      "[0, 0, 0]\n",
      "[0, 0, 0]\n",
      "no winners\n",
      "Player 2 Please select the row and col (r,c): 0,1\n",
      "\n",
      "Updated grid:\n",
      "['X', 'O', 0]\n",
      "[0, 0, 0]\n",
      "[0, 0, 0]\n",
      "no winners\n",
      "Player 1 Please select the row and col (r,c): 0,0\n",
      "Player 1 Please select a different row and col (r,c): 0,4\n",
      "Player 1 Please select a different row and col (r,c): 1,0\n",
      "\n",
      "Updated grid:\n",
      "['X', 'O', 0]\n",
      "['X', 0, 0]\n",
      "[0, 0, 0]\n",
      "no winners\n",
      "Player 2 Please select the row and col (r,c): 0,2\n",
      "\n",
      "Updated grid:\n",
      "['X', 'O', 'O']\n",
      "['X', 0, 0]\n",
      "[0, 0, 0]\n",
      "no winners\n",
      "Player 1 Please select the row and col (r,c): 2,0\n",
      "\n",
      "Updated grid:\n",
      "['X', 'O', 'O']\n",
      "['X', 0, 0]\n",
      "['X', 0, 0]\n",
      "Player 1 won\n"
     ]
    }
   ],
   "source": [
    "def check_row_2(arr):\n",
    "    check = 0\n",
    "    for row in arr:\n",
    "        if set(row) == {'X'}:\n",
    "            print(f'Player 1 won')\n",
    "            check = 1\n",
    "            return check\n",
    "        if set(row) == {'O'}:\n",
    "            print(f'Player 2 won')\n",
    "            check = 1\n",
    "            return check\n",
    "               \n",
    "def check_column_2(arr):\n",
    "    check = 0\n",
    "    for row in range(len(arr)):\n",
    "        column = set()\n",
    "        for j in range(len(arr)):\n",
    "            column.add(arr[j][row])\n",
    "        \n",
    "        if column== {'X'}:\n",
    "                print(f'Player 1 won')\n",
    "                check = 1\n",
    "                return check\n",
    "\n",
    "        if column == {'O'}:\n",
    "                print(f'Player 2 won')\n",
    "                check = 1\n",
    "                return check\n",
    "    \n",
    "\n",
    "def check_diags_2(arr):\n",
    "    check = 0\n",
    "    aux = len(arr)-1\n",
    "    j = 0\n",
    "    diag_1 = set()\n",
    "    diag_2 = set()\n",
    "    for row in range(len(arr)):\n",
    "            diag_1.add(arr[row][aux])\n",
    "            diag_2.add(arr[row][j])\n",
    "            aux-=1\n",
    "            j+=1\n",
    "            \n",
    "    diags = [diag_1,diag_2]\n",
    "    for diag in diags:\n",
    "        if diag == {'X'}:\n",
    "            print(f'Player 1 won')\n",
    "            check = 1\n",
    "            return check\n",
    "        if diag == {'O'}:\n",
    "            print(f'Player 2 won')\n",
    "            check = 1\n",
    "            return check\n",
    "    \n",
    "\n",
    "def check_tic_tac_2(arr):\n",
    "    \n",
    "    if check_column_2(arr) == 1:\n",
    "        return True\n",
    "    if check_row_2(arr) == 1:\n",
    "        return True\n",
    "    if check_diags_2(arr) == 1:\n",
    "        return True\n",
    "    else:\n",
    "        print('no winners')\n",
    "        return False\n",
    "\n",
    "\n",
    "def display(arr):\n",
    "    for row in arr:\n",
    "        print(row)\n",
    "\n",
    "def row_col(arr, player):\n",
    "    aux = 0\n",
    "    while True:\n",
    "        if aux == 0:            \n",
    "            move = input(f'{player} Please select the row and col (r,c): ')\n",
    "        if aux > 0:\n",
    "            move = input(f'{player} Please select a different row and col (r,c): ')\n",
    "        to_int = map(lambda x: int(x), move.split(','))\n",
    "        row,col = tuple(to_int) #por ej puede ser una list tb!\n",
    "        try:\n",
    "            if arr[row][col] == 0:\n",
    "                return row,col\n",
    "        except:\n",
    "            continue\n",
    "            aux +=1\n",
    "        aux +=1\n",
    "        \n",
    "def update_grid(row,col,elem,init_game):\n",
    "    init_game[row][col] = elem\n",
    "\n",
    "    \n",
    "#game simulation\n",
    "init_game = [[0, 0, 0],[0, 0, 0],[0, 0, 0]]\n",
    "\n",
    "def game_simulation(init_game):\n",
    "    print('Initial grid:')\n",
    "    display(init_game)\n",
    "    #initial values\n",
    "    on = True\n",
    "    player = 'Player 1'\n",
    "    check_winner = False\n",
    "\n",
    "    while on == True:\n",
    "        if player == 'Player 1':\n",
    "            elem = 'X'\n",
    "        if player == 'Player 2':\n",
    "            elem = 'O'\n",
    "        #move player \n",
    "        row, col = row_col(init_game, player)\n",
    "        print('')\n",
    "        update_grid(row,col,elem, init_game)\n",
    "        #display updated grid\n",
    "        print('Updated grid:')\n",
    "        display(init_game)\n",
    "        #check winners\n",
    "        check_winner = check_tic_tac_2(init_game)\n",
    "        if check_winner != 0:\n",
    "            on = False      \n",
    "        #change player\n",
    "        if elem == 'X':\n",
    "            player = 'Player 2'\n",
    "        if elem == 'O':\n",
    "            player = 'Player 1'\n",
    "\n",
    "game_simulation(init_game)"
   ]
  },
  {
   "cell_type": "code",
   "execution_count": 77,
   "metadata": {},
   "outputs": [],
   "source": [
    "#EXERCISE 28\n",
    "#Implement a function that takes as input three variables, and returns the largest of the three. \n",
    "#Do this without using the Python max() function!"
   ]
  },
  {
   "cell_type": "code",
   "execution_count": 41,
   "metadata": {},
   "outputs": [
    {
     "data": {
      "text/plain": [
       "91"
      ]
     },
     "execution_count": 41,
     "metadata": {},
     "output_type": "execute_result"
    }
   ],
   "source": [
    "a1 = 91\n",
    "a2 = 11\n",
    "a3 = 3\n",
    "\n",
    "def exercise_28(a1, a2, a3):\n",
    "    a_list = [a1,a2,a3]\n",
    "    a_list.sort()\n",
    "    a_max = a_list[-1]\n",
    "    return a_max\n",
    "\n",
    "exercise_28(a1,a2,a3)"
   ]
  },
  {
   "cell_type": "code",
   "execution_count": 79,
   "metadata": {},
   "outputs": [],
   "source": [
    "#EXERCISE 29 - Saltado\n",
    "#EXERCISE 30 \n",
    "#In this exercise, the task is to write a function that picks a random word from a list of words from the SOWPODS dictionary. \n",
    "#Download this file and save it in the same directory as your Python code. This file is Peter Norvig’s compilation of \n",
    "#the dictionary of words used in professional Scrabble tournaments. Each line in the file contains a single word."
   ]
  },
  {
   "cell_type": "code",
   "execution_count": 44,
   "metadata": {},
   "outputs": [
    {
     "name": "stdout",
     "output_type": "stream",
     "text": [
      "Random word from file: CONKING //usado para testear\n"
     ]
    },
    {
     "data": {
      "text/plain": [
       "'CONKING'"
      ]
     },
     "execution_count": 44,
     "metadata": {},
     "output_type": "execute_result"
    }
   ],
   "source": [
    "import random\n",
    "txt_file = 'sowpods.txt'\n",
    "def exercise_30(txt_file):\n",
    "    \n",
    "    with open(txt_file, 'r') as open_file: #w para write, r para read , r+ read&write\n",
    "        all_words = open_file.read()\n",
    "    all_words_list = all_words.split('\\n')\n",
    "    #random.randint(0,len(all_words_list)-1)\n",
    "    all_words_list[len(all_words_list)-1]\n",
    "    random_w = random.choice(all_words_list)\n",
    "    print(f'Random word from file: {random_w} //usado para testear')\n",
    "    return random_w\n",
    "\n",
    "exercise_30(txt_file)"
   ]
  },
  {
   "cell_type": "code",
   "execution_count": 45,
   "metadata": {
    "scrolled": true
   },
   "outputs": [
    {
     "name": "stdout",
     "output_type": "stream",
     "text": [
      "Random word from file: CAPITANO //usado para testear\n",
      "Welcome to Hangman!\n",
      "_ _ _ _ _ _ _ _\n",
      "Guess your letter: (write exit for ending the game) : c\n",
      "C _ _ _ _ _ _ _\n",
      "Guess your letter: e\n",
      "Incorrect!\n",
      "letters tried: {'e'} \n",
      "\n",
      "C _ _ _ _ _ _ _\n",
      "Guess your letter: p\n",
      "C _ P _ _ _ _ _\n",
      "Guess your letter: a\n",
      "C A P _ _ A _ _\n",
      "Guess your letter: i\n",
      "C A P I _ A _ _\n",
      "Guess your letter: t\n",
      "C A P I T A _ _\n",
      "Guess your letter: m\n",
      "Incorrect!\n",
      "letters tried: {'m', 'e'} \n",
      "\n",
      "C A P I T A _ _\n",
      "Guess your letter: n\n",
      "C A P I T A N _\n",
      "Guess your letter: o\n",
      "You did it, good job!, the word was: CAPITANO \n",
      "took You: 9  attemps!\n"
     ]
    }
   ],
   "source": [
    "#EXERCISE 31\n",
    "#Let’s continue building Hangman\n",
    "\n",
    "def exercise_31():\n",
    "    word_hangman = exercise_30(txt_file)\n",
    "    #word_hangman =  'EVAPORATE' # EJEMPLO\n",
    "    \n",
    "    print(f'Welcome to Hangman!')\n",
    "    initial_hangman = [str('_')for letter in word_hangman]\n",
    "    print(*initial_hangman)\n",
    "    attemps = 0\n",
    "    letters_attemps = set()\n",
    "    first = True\n",
    "    guess_letter = input(f'Guess your letter: (write exit for ending the game) : ')\n",
    "    while True:\n",
    "        #len(word_hangman)\n",
    "        if first != True:            \n",
    "            guess_letter = input(f'Guess your letter: ')\n",
    "        \n",
    "        if guess_letter == 'exit':\n",
    "            break\n",
    "        if guess_letter.upper() not in word_hangman:\n",
    "            print('Incorrect!')\n",
    "            attemps +=1\n",
    "            letters_attemps.add(guess_letter)\n",
    "            print(f'letters tried: {letters_attemps} \\n')\n",
    "\n",
    "        else:\n",
    "            for pos, letter in enumerate(word_hangman):\n",
    "                if letter == guess_letter.upper():\n",
    "                    initial_hangman[pos] = letter\n",
    "            attemps +=1\n",
    "\n",
    "        if ''.join(initial_hangman) == word_hangman:\n",
    "            print(f'You did it, good job!, the word was: {word_hangman} ')\n",
    "            print(f'took You: {attemps}  attemps!')\n",
    "            break\n",
    "        first = False\n",
    "        print(*initial_hangman)     \n",
    "        \n",
    "exercise_31()"
   ]
  },
  {
   "cell_type": "code",
   "execution_count": 82,
   "metadata": {},
   "outputs": [],
   "source": [
    "#EXERCISE 32, Skipped..similar to 31\n",
    "#EXERCISE 33\n",
    "#For this exercise, we will keep track of when our friend’s birthdays are, and be able to find that information based on \n",
    "#their name. Create a dictionary (in your file) of names and birthdays. When you run your program it should ask the user\n",
    "#to enter a name, and return the birthday of that person back to them. "
   ]
  },
  {
   "cell_type": "code",
   "execution_count": 46,
   "metadata": {
    "scrolled": true
   },
   "outputs": [
    {
     "name": "stdout",
     "output_type": "stream",
     "text": [
      "Welcome to the birthday dictionary. We know the birthdays of:\n",
      "Albert Einstein\n",
      "Benjamin Franklin\n",
      "Ada Lovelace\n",
      "\n",
      "Who's birthday do you want to look up? Albert Einstein\n",
      "Albert Einstein's birthday is: 00/00/01\n"
     ]
    }
   ],
   "source": [
    "def exercise_33():\n",
    "    dict = {}\n",
    "    dict['Albert Einstein'] = '00/00/01'\n",
    "    dict['Benjamin Franklin'] = '01/01/01'\n",
    "    dict['Ada Lovelace'] = '02/00/41'\n",
    "    print(\"Welcome to the birthday dictionary. We know the birthdays of:\")\n",
    "    for name in dict:\n",
    "        print(name)\n",
    "    print('')\n",
    "    birthday_name = input(\"Who's birthday do you want to look up? \")\n",
    "\n",
    "    print(f\"{birthday_name}'s birthday is: {dict[birthday_name]}\")\n",
    "    \n",
    "exercise_33()"
   ]
  },
  {
   "cell_type": "code",
   "execution_count": 86,
   "metadata": {},
   "outputs": [],
   "source": [
    "#EXERCISE 34\n",
    "#. In this exercise, modify your program from Part 1 to load the birthday dictionary from a JSON file on disk,\n",
    "#rather than having the dictionary defined in the program.\n",
    "#Bonus: Ask the user for another scientist’s name and birthday to add to the dictionary,\n",
    "#and update the JSON file you have on disk with the scientist’s name"
   ]
  },
  {
   "cell_type": "code",
   "execution_count": 47,
   "metadata": {},
   "outputs": [
    {
     "name": "stdout",
     "output_type": "stream",
     "text": [
      "the scientists in the file are the following: \n",
      "Albert Einstein\n",
      "Benjamin Franklin\n",
      "Ada Lovelace\n",
      "Whos birthday you want to know?: Ada Lovelace\n",
      "The birthday of Ada Lovelace is: 03/03/1911 \n",
      "\n",
      "Do you want to know another birthday?: (Y/N)n\n",
      "Do you want to add another scientist birthday to the list? (Y/N)y\n",
      "Please enter his/her name: Cristian Vergara\n",
      "Please enter his/her birthday (mm/dd/aaaa)04/20/1911\n",
      "Do you want to add another scientist birthday to the list? (Y/N)n\n",
      "Thanks! \n"
     ]
    }
   ],
   "source": [
    "import json\n",
    "import time\n",
    "\n",
    "#scientists file input\n",
    "scientists = {\n",
    "\"Albert Einstein\" : \"01/01/1900\",\n",
    "\"Benjamin Franklin\" : \"02/02/1905\",\n",
    "\"Ada Lovelace\" : \"03/03/1911\"\n",
    "}\n",
    "def exercise_34(scientists):\n",
    "    \n",
    "    with open(\"info.json\", \"w\") as f: #save the dictionary into json file\n",
    "        json.dump(scientists, f)\n",
    "\n",
    "    #load and show scientists in file\n",
    "    with open(\"info.json\", \"r\") as f: #load the json file\n",
    "        info_scientists = json.load(f)\n",
    "\n",
    "    print(\"the scientists in the file are the following: \")\n",
    "    for scientist in info_scientists:\n",
    "        print(scientist)\n",
    "\n",
    "    time.sleep(1)\n",
    "    query = True\n",
    "    add = True\n",
    "    while True:\n",
    "        while query == True:     #for knowing the birthdays\n",
    "            scientist_query = input('Whos birthday you want to know?: ')\n",
    "            if scientist_query in info_scientists:\n",
    "                print(f'The birthday of {scientist_query} is: {info_scientists[scientist_query]} \\n')\n",
    "            second_query = input('Do you want to know another birthday?: (Y/N)')\n",
    "            if second_query.upper() == 'Y':\n",
    "                query = True\n",
    "            if second_query.upper() == 'N':\n",
    "                query = False\n",
    "                \n",
    "        while add == True:   #for adding more scientists to db\n",
    "            add_s = input('Do you want to add another scientist birthday to the list? (Y/N)')\n",
    "            if add_s.upper() == 'Y':\n",
    "                s_name = input('Please enter his/her name: ')\n",
    "                s_birthday = input('Please enter his/her birthday (mm/dd/aaaa)')\n",
    "                s_update = {s_name:s_birthday}\n",
    "                info_scientists.update(s_update) #add to dictionary\n",
    "                with open('info.json', 'w') as f:\n",
    "                    json.dump(info_scientists, f)\n",
    "                add = True\n",
    "\n",
    "            if add_s.upper() != 'Y':\n",
    "                add = False\n",
    "                print('Thanks! ')\n",
    "        break\n",
    "        \n",
    "exercise_34(scientists)"
   ]
  },
  {
   "cell_type": "code",
   "execution_count": 88,
   "metadata": {},
   "outputs": [],
   "source": [
    "#EXERCISE 35\n",
    "#In the previous exercise we saved information about famous scientists’ names and birthdays to disk. \n",
    "#In this exercise, load that JSON file from disk,\n",
    "#extract the months of all the birthdays, and count how many scientists have a birthday in each month."
   ]
  },
  {
   "cell_type": "code",
   "execution_count": 48,
   "metadata": {
    "scrolled": true
   },
   "outputs": [
    {
     "name": "stdout",
     "output_type": "stream",
     "text": [
      "{\n",
      " \"January\": 1,\n",
      " \"February\": 1,\n",
      " \"March\": 1,\n",
      " \"April\": 1\n",
      "}\n"
     ]
    },
    {
     "data": {
      "text/plain": [
       "{'January': 1, 'February': 1, 'March': 1, 'April': 1}"
      ]
     },
     "execution_count": 48,
     "metadata": {},
     "output_type": "execute_result"
    }
   ],
   "source": [
    "\n",
    "def exercise_35(file):\n",
    "    with open(file, 'r') as f:\n",
    "        info_s = json.load(f)\n",
    "\n",
    "    months = ['January', 'February', 'March', 'April','May', 'June', 'July', 'August', 'September', 'October', 'November', 'December']\n",
    "    months_count = {month:0 for month in months}\n",
    "    months_mapping = {month: num for month,num in enumerate(months, start=1)}\n",
    "\n",
    "    for scientist in info_s:\n",
    "        date_split = info_s[scientist].split('/')\n",
    "        #day = int(date_split[1])\n",
    "        month = int(date_split[0])\n",
    "        #year = int(date_split[2])\n",
    "        months_count[months_mapping[month]] += 1\n",
    "\n",
    "    months_filter = {month:months_count[month] for month in months_count if months_count[month] > 0}\n",
    "    #to json (serializing)\n",
    "    months_filter_json = json.dumps(months_filter, indent= 1)\n",
    "    print(months_filter_json)\n",
    "    return months_filter\n",
    "\n",
    "exercise_35('info.json')"
   ]
  },
  {
   "cell_type": "code",
   "execution_count": 92,
   "metadata": {},
   "outputs": [],
   "source": [
    "#EXERCISE 36\n",
    "#use the bokeh Python library to plot a histogram of which months the scientists have birthdays in! \n",
    "#Because it would take a long time for you to input the months of various scientists, you can use my scientist\n",
    "#birthday JSON file. Just parse out the months \n",
    "#(if you don’t know how, I suggest looking at the previous exercise or its solution) and draw your histogram."
   ]
  },
  {
   "cell_type": "code",
   "execution_count": 50,
   "metadata": {
    "scrolled": true
   },
   "outputs": [
    {
     "name": "stdout",
     "output_type": "stream",
     "text": [
      "{\n",
      " \"January\": 1,\n",
      " \"March\": 1,\n",
      " \"December\": 1\n",
      "}\n"
     ]
    }
   ],
   "source": [
    "# bokeh plots work\n",
    "from bokeh.plotting import figure, show, output_file\n",
    "\n",
    "file = 'scientist_birthdays.json'\n",
    "def exercise_36(file):\n",
    "    data = exercise_35(file)\n",
    "    months = ['January', 'February', 'March', 'April','May', 'June', 'July', 'August', 'September', 'October', 'November', 'December']\n",
    "    months_filtered = list(data.keys())\n",
    "    count = list(data.values())\n",
    "\n",
    "    plot = figure(x_range=months)\n",
    "    #histogram will open in new tab\n",
    "    plot.xaxis.major_label_orientation = 0.75\n",
    "    plot.vbar(x=months_filtered, top=count, width=0.5)\n",
    "    show(plot)\n",
    "\n",
    "exercise_36(file)"
   ]
  },
  {
   "cell_type": "code",
   "execution_count": 51,
   "metadata": {},
   "outputs": [
    {
     "name": "stdout",
     "output_type": "stream",
     "text": [
      " --- --- ---\n",
      "|   |   |   |\n",
      " --- --- ---\n",
      "|   |   |   |\n",
      " --- --- ---\n",
      "|   |   |   |\n",
      " --- --- ---\n"
     ]
    }
   ],
   "source": [
    "#EXERCISE 37\n",
    "#This exercise asked you to refactor this code snippet to refactor \n",
    "#(taken from a correct but very repeated solution to exercise 24 on this website):\n",
    "#hacer esto:\n",
    "print(\" --- --- ---\")\n",
    "print(\"|   |   |   |\")\n",
    "print(\" --- --- ---\")\n",
    "print(\"|   |   |   |\")\n",
    "print(\" --- --- ---\")\n",
    "print(\"|   |   |   |\")\n",
    "print(\" --- --- ---\")"
   ]
  },
  {
   "cell_type": "code",
   "execution_count": 52,
   "metadata": {
    "scrolled": true
   },
   "outputs": [
    {
     "name": "stdout",
     "output_type": "stream",
     "text": [
      " --- --- --- ---\n",
      "|   |   |   |   |   \n",
      " --- --- --- ---\n",
      "|   |   |   |   |   \n",
      " --- --- --- ---\n",
      "|   |   |   |   |   \n",
      " --- --- --- ---\n",
      "|   |   |   |   |   \n",
      " --- --- --- ---\n"
     ]
    }
   ],
   "source": [
    "def print_h(length):    \n",
    "    horizontal = ' ---'\n",
    "    print(horizontal*length)\n",
    "\n",
    "def print_v(length):\n",
    "    vertical = '|   '\n",
    "    print(vertical*(length+1))\n",
    "    \n",
    "def exercise_37(length):    \n",
    "    for i in range(length):\n",
    "        print_h(length)\n",
    "        print_v(length)\n",
    "    print_h(length)\n",
    "    \n",
    "exercise_37(4)"
   ]
  },
  {
   "cell_type": "code",
   "execution_count": 104,
   "metadata": {},
   "outputs": [],
   "source": [
    "#EXERCISE 38\n",
    "#Skipped, check exercise1"
   ]
  },
  {
   "cell_type": "code",
   "execution_count": 105,
   "metadata": {},
   "outputs": [],
   "source": [
    "#EXERCISE 39\n",
    "#Skipped, check exercise1"
   ]
  }
 ],
 "metadata": {
  "kernelspec": {
   "display_name": "Python 3",
   "language": "python",
   "name": "python3"
  },
  "language_info": {
   "codemirror_mode": {
    "name": "ipython",
    "version": 3
   },
   "file_extension": ".py",
   "mimetype": "text/x-python",
   "name": "python",
   "nbconvert_exporter": "python",
   "pygments_lexer": "ipython3",
   "version": "3.7.8rc1"
  }
 },
 "nbformat": 4,
 "nbformat_minor": 4
}
