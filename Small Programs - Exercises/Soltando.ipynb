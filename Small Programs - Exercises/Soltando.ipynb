{
 "cells": [
  {
   "cell_type": "code",
   "execution_count": 37,
   "metadata": {},
   "outputs": [],
   "source": [
    "from IPython.core.interactiveshell import InteractiveShell\n",
    "InteractiveShell.ast_node_interactivity = 'all'"
   ]
  },
  {
   "cell_type": "code",
   "execution_count": 30,
   "metadata": {},
   "outputs": [
    {
     "data": {
      "text/plain": [
       "[(0, 'btc'), (1, 'eth'), (2, 'sol'), (3, 'ada'), (4, 'luna'), (5, 'doge')]"
      ]
     },
     "execution_count": 30,
     "metadata": {},
     "output_type": "execute_result"
    }
   ],
   "source": [
    "##USING ENUMERATE\n",
    "\n",
    "coins = ['btc', 'eth', 'sol', 'ada', 'luna', 'doge']\n",
    "e_coins = enumerate(coins)\n",
    "list(e_coins)"
   ]
  },
  {
   "cell_type": "code",
   "execution_count": 25,
   "metadata": {
    "scrolled": true
   },
   "outputs": [
    {
     "name": "stdout",
     "output_type": "stream",
     "text": [
      "1 btc\n",
      "2 eth\n",
      "3 sol\n",
      "4 ada\n",
      "5 luna\n",
      "6 doge\n"
     ]
    }
   ],
   "source": [
    "for index, coin in enumerate(coins, start=1): #start por default=0\n",
    "    print(index,coin)"
   ]
  },
  {
   "cell_type": "code",
   "execution_count": 32,
   "metadata": {},
   "outputs": [
    {
     "name": "stdout",
     "output_type": "stream",
     "text": [
      "btc good acc\n",
      "eth good stand\n",
      "sol good acc\n",
      "ada bad dump\n",
      "luna good acc\n",
      "doge bad dump\n"
     ]
    }
   ],
   "source": [
    "###USING ZIP\n",
    "coins\n",
    "val = ['good', 'good', 'good', 'bad', 'good', 'bad']\n",
    "val2 = ['acc', 'stand', 'acc', 'dump', 'acc', 'dump']\n",
    "\n",
    "for x,y,z in zip(coins,val,val2):\n",
    "    print(x,y,z)"
   ]
  },
  {
   "cell_type": "code",
   "execution_count": 33,
   "metadata": {},
   "outputs": [
    {
     "name": "stdout",
     "output_type": "stream",
     "text": [
      "('btc', 'good') ('eth', 'good') ('sol', 'good') ('ada', 'bad') ('luna', 'good') ('doge', 'bad')\n"
     ]
    }
   ],
   "source": [
    "zip_prueba = zip(coins,val)\n",
    "print(*zip_prueba)"
   ]
  },
  {
   "cell_type": "code",
   "execution_count": 34,
   "metadata": {},
   "outputs": [
    {
     "name": "stdout",
     "output_type": "stream",
     "text": [
      "0 btc good acc\n",
      "1 eth good stand\n",
      "2 sol good acc\n",
      "3 ada bad dump\n",
      "4 luna good acc\n",
      "5 doge bad dump\n"
     ]
    }
   ],
   "source": [
    "##NESTED ZIP AND ENUMERATE\n",
    "for index, (coins, val, val2) in enumerate(zip(coins, val, val2)):\n",
    "    print(index, coins, val, val2)\n"
   ]
  },
  {
   "cell_type": "code",
   "execution_count": 50,
   "metadata": {},
   "outputs": [
    {
     "name": "stdout",
     "output_type": "stream",
     "text": [
      "lists\n"
     ]
    },
    {
     "data": {
      "text/plain": [
       "[0, 4, 16, 36, 64]"
      ]
     },
     "execution_count": 50,
     "metadata": {},
     "output_type": "execute_result"
    },
    {
     "data": {
      "text/plain": [
       "[0, 0, 4, 0, 16, 0, 36, 0, 64, 0]"
      ]
     },
     "execution_count": 50,
     "metadata": {},
     "output_type": "execute_result"
    },
    {
     "name": "stdout",
     "output_type": "stream",
     "text": [
      "dicts\n"
     ]
    },
    {
     "data": {
      "text/plain": [
       "{0: 0, 1: 2, 2: 4, 3: 6, 4: 8}"
      ]
     },
     "execution_count": 50,
     "metadata": {},
     "output_type": "execute_result"
    },
    {
     "data": {
      "text/plain": [
       "{0: 5, 1: 6, 2: 7, 3: 8, 4: 9}"
      ]
     },
     "execution_count": 50,
     "metadata": {},
     "output_type": "execute_result"
    }
   ],
   "source": [
    "##LIST COMPREHENSION\n",
    "#Conditional list comprehension\n",
    "print('lists')\n",
    "[num ** 2 for num in range(10) if num % 2 == 0]\n",
    "[num ** 2 if num % 2 == 0 else 0 for num in range(10)]\n",
    "\n",
    "##DICT COMPREHENSION\n",
    "print('dicts')\n",
    "{num: num*2 for num in range(5)}\n",
    "\n",
    "{index: num for index,num in enumerate(range(5,10))}"
   ]
  },
  {
   "cell_type": "code",
   "execution_count": 2,
   "metadata": {},
   "outputs": [
    {
     "data": {
      "text/plain": [
       "[4, 16, 36, 64, 100]"
      ]
     },
     "execution_count": 2,
     "metadata": {},
     "output_type": "execute_result"
    }
   ],
   "source": [
    "###lAMBDA FUNCTIONS & MAPPING\n",
    "\n",
    "raise_to_power = lambda x, y: x ** y\n",
    "\n",
    "raise_to_power(2,3)\n",
    "\n",
    "#map\n",
    "nums = [2, 4, 6, 8, 10]\n",
    "square_all = map(lambda num: num ** 2, nums)\n",
    "square_all\n",
    "list(square_all)"
   ]
  },
  {
   "cell_type": "code",
   "execution_count": 1,
   "metadata": {},
   "outputs": [
    {
     "data": {
      "text/plain": [
       "[10, 9]"
      ]
     },
     "execution_count": 1,
     "metadata": {},
     "output_type": "execute_result"
    }
   ],
   "source": [
    "##SLICING\n",
    "prueba = [1,2,3,4,5,6,7,8,9,10]\n",
    "prueba[-2:] #este pal ejercicio, ultimos 2 valores de la lista\n",
    "prueba[:-2] #desde el inicio de la lista sin tomar en cuento los 2 ultimos valores\n",
    "prueba[::2] #toda la lista saltandose 1 valor\n",
    "prueba[::-2] #toda la lista saltandose 1 valor pero de derecha a izquierda\n",
    "prueba[-1:-3:-1] #tb los ultimos 2 valores de la lista. Acordarse posicion -1 = el ultimo, -2 penultimo..etc\n"
   ]
  }
 ],
 "metadata": {
  "kernelspec": {
   "display_name": "Python 3",
   "language": "python",
   "name": "python3"
  },
  "language_info": {
   "codemirror_mode": {
    "name": "ipython",
    "version": 3
   },
   "file_extension": ".py",
   "mimetype": "text/x-python",
   "name": "python",
   "nbconvert_exporter": "python",
   "pygments_lexer": "ipython3",
   "version": "3.7.8rc1"
  }
 },
 "nbformat": 4,
 "nbformat_minor": 4
}
