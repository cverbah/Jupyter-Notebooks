{
 "cells": [
  {
   "cell_type": "code",
   "execution_count": 1,
   "metadata": {},
   "outputs": [],
   "source": [
    "from IPython.core.interactiveshell import InteractiveShell\n",
    "InteractiveShell.ast_node_interactivity = 'all'"
   ]
  },
  {
   "cell_type": "markdown",
   "metadata": {},
   "source": [
    "# Sentiment Analysis "
   ]
  },
  {
   "cell_type": "markdown",
   "metadata": {},
   "source": [
    "The goal of this project is to analyse the user sentiment towards the US airline industry on twitter using different models from the scikit-learn library.\n",
    "- the dataset used contains a manually labelled sentiment per tweet : (positive, negative, neutral)"
   ]
  },
  {
   "cell_type": "markdown",
   "metadata": {},
   "source": [
    "### Loading the libraries needed:"
   ]
  },
  {
   "cell_type": "code",
   "execution_count": 3,
   "metadata": {},
   "outputs": [],
   "source": [
    "import numpy as np\n",
    "import matplotlib.pyplot as plt\n",
    "import pandas as pd\n",
    "import re\n",
    "import nltk\n",
    "from nltk.stem import PorterStemmer\n",
    "from nltk.stem.wordnet import WordNetLemmatizer\n",
    "from sklearn.model_selection import train_test_split\n",
    "from sklearn.feature_extraction.text import CountVectorizer\n",
    "from sklearn.metrics import accuracy_score, precision_score, recall_score, f1_score, classification_report, confusion_matrix\n"
   ]
  },
  {
   "cell_type": "markdown",
   "metadata": {},
   "source": [
    "### Loading and inspecting the dataset"
   ]
  },
  {
   "cell_type": "code",
   "execution_count": 4,
   "metadata": {
    "scrolled": true
   },
   "outputs": [
    {
     "data": {
      "text/html": [
       "<div>\n",
       "<style scoped>\n",
       "    .dataframe tbody tr th:only-of-type {\n",
       "        vertical-align: middle;\n",
       "    }\n",
       "\n",
       "    .dataframe tbody tr th {\n",
       "        vertical-align: top;\n",
       "    }\n",
       "\n",
       "    .dataframe thead th {\n",
       "        text-align: right;\n",
       "    }\n",
       "</style>\n",
       "<table border=\"1\" class=\"dataframe\">\n",
       "  <thead>\n",
       "    <tr style=\"text-align: right;\">\n",
       "      <th></th>\n",
       "      <th>instance_num</th>\n",
       "      <th>tweet</th>\n",
       "      <th>sentiment</th>\n",
       "    </tr>\n",
       "  </thead>\n",
       "  <tbody>\n",
       "    <tr>\n",
       "      <th>0</th>\n",
       "      <td>1</td>\n",
       "      <td>@JetBlue thank you for incredible customer svc...</td>\n",
       "      <td>positive</td>\n",
       "    </tr>\n",
       "    <tr>\n",
       "      <th>1</th>\n",
       "      <td>2</td>\n",
       "      <td>@united I was well taken care of, thanks. I've...</td>\n",
       "      <td>positive</td>\n",
       "    </tr>\n",
       "    <tr>\n",
       "      <th>2</th>\n",
       "      <td>3</td>\n",
       "      <td>@united Too Late Flight, damage has been done....</td>\n",
       "      <td>negative</td>\n",
       "    </tr>\n",
       "    <tr>\n",
       "      <th>3</th>\n",
       "      <td>4</td>\n",
       "      <td>@USAirways of course! \"Yeah, travel has gotten...</td>\n",
       "      <td>negative</td>\n",
       "    </tr>\n",
       "    <tr>\n",
       "      <th>4</th>\n",
       "      <td>5</td>\n",
       "      <td>@united I'm very frustrated and have wasted 2 ...</td>\n",
       "      <td>negative</td>\n",
       "    </tr>\n",
       "  </tbody>\n",
       "</table>\n",
       "</div>"
      ],
      "text/plain": [
       "   instance_num                                              tweet sentiment\n",
       "0             1  @JetBlue thank you for incredible customer svc...  positive\n",
       "1             2  @united I was well taken care of, thanks. I've...  positive\n",
       "2             3  @united Too Late Flight, damage has been done....  negative\n",
       "3             4  @USAirways of course! \"Yeah, travel has gotten...  negative\n",
       "4             5  @united I'm very frustrated and have wasted 2 ...  negative"
      ]
     },
     "execution_count": 4,
     "metadata": {},
     "output_type": "execute_result"
    },
    {
     "name": "stdout",
     "output_type": "stream",
     "text": [
      "\n",
      "<class 'pandas.core.frame.DataFrame'>\n",
      "RangeIndex: 4000 entries, 0 to 3999\n",
      "Data columns (total 3 columns):\n",
      " #   Column        Non-Null Count  Dtype \n",
      "---  ------        --------------  ----- \n",
      " 0   instance_num  4000 non-null   int64 \n",
      " 1   tweet         4000 non-null   object\n",
      " 2   sentiment     4000 non-null   object\n",
      "dtypes: int64(1), object(2)\n",
      "memory usage: 93.9+ KB\n"
     ]
    },
    {
     "data": {
      "text/plain": [
       "<AxesSubplot:xlabel='sentiment'>"
      ]
     },
     "execution_count": 4,
     "metadata": {},
     "output_type": "execute_result"
    },
    {
     "data": {
      "image/png": "[encoded data removed]",
      "text/plain": [
       "<Figure size 432x288 with 1 Axes>"
      ]
     },
     "metadata": {
      "needs_background": "light"
     },
     "output_type": "display_data"
    }
   ],
   "source": [
    "dataset = 'dataset_airlines.tsv'\n",
    "df_dataset = pd.read_table(dataset, usecols=[0,1,2], names=['instance_num', 'tweet', 'sentiment'], header=None)\n",
    "df_dataset.head(5)\n",
    "print('')\n",
    "#checking the data, checking for Missing Values and the type of data\n",
    "df_dataset.info(verbose=True)\n",
    "#checking the distribution of the sentiments, to see if the dataset is balanced\n",
    "freq_sentiment = pd.crosstab(index=df_dataset['sentiment'], columns='count')\n",
    "freq_sentiment.plot.bar(y='count')\n"
   ]
  },
  {
   "cell_type": "markdown",
   "metadata": {},
   "source": [
    "### Cleaning the tweets.\n",
    "The tweets must be cleaned due to the special characters. Only strings and the characters: @, # would be mantained in the original tweets. Urls present in a tweet are also deleted"
   ]
  },
  {
   "cell_type": "code",
   "execution_count": 5,
   "metadata": {},
   "outputs": [],
   "source": [
    "def clean_tweet(tweet_text):\n",
    "    '''input: unformatted tweets list\n",
    "       output: formmatted tweets list '''\n",
    "    \n",
    "    tweet_text_split = [] \n",
    "    for tweet in tweet_text: \n",
    "        tweet_text_split.append(tweet.split())\n",
    "\n",
    "    tweet_text_split_cleaned = [] \n",
    "    for i in range(len(tweet_text_split)):\n",
    "        aux_tweet = []\n",
    "        for word in tweet_text_split[i]:\n",
    "            x = re.sub('^https?:\\/\\/.*[\\r\\n]*', '', word) #for deleting urls\n",
    "            x = ''.join(re.findall('[a-zA-Z\\#@]',x)) #for only considering letters, @,#\n",
    "            if len(x) > 1: #len of tweet at least 2\n",
    "                aux_tweet.append(x)\n",
    "        tweet_text_split_cleaned.append(aux_tweet)\n",
    "    tweet_text_formatted = [' '.join(i) for i in tweet_text_split_cleaned]\n",
    "    return tweet_text_formatted\n",
    "\n",
    "df_dataset['tweet'] = clean_tweet(df_dataset['tweet'])"
   ]
  },
  {
   "cell_type": "markdown",
   "metadata": {},
   "source": [
    "### Splitting the dataset into a training and test set"
   ]
  },
  {
   "cell_type": "code",
   "execution_count": 6,
   "metadata": {
    "scrolled": true
   },
   "outputs": [
    {
     "name": "stdout",
     "output_type": "stream",
     "text": [
      "The training size is: 3200 tweets\n",
      "The test size is: 800 tweets\n"
     ]
    }
   ],
   "source": [
    "X = df_dataset['tweet'].to_list()\n",
    "y = df_dataset['sentiment'].to_list()\n",
    "\n",
    "X_train, X_test, y_train, y_test = train_test_split(X, y, test_size = 0.2)\n",
    "print(f'The training size is: {len(X_train)} tweets')\n",
    "print(f'The test size is: {len(X_test)} tweets')\n"
   ]
  },
  {
   "cell_type": "markdown",
   "metadata": {},
   "source": [
    "### Manipulating the tweets\n",
    "Different functions from the nltk library are tried in order to normalize the words in the tweets"
   ]
  },
  {
   "cell_type": "code",
   "execution_count": 7,
   "metadata": {},
   "outputs": [],
   "source": [
    "def nltk_normalize(dataset, method):\n",
    "    '''method: Stemmming or Lemmatization'''\n",
    "    \n",
    "    if method == 'Stemming':\n",
    "        porter = PorterStemmer()\n",
    "    if method == 'Lemmatization': #default by noun\n",
    "        lemma = WordNetLemmatizer()\n",
    "    \n",
    "    normalized_tweet = []\n",
    "    for tweet in dataset:\n",
    "        normalized_sentence = []\n",
    "        word_tokens = tweet.split()\n",
    "        for w in word_tokens:\n",
    "            if method == 'Stemming':\n",
    "                normalized_sentence.append(porter.stem(w))\n",
    "            if method == 'Lemmatization':\n",
    "                normalized_sentence.append(lemma.lemmatize(w))\n",
    "        normalized_tweet.append(normalized_sentence)\n",
    "        \n",
    "    normalized_tweet = [' '.join(i) for i in normalized_tweet]\n",
    "    return(normalized_tweet)"
   ]
  },
  {
   "cell_type": "code",
   "execution_count": 8,
   "metadata": {},
   "outputs": [],
   "source": [
    "#applying lemmatization\n",
    "X_train = nltk_normalize(X_train,'Lemmatization')\n",
    "X_test = nltk_normalize(X_test,'Lemmatization')\n"
   ]
  },
  {
   "cell_type": "markdown",
   "metadata": {},
   "source": [
    "### Vectorizing the tweets.\n",
    "The sentences of each tweet are transformed into a vector that contains the count of each word of the tweet present in the total bags of words. By doing this encoding , it is possible to train different models"
   ]
  },
  {
   "cell_type": "code",
   "execution_count": 9,
   "metadata": {},
   "outputs": [],
   "source": [
    "def vectorize_dataset(X_train,X_test, max_features, lowercase=True, token_pattern='[#\\@\\w]+'):\n",
    "    vectorize = CountVectorizer(max_features=max_features, lowercase=lowercase, token_pattern=token_pattern) \n",
    "    vectorizer_train = vectorize.fit_transform(X_train)\n",
    "    vectorizer_test = vectorize.transform(X_test)\n",
    "    return vectorizer_train, vectorizer_test"
   ]
  },
  {
   "cell_type": "code",
   "execution_count": 10,
   "metadata": {},
   "outputs": [],
   "source": [
    "# create count vectorizer and fit it with training data, from the #example provided\n",
    "vectorizer_train, vectorizer_test = vectorize_dataset(X_train, X_test,1000)"
   ]
  },
  {
   "cell_type": "code",
   "execution_count": 11,
   "metadata": {},
   "outputs": [
    {
     "data": {
      "text/plain": [
       "(1, 1000)"
      ]
     },
     "execution_count": 11,
     "metadata": {},
     "output_type": "execute_result"
    }
   ],
   "source": [
    "#example of the first tweet of X_train vectorized into a (1,1000), where 1000 is the max_features (the 1000 most frequent words in X_train)\n",
    "vectorizer_train[0].shape"
   ]
  },
  {
   "cell_type": "markdown",
   "metadata": {},
   "source": [
    "### Training different models\n",
    "Models that are going to be tested: **Decision Tree**, **Multinomial Naive Bayes** and **Compliment Naive Bayes**\n",
    "- **Decision Tree** is a common model used for classification that normally works correctly\n",
    "- **Multinomial Naive Bayes** is a model normally used for text classification\n",
    "- **The Compliment Naive Bayes** is a model that is used when a dataset is unbalance. This is normal to happen in sentiment analysis"
   ]
  },
  {
   "cell_type": "code",
   "execution_count": 12,
   "metadata": {},
   "outputs": [],
   "source": [
    "def model_predict(model, X_test, y_test):\n",
    "    predicted_y = model.predict(X_test)\n",
    "    #print(model.predict_proba(X_test))\n",
    "    print(classification_report(y_test, predicted_y,zero_division=0))\n",
    "    #print(confusion_matrix(y_test, predicted_y))"
   ]
  },
  {
   "cell_type": "code",
   "execution_count": 13,
   "metadata": {},
   "outputs": [],
   "source": [
    "from sklearn import tree\n",
    "from sklearn.naive_bayes import MultinomialNB, ComplementNB\n",
    "\n",
    "def check_models(X_train,X_test,y_train,y_test, models_tested):\n",
    "    for model in models_tested:\n",
    "        print(f'Classification report for the model: {model}')\n",
    "        if model == 'DT':\n",
    "            selection = tree.DecisionTreeClassifier(min_samples_leaf=0.01,criterion='entropy',random_state=0)\n",
    "                    \n",
    "        if model == 'MNB':\n",
    "            selection = MultinomialNB()\n",
    "        \n",
    "        if model == 'CNB':\n",
    "            selection = ComplementNB()\n",
    "            \n",
    "        model = selection.fit(X_train, y_train)\n",
    "        model_predict(model, X_test, y_test)\n",
    "        print('')\n",
    "        "
   ]
  },
  {
   "cell_type": "code",
   "execution_count": 14,
   "metadata": {
    "scrolled": true
   },
   "outputs": [
    {
     "name": "stdout",
     "output_type": "stream",
     "text": [
      "Classification report for the model: DT\n",
      "              precision    recall  f1-score   support\n",
      "\n",
      "    negative       0.73      0.93      0.82       492\n",
      "     neutral       0.47      0.25      0.33       160\n",
      "    positive       0.74      0.45      0.56       148\n",
      "\n",
      "    accuracy                           0.70       800\n",
      "   macro avg       0.65      0.54      0.57       800\n",
      "weighted avg       0.68      0.70      0.67       800\n",
      "\n",
      "\n",
      "Classification report for the model: MNB\n",
      "              precision    recall  f1-score   support\n",
      "\n",
      "    negative       0.81      0.88      0.84       492\n",
      "     neutral       0.60      0.51      0.55       160\n",
      "    positive       0.70      0.59      0.64       148\n",
      "\n",
      "    accuracy                           0.76       800\n",
      "   macro avg       0.70      0.66      0.68       800\n",
      "weighted avg       0.75      0.76      0.75       800\n",
      "\n",
      "\n",
      "Classification report for the model: CNB\n",
      "              precision    recall  f1-score   support\n",
      "\n",
      "    negative       0.85      0.83      0.84       492\n",
      "     neutral       0.61      0.58      0.60       160\n",
      "    positive       0.63      0.71      0.67       148\n",
      "\n",
      "    accuracy                           0.76       800\n",
      "   macro avg       0.70      0.71      0.70       800\n",
      "weighted avg       0.76      0.76      0.76       800\n",
      "\n",
      "\n"
     ]
    }
   ],
   "source": [
    "models_tested = ['DT', 'MNB', 'CNB']\n",
    "check_models(vectorizer_train, vectorizer_test, y_train, y_test, models_tested)"
   ]
  }
 ],
 "metadata": {
  "kernelspec": {
   "display_name": "Python 3",
   "language": "python",
   "name": "python3"
  },
  "language_info": {
   "codemirror_mode": {
    "name": "ipython",
    "version": 3
   },
   "file_extension": ".py",
   "mimetype": "text/x-python",
   "name": "python",
   "nbconvert_exporter": "python",
   "pygments_lexer": "ipython3",
   "version": "3.7.8rc1"
  }
 },
 "nbformat": 4,
 "nbformat_minor": 4
}
