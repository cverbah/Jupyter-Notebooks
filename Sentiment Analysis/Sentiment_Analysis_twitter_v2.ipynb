{
 "cells": [
  {
   "cell_type": "code",
   "execution_count": 1,
   "metadata": {},
   "outputs": [],
   "source": [
    "from IPython.core.interactiveshell import InteractiveShell\n",
    "InteractiveShell.ast_node_interactivity = 'all'"
   ]
  },
  {
   "cell_type": "markdown",
   "metadata": {},
   "source": [
    "# Sentiment Analysis - US Airline industry"
   ]
  },
  {
   "cell_type": "markdown",
   "metadata": {},
   "source": [
    "The goal of this project is to analyse the user sentiment towards the US airline industry on twitter using different models from the scikit-learn library.\n",
    "- the dataset used contains a manually labelled sentiment per tweet : (positive, negative, neutral)"
   ]
  },
  {
   "cell_type": "markdown",
   "metadata": {},
   "source": [
    "### Loading the libraries needed:"
   ]
  },
  {
   "cell_type": "code",
   "execution_count": 2,
   "metadata": {},
   "outputs": [],
   "source": [
    "import numpy as np\n",
    "import pandas as pd\n",
    "import matplotlib.pyplot as plt\n",
    "import seaborn as sns\n",
    "import re\n",
    "import nltk\n",
    "import math\n",
    "import time\n",
    "from collections import Counter\n",
    "from scipy.stats import sem, t\n",
    "#nltk\n",
    "from nltk.stem import PorterStemmer\n",
    "from nltk.stem.wordnet import WordNetLemmatizer\n",
    "from nltk.corpus import stopwords\n",
    "#sklearn\n",
    "from sklearn.model_selection import train_test_split,cross_val_score, GridSearchCV\n",
    "from sklearn.feature_extraction.text import CountVectorizer\n",
    "from sklearn.metrics import accuracy_score, precision_score, recall_score, f1_score, classification_report, confusion_matrix\n",
    "#models\n",
    "from sklearn.naive_bayes import MultinomialNB, ComplementNB\n",
    "from sklearn.ensemble import RandomForestClassifier\n",
    "from sklearn.tree import DecisionTreeClassifier\n",
    "from sklearn.svm import LinearSVC\n",
    "\n",
    "import warnings\n",
    "\n",
    "warnings.filterwarnings('ignore')\n",
    "plt.style.use('seaborn')"
   ]
  },
  {
   "cell_type": "markdown",
   "metadata": {},
   "source": [
    "### Loading and inspecting the dataset"
   ]
  },
  {
   "cell_type": "code",
   "execution_count": 3,
   "metadata": {
    "scrolled": true
   },
   "outputs": [
    {
     "data": {
      "text/html": [
       "<div>\n",
       "<style scoped>\n",
       "    .dataframe tbody tr th:only-of-type {\n",
       "        vertical-align: middle;\n",
       "    }\n",
       "\n",
       "    .dataframe tbody tr th {\n",
       "        vertical-align: top;\n",
       "    }\n",
       "\n",
       "    .dataframe thead th {\n",
       "        text-align: right;\n",
       "    }\n",
       "</style>\n",
       "<table border=\"1\" class=\"dataframe\">\n",
       "  <thead>\n",
       "    <tr style=\"text-align: right;\">\n",
       "      <th></th>\n",
       "      <th>instance_num</th>\n",
       "      <th>tweet</th>\n",
       "      <th>sentiment</th>\n",
       "    </tr>\n",
       "  </thead>\n",
       "  <tbody>\n",
       "    <tr>\n",
       "      <th>0</th>\n",
       "      <td>1</td>\n",
       "      <td>@JetBlue thank you for incredible customer svc...</td>\n",
       "      <td>positive</td>\n",
       "    </tr>\n",
       "    <tr>\n",
       "      <th>1</th>\n",
       "      <td>2</td>\n",
       "      <td>@united I was well taken care of, thanks. I've...</td>\n",
       "      <td>positive</td>\n",
       "    </tr>\n",
       "    <tr>\n",
       "      <th>2</th>\n",
       "      <td>3</td>\n",
       "      <td>@united Too Late Flight, damage has been done....</td>\n",
       "      <td>negative</td>\n",
       "    </tr>\n",
       "    <tr>\n",
       "      <th>3</th>\n",
       "      <td>4</td>\n",
       "      <td>@USAirways of course! \"Yeah, travel has gotten...</td>\n",
       "      <td>negative</td>\n",
       "    </tr>\n",
       "    <tr>\n",
       "      <th>4</th>\n",
       "      <td>5</td>\n",
       "      <td>@united I'm very frustrated and have wasted 2 ...</td>\n",
       "      <td>negative</td>\n",
       "    </tr>\n",
       "  </tbody>\n",
       "</table>\n",
       "</div>"
      ],
      "text/plain": [
       "   instance_num                                              tweet sentiment\n",
       "0             1  @JetBlue thank you for incredible customer svc...  positive\n",
       "1             2  @united I was well taken care of, thanks. I've...  positive\n",
       "2             3  @united Too Late Flight, damage has been done....  negative\n",
       "3             4  @USAirways of course! \"Yeah, travel has gotten...  negative\n",
       "4             5  @united I'm very frustrated and have wasted 2 ...  negative"
      ]
     },
     "execution_count": 3,
     "metadata": {},
     "output_type": "execute_result"
    },
    {
     "name": "stdout",
     "output_type": "stream",
     "text": [
      "\n",
      "<class 'pandas.core.frame.DataFrame'>\n",
      "RangeIndex: 4000 entries, 0 to 3999\n",
      "Data columns (total 3 columns):\n",
      " #   Column        Non-Null Count  Dtype \n",
      "---  ------        --------------  ----- \n",
      " 0   instance_num  4000 non-null   int64 \n",
      " 1   tweet         4000 non-null   object\n",
      " 2   sentiment     4000 non-null   object\n",
      "dtypes: int64(1), object(2)\n",
      "memory usage: 93.9+ KB\n"
     ]
    }
   ],
   "source": [
    "df = pd.read_table('dataset_airlines.tsv', usecols=[0,1,2], names=['instance_num', 'tweet', 'sentiment'], header=None)\n",
    "df.head()\n",
    "print('')\n",
    "#checking the data, checking for Missing Values and the type of data\n",
    "df.info(verbose=True)"
   ]
  },
  {
   "cell_type": "code",
   "execution_count": 4,
   "metadata": {},
   "outputs": [
    {
     "data": {
      "text/plain": [
       "[Text(0.5, 1.0, 'Count by sentiment')]"
      ]
     },
     "execution_count": 4,
     "metadata": {},
     "output_type": "execute_result"
    },
    {
     "data": {
      "image/png": "[encoded data removed]",
      "text/plain": [
       "<Figure size 720x216 with 1 Axes>"
      ]
     },
     "metadata": {},
     "output_type": "display_data"
    }
   ],
   "source": [
    "fig, ax = plt.subplots(1,1, figsize=(10, 3))\n",
    "sns.countplot(df['sentiment'], palette=\"Set2\",order = df['sentiment'].value_counts().index, ax=ax).set(title= f'Count by sentiment')\n",
    "plt.tight_layout()\n",
    "plt.show()"
   ]
  },
  {
   "cell_type": "markdown",
   "metadata": {},
   "source": [
    "## Cleaning the tweets.\n",
    "The tweets must be cleaned due to the special characters. Only strings and the characters: @, # would be mantained in the original tweets. Also we are going to consider the common words in english by using the stop words from nltk"
   ]
  },
  {
   "cell_type": "code",
   "execution_count": 5,
   "metadata": {},
   "outputs": [],
   "source": [
    "#cleaning the tweets. removing special characters, etc\n",
    "def clean_tweet(tweet, stop_words=False):\n",
    "    tweet_cleaned = [''.join(re.findall('[a-zA-Z\\@#]',word)).lower() for word in tweet.split()]\n",
    "    \n",
    "    if '' in tweet_cleaned:\n",
    "        tweet_cleaned.remove('')\n",
    "        \n",
    "    if stop_words == True:\n",
    "        tweet_cleaned = [word for word in tweet_cleaned if (len(word) > 1 and word not in stop_words_english)]\n",
    "    \n",
    "    if stop_words == False:\n",
    "        tweet_cleaned = [word for word in tweet_cleaned if (len(word) > 1)]\n",
    "        \n",
    "    return tweet_cleaned         "
   ]
  },
  {
   "cell_type": "code",
   "execution_count": 6,
   "metadata": {},
   "outputs": [],
   "source": [
    "df_2 = df.copy()\n",
    "#nltk.download('stopwords')\n",
    "stop_words_english = set(stopwords.words('english')) #for getting the most common words in english\n",
    "negative_words = {word for word in stop_words_english if word[-2:] == \"'t\"} #negative words\n",
    "negative_words.add('no')\n",
    "negative_words.add('not')\n",
    "negative_words.add('nor')\n",
    "\n",
    "stop_words_english = stop_words_english.difference(negative_words) #dont want to remove the negative words for sentiments\n",
    "stop_words_english.add('im') #Adding im to the set\n"
   ]
  },
  {
   "cell_type": "code",
   "execution_count": 7,
   "metadata": {
    "scrolled": false
   },
   "outputs": [
    {
     "data": {
      "text/html": [
       "<div>\n",
       "<style scoped>\n",
       "    .dataframe tbody tr th:only-of-type {\n",
       "        vertical-align: middle;\n",
       "    }\n",
       "\n",
       "    .dataframe tbody tr th {\n",
       "        vertical-align: top;\n",
       "    }\n",
       "\n",
       "    .dataframe thead th {\n",
       "        text-align: right;\n",
       "    }\n",
       "</style>\n",
       "<table border=\"1\" class=\"dataframe\">\n",
       "  <thead>\n",
       "    <tr style=\"text-align: right;\">\n",
       "      <th></th>\n",
       "      <th>instance_num</th>\n",
       "      <th>tweet</th>\n",
       "      <th>sentiment</th>\n",
       "    </tr>\n",
       "  </thead>\n",
       "  <tbody>\n",
       "    <tr>\n",
       "      <th>0</th>\n",
       "      <td>1</td>\n",
       "      <td>[@jetblue, thank, incredible, customer, svc, g...</td>\n",
       "      <td>positive</td>\n",
       "    </tr>\n",
       "    <tr>\n",
       "      <th>1</th>\n",
       "      <td>2</td>\n",
       "      <td>[@united, well, taken, care, thanks, ive, alre...</td>\n",
       "      <td>positive</td>\n",
       "    </tr>\n",
       "    <tr>\n",
       "      <th>2</th>\n",
       "      <td>3</td>\n",
       "      <td>[@united, late, flight, damage, done, easily, ...</td>\n",
       "      <td>negative</td>\n",
       "    </tr>\n",
       "    <tr>\n",
       "      <th>3</th>\n",
       "      <td>4</td>\n",
       "      <td>[@usairways, course, yeah, travel, gotten, har...</td>\n",
       "      <td>negative</td>\n",
       "    </tr>\n",
       "    <tr>\n",
       "      <th>4</th>\n",
       "      <td>5</td>\n",
       "      <td>[@united, frustrated, wasted, days, due, equip...</td>\n",
       "      <td>negative</td>\n",
       "    </tr>\n",
       "  </tbody>\n",
       "</table>\n",
       "</div>"
      ],
      "text/plain": [
       "   instance_num                                              tweet sentiment\n",
       "0             1  [@jetblue, thank, incredible, customer, svc, g...  positive\n",
       "1             2  [@united, well, taken, care, thanks, ive, alre...  positive\n",
       "2             3  [@united, late, flight, damage, done, easily, ...  negative\n",
       "3             4  [@usairways, course, yeah, travel, gotten, har...  negative\n",
       "4             5  [@united, frustrated, wasted, days, due, equip...  negative"
      ]
     },
     "execution_count": 7,
     "metadata": {},
     "output_type": "execute_result"
    }
   ],
   "source": [
    "df_2['tweet'] = df_2['tweet'].apply(lambda tweet: clean_tweet(tweet, stop_words=True))\n",
    "df_2.head()"
   ]
  },
  {
   "cell_type": "markdown",
   "metadata": {},
   "source": [
    "## Data Exploration"
   ]
  },
  {
   "cell_type": "markdown",
   "metadata": {},
   "source": [
    "First we are going to explore if exists a relation between the airlines and the sentiment"
   ]
  },
  {
   "cell_type": "code",
   "execution_count": 8,
   "metadata": {
    "scrolled": false
   },
   "outputs": [],
   "source": [
    "df_2['tweeter_users'] = df_2['tweet'].apply(lambda tweet: [word for word in tweet if '@' in word])"
   ]
  },
  {
   "cell_type": "markdown",
   "metadata": {},
   "source": [
    "Getting the airlines present in the dataset"
   ]
  },
  {
   "cell_type": "code",
   "execution_count": 9,
   "metadata": {
    "scrolled": true
   },
   "outputs": [
    {
     "data": {
      "text/plain": [
       "[('@united', 1079),\n",
       " ('@americanair', 847),\n",
       " ('@usairways', 781),\n",
       " ('@southwestair', 674),\n",
       " ('@jetblue', 590),\n",
       " ('@virginamerica', 140),\n",
       " ('@imaginedragons', 19),\n",
       " ('@delta', 18),\n",
       " ('@jetblues', 9),\n",
       " ('@wsj', 8)]"
      ]
     },
     "execution_count": 9,
     "metadata": {},
     "output_type": "execute_result"
    }
   ],
   "source": [
    "total_tweeter_users = []\n",
    "for user in df_2['tweeter_users']: #merging all the tweets in 1 list separated by word\n",
    "    total_tweeter_users.extend(user)\n",
    "        \n",
    "count_users = Counter(total_tweeter_users)\n",
    "top_10 = count_users.most_common()[:10]\n",
    "top_10"
   ]
  },
  {
   "cell_type": "markdown",
   "metadata": {},
   "source": [
    "We can see that the most relevant airlines in the dataset are: **united**, **americanair**, **usairways**, **southwestair**, **jetblue** and **virginamerica**"
   ]
  },
  {
   "cell_type": "code",
   "execution_count": 10,
   "metadata": {},
   "outputs": [],
   "source": [
    "airlines_dataset = {airline[0] for airline in top_10[:6]}"
   ]
  },
  {
   "cell_type": "code",
   "execution_count": 11,
   "metadata": {},
   "outputs": [],
   "source": [
    "def get_airlines(tweet_user):\n",
    "    users = [user for user in tweet_user if user in airlines_dataset]\n",
    "    airlines = np.unique(users)\n",
    "    return airlines"
   ]
  },
  {
   "cell_type": "code",
   "execution_count": 12,
   "metadata": {},
   "outputs": [],
   "source": [
    "df_2['airlines'] = df_2['tweeter_users'].apply(lambda tweeter_user: get_airlines(tweeter_user))\n",
    "df_2.drop(columns=['tweeter_users'], inplace=True)\n",
    "df_2.drop(columns=['instance_num'], inplace=True)"
   ]
  },
  {
   "cell_type": "code",
   "execution_count": 13,
   "metadata": {},
   "outputs": [],
   "source": [
    "sentiments = np.unique(df_2['sentiment'])\n",
    "dict_sentiments = {}\n",
    "for sentiment in sentiments:\n",
    "    df_aux = df_2[df_2['sentiment'] == sentiment]\n",
    "    \n",
    "    total = []\n",
    "    for t in df_aux['airlines']: #merging all the tweets in 1 list separated by word\n",
    "        total.extend(t)\n",
    "        c = Counter(total)\n",
    "        dict_sentiments[sentiment] = c "
   ]
  },
  {
   "cell_type": "code",
   "execution_count": 14,
   "metadata": {
    "scrolled": false
   },
   "outputs": [
    {
     "data": {
      "text/plain": [
       "[Text(0.5, 1.0, 'Count of tweets for Southwestair')]"
      ]
     },
     "execution_count": 14,
     "metadata": {},
     "output_type": "execute_result"
    },
    {
     "data": {
      "image/png": "[encoded data removed]",
      "text/plain": [
       "<Figure size 360x216 with 1 Axes>"
      ]
     },
     "metadata": {},
     "output_type": "display_data"
    },
    {
     "data": {
      "text/plain": [
       "[Text(0.5, 1.0, 'Count of tweets for Usairways')]"
      ]
     },
     "execution_count": 14,
     "metadata": {},
     "output_type": "execute_result"
    },
    {
     "data": {
      "image/png": "[encoded data removed]",
      "text/plain": [
       "<Figure size 360x216 with 1 Axes>"
      ]
     },
     "metadata": {},
     "output_type": "display_data"
    },
    {
     "data": {
      "text/plain": [
       "[Text(0.5, 1.0, 'Count of tweets for Americanair')]"
      ]
     },
     "execution_count": 14,
     "metadata": {},
     "output_type": "execute_result"
    },
    {
     "data": {
      "image/png": "[encoded data removed]",
      "text/plain": [
       "<Figure size 360x216 with 1 Axes>"
      ]
     },
     "metadata": {},
     "output_type": "display_data"
    },
    {
     "data": {
      "text/plain": [
       "[Text(0.5, 1.0, 'Count of tweets for Jetblue')]"
      ]
     },
     "execution_count": 14,
     "metadata": {},
     "output_type": "execute_result"
    },
    {
     "data": {
      "image/png": "[encoded data removed]",
      "text/plain": [
       "<Figure size 360x216 with 1 Axes>"
      ]
     },
     "metadata": {},
     "output_type": "display_data"
    },
    {
     "data": {
      "text/plain": [
       "[Text(0.5, 1.0, 'Count of tweets for Virginamerica')]"
      ]
     },
     "execution_count": 14,
     "metadata": {},
     "output_type": "execute_result"
    },
    {
     "data": {
      "image/png": "[encoded data removed]",
      "text/plain": [
       "<Figure size 360x216 with 1 Axes>"
      ]
     },
     "metadata": {},
     "output_type": "display_data"
    },
    {
     "data": {
      "text/plain": [
       "[Text(0.5, 1.0, 'Count of tweets for United')]"
      ]
     },
     "execution_count": 14,
     "metadata": {},
     "output_type": "execute_result"
    },
    {
     "data": {
      "image/png": "[encoded data removed]",
      "text/plain": [
       "<Figure size 360x216 with 1 Axes>"
      ]
     },
     "metadata": {},
     "output_type": "display_data"
    }
   ],
   "source": [
    "for airline in airlines_dataset:\n",
    "    \n",
    "    count_sentiments = {}\n",
    "    for sentiment in sentiments:\n",
    "        count_sentiments[sentiment] = dict_sentiments[sentiment][airline]\n",
    "    \n",
    "    airline = airline.replace('@','').capitalize()\n",
    "    \n",
    "    fig, ax = plt.subplots(1,1, figsize=(5, 3))   \n",
    "    sns.barplot(y=list(count_sentiments.keys()), x =list(count_sentiments.values()),palette='Set2')\\\n",
    "    .set(title= f'Count of tweets for {airline}')\n",
    "    \n",
    "    plt.tight_layout()\n",
    "    plt.show()"
   ]
  },
  {
   "cell_type": "markdown",
   "metadata": {},
   "source": [
    "Possible to observe that when a tweet containts the airlines twitter page it may affect the sentiment of the tweet, hence, we are not going to remove them for training the models."
   ]
  },
  {
   "cell_type": "markdown",
   "metadata": {},
   "source": [
    "### Common words (without filtering by sentiment and removing the @airlines from the tweets)"
   ]
  },
  {
   "cell_type": "code",
   "execution_count": 15,
   "metadata": {},
   "outputs": [],
   "source": [
    "def plot_most_common(df,sentiment,key,top=10):\n",
    "    assert key in {'words', 'airlines'}\n",
    "    \n",
    "    if key == 'words':\n",
    "        aux = 'tweet'\n",
    "        \n",
    "    if key == 'airlines':\n",
    "        aux = key\n",
    "    \n",
    "    total = []\n",
    "    for t in df[aux]: #merging all the tweets in 1 list separated by word\n",
    "        total.extend(t)\n",
    "\n",
    "    c = Counter(total)\n",
    "    top_values = np.array(c.most_common()[:top])\n",
    "    #plot\n",
    "    count_to_int = list(map(lambda count: int(count), top_values[:,1]))\n",
    "\n",
    "    fig, ax = plt.subplots(1,1, figsize=(11, 4))\n",
    "    if key == 'words':\n",
    "        aux2 = f'(Top {top})'\n",
    "    \n",
    "    elif key == 'airlines':\n",
    "        aux2 = ''\n",
    "    \n",
    "    sns.barplot(x=top_values[:,0], y=count_to_int, palette='Set2')\\\n",
    "                .set(title= f'Most common {key} in the dataset {aux2} for the sentiment: {sentiment.capitalize()}')\n",
    "    ax.set_xlabel(f'{key}')\n",
    "    ax.set_ylabel('count') \n",
    "    plt.tight_layout()\n",
    "    plt.show()"
   ]
  },
  {
   "cell_type": "code",
   "execution_count": 16,
   "metadata": {},
   "outputs": [],
   "source": [
    "df_2['tweet'] = df_2['tweet'].apply(lambda tweet: [word for word in tweet if word not in airlines_dataset])"
   ]
  },
  {
   "cell_type": "code",
   "execution_count": 17,
   "metadata": {},
   "outputs": [
    {
     "data": {
      "image/png": "[encoded data removed]",
      "text/plain": [
       "<Figure size 792x288 with 1 Axes>"
      ]
     },
     "metadata": {},
     "output_type": "display_data"
    }
   ],
   "source": [
    "plot_most_common(df_2,sentiment='all sentiments', key='words', top=10)"
   ]
  },
  {
   "cell_type": "markdown",
   "metadata": {},
   "source": [
    "### Common words: Filtering by sentiment"
   ]
  },
  {
   "cell_type": "code",
   "execution_count": 18,
   "metadata": {
    "scrolled": false
   },
   "outputs": [
    {
     "data": {
      "image/png": "[encoded data removed]",
      "text/plain": [
       "<Figure size 792x288 with 1 Axes>"
      ]
     },
     "metadata": {},
     "output_type": "display_data"
    },
    {
     "data": {
      "image/png": "[encoded data removed]",
      "text/plain": [
       "<Figure size 792x288 with 1 Axes>"
      ]
     },
     "metadata": {},
     "output_type": "display_data"
    },
    {
     "data": {
      "image/png": "[encoded data removed]",
      "text/plain": [
       "<Figure size 792x288 with 1 Axes>"
      ]
     },
     "metadata": {},
     "output_type": "display_data"
    }
   ],
   "source": [
    "#most common words, filtering by sentiment\n",
    "sentiments = np.unique(df_2['sentiment'].values)\n",
    "for sentiment in sentiments:\n",
    "    df_aux = df_2[df_2['sentiment'] == sentiment]\n",
    "    plot_most_common(df_aux,sentiment,key='words', top=15)"
   ]
  },
  {
   "cell_type": "markdown",
   "metadata": {},
   "source": [
    "## Preprocessing: lemmatization and stemming\n",
    "Lemmatisation and stemming is going to be applied as preprocessing. 2 different datasets are going to be created in order to have more options for training the different models"
   ]
  },
  {
   "cell_type": "markdown",
   "metadata": {},
   "source": [
    "### Applying lemmatization\n",
    "Lemmatisation is the algorithmic process of determining the lemma of a word based on its intended meaning. <br>\n",
    "More info [Wikipedia](https://en.wikipedia.org/wiki/Lemmatisation)"
   ]
  },
  {
   "cell_type": "code",
   "execution_count": 19,
   "metadata": {},
   "outputs": [],
   "source": [
    "df_lemma = df_2.copy()\n",
    "\n",
    "def lemmatization(tweet):\n",
    "    lemma = WordNetLemmatizer()\n",
    "    normalized_sentence = []\n",
    "    for word in tweet:\n",
    "        normalized_sentence.append(lemma.lemmatize(word))\n",
    "        \n",
    "    return normalized_sentence"
   ]
  },
  {
   "cell_type": "code",
   "execution_count": 20,
   "metadata": {},
   "outputs": [],
   "source": [
    "df_lemma['tweet'] = df_lemma.apply(lambda row: lemmatization(row['tweet']), axis=1)"
   ]
  },
  {
   "cell_type": "markdown",
   "metadata": {},
   "source": [
    "### Applying stemming\n",
    "Stemming is the process of producing morphological variants of a root/base word. <br>\n",
    "More info [GeeksforGeeks](https://www.geeksforgeeks.org/introduction-to-stemming/)\n"
   ]
  },
  {
   "cell_type": "code",
   "execution_count": 21,
   "metadata": {},
   "outputs": [],
   "source": [
    "df_stemm = df_2.copy()\n",
    "\n",
    "def stemming(tweet):\n",
    "    porter = PorterStemmer()\n",
    "    normalized_sentence = []\n",
    "    for word in tweet:\n",
    "        normalized_sentence.append(porter.stem(word))\n",
    "        \n",
    "    return normalized_sentence"
   ]
  },
  {
   "cell_type": "code",
   "execution_count": 22,
   "metadata": {},
   "outputs": [],
   "source": [
    "df_stemm['tweet'] = df_stemm.apply(lambda row: stemming(row['tweet']), axis=1)"
   ]
  },
  {
   "cell_type": "markdown",
   "metadata": {},
   "source": [
    "## Preprocessing: formating the tweets back to phrases"
   ]
  },
  {
   "cell_type": "markdown",
   "metadata": {},
   "source": [
    "First, the @airlines are going to be added back to the tweets. It is important to note that because CountVectorizer is going to be used before training the models, the order of the words for each tweet does not matter."
   ]
  },
  {
   "cell_type": "code",
   "execution_count": 23,
   "metadata": {},
   "outputs": [],
   "source": [
    "def join_words(tweet, airline):\n",
    "    tweet.extend(airline)\n",
    "    join_words = ' '.join([str(word) for word in tweet])\n",
    "    return join_words"
   ]
  },
  {
   "cell_type": "code",
   "execution_count": 24,
   "metadata": {},
   "outputs": [],
   "source": [
    "df_2['tweet'] = df_2.apply(lambda row: join_words(row['tweet'], row['airlines']), axis=1)\n",
    "df_lemma['tweet'] = df_lemma.apply(lambda row: join_words(row['tweet'], row['airlines']), axis=1)\n",
    "df_stemm['tweet'] = df_stemm.apply(lambda row: join_words(row['tweet'], row['airlines']), axis=1)"
   ]
  },
  {
   "cell_type": "code",
   "execution_count": 25,
   "metadata": {
    "scrolled": true
   },
   "outputs": [
    {
     "name": "stdout",
     "output_type": "stream",
     "text": [
      "@SouthwestAir You need to be more accommodating to your loyal customers. Not happy now!\n",
      "need accommodating loyal customers not happy @southwestair\n",
      "need accommodating loyal customer not happy @southwestair\n",
      "need accommod loyal custom not happi @southwestair\n"
     ]
    }
   ],
   "source": [
    "#example\n",
    "print(df.iloc[11,1]) #no preprocessing\n",
    "print(df_2.iloc[11,0]) #removing stop words\n",
    "print(df_lemma.iloc[11,0]) #removing stop words + lemma\n",
    "print(df_stemm.iloc[11,0]) #removing stop words + stemm"
   ]
  },
  {
   "cell_type": "markdown",
   "metadata": {},
   "source": [
    "## Splitting the dataset into a training and test set"
   ]
  },
  {
   "cell_type": "code",
   "execution_count": 26,
   "metadata": {},
   "outputs": [],
   "source": [
    "def train_test_split_df(df, seed):\n",
    "    X = df['tweet'].to_list()\n",
    "    y = df['sentiment'].to_list()\n",
    "    \n",
    "    X_train, X_test, y_train, y_test = train_test_split(X, y, test_size = 0.2, random_state = seed)\n",
    "    return X_train, X_test, y_train, y_test    "
   ]
  },
  {
   "cell_type": "code",
   "execution_count": 27,
   "metadata": {},
   "outputs": [
    {
     "name": "stdout",
     "output_type": "stream",
     "text": [
      "The training size is: 3200 tweets\n",
      "The test size is: 800 tweets\n"
     ]
    }
   ],
   "source": [
    "df_lists = [df_2, df_lemma, df_stemm]\n",
    "\n",
    "X_train_list =[]\n",
    "X_test_list = []\n",
    "y_train_list = []\n",
    "y_test_list = []\n",
    "\n",
    "for df in df_lists:\n",
    "    X_train, X_test, y_train, y_test = train_test_split_df(df, 111)\n",
    "    \n",
    "    X_train_list.append(X_train)\n",
    "    X_test_list.append(X_test)\n",
    "    y_train_list.append(y_train)\n",
    "    y_test_list.append(y_test)\n",
    "\n",
    "print(f'The training size is: {len(X_train_list[0])} tweets')\n",
    "print(f'The test size is: {len(X_test_list[0])} tweets')"
   ]
  },
  {
   "cell_type": "markdown",
   "metadata": {},
   "source": [
    "### Vectorizing the tweets.\n",
    "The sentences of each tweet are transformed into a vector that contains the frequence of each word of the tweet present in the tweet (bags of words) from the vocabulary"
   ]
  },
  {
   "cell_type": "code",
   "execution_count": 28,
   "metadata": {},
   "outputs": [],
   "source": [
    "def vectorize_dataset(X_train,X_test, max_features):\n",
    "    \n",
    "    vectorize = CountVectorizer(max_features=max_features)\n",
    "    vectorizer_train = vectorize.fit_transform(X_train)\n",
    "    vectorizer_test = vectorize.transform(X_test)\n",
    "    \n",
    "    vocabulary = vectorize.get_feature_names()\n",
    "      \n",
    "    return vectorizer_train, vectorizer_test, vocabulary"
   ]
  },
  {
   "cell_type": "code",
   "execution_count": 29,
   "metadata": {},
   "outputs": [],
   "source": [
    "X_train_list_vect =[] #a list to save the differents df: only with stop words, stop words+lemma, stop words+stemm\n",
    "X_test_list_vect = []\n",
    "vocabulary_vect = []\n",
    "\n",
    "for i in range(3):\n",
    "    vectorizer_train, vectorizer_test, vocabulary = vectorize_dataset(X_train_list[i], X_test_list[i],1500)\n",
    "    X_train_list_vect.append(vectorizer_train)\n",
    "    X_test_list_vect.append(vectorizer_test)\n",
    "    vocabulary_vect.append(vocabulary)"
   ]
  },
  {
   "cell_type": "markdown",
   "metadata": {},
   "source": [
    "## Training different models"
   ]
  },
  {
   "cell_type": "markdown",
   "metadata": {},
   "source": [
    "### Cross Validation\n",
    "Models that are going to be tested with the default parameters: **Decision Tree**, **Multinomial Naive Bayes**, **Complement Naive Bayes**, **SVM**, **Random Forest** <br>\n",
    "5 cross validations are going to be made for each model."
   ]
  },
  {
   "cell_type": "code",
   "execution_count": 30,
   "metadata": {},
   "outputs": [],
   "source": [
    "models = [DecisionTreeClassifier(), MultinomialNB(), ComplementNB(),\\\n",
    "          LinearSVC(), RandomForestClassifier()]\n",
    "\n",
    "models_name = ['DT', 'MNB', 'CNB','SVM', 'RF']"
   ]
  },
  {
   "cell_type": "code",
   "execution_count": 31,
   "metadata": {},
   "outputs": [],
   "source": [
    "from scipy.stats import sem, t\n",
    "\n",
    "def models_comparison(models_name,df_scores):\n",
    "    confidence = 0.95\n",
    "    models_resume = []\n",
    "    for name, mean, std in zip(models_name,df_scores.mean(),df_scores.std()):\n",
    "        dict_model = {}\n",
    "        n = len(df_scores)\n",
    "        h = std * t.ppf((1 + confidence) / 2, n - 1)\n",
    "        interval =[round(mean+h,3),round(mean-h,3)]\n",
    "        dict_model['Model'] = name\n",
    "        dict_model['Accuracy'] = round(mean,3)\n",
    "        dict_model['Std'] = round(std,3)\n",
    "        dict_model['Confidence Interval'] = interval\n",
    "        models_resume.append(dict_model)\n",
    "        \n",
    "    df_scores = pd.DataFrame(models_resume)\n",
    "    df_scores = df_scores.set_index('Model').sort_values(by='Accuracy', ascending=False)\n",
    "    return df_scores"
   ]
  },
  {
   "cell_type": "markdown",
   "metadata": {},
   "source": [
    "### Only considering stop words"
   ]
  },
  {
   "cell_type": "code",
   "execution_count": 32,
   "metadata": {},
   "outputs": [],
   "source": [
    "df_scores = pd.DataFrame()\n",
    "for model_name, model in zip(models_name, models):\n",
    "    scores = cross_val_score(model, X_train_list_vect[0], y_train_list[0], scoring = 'accuracy', cv=5)\n",
    "    df_scores[model_name] = scores"
   ]
  },
  {
   "cell_type": "code",
   "execution_count": 33,
   "metadata": {},
   "outputs": [
    {
     "data": {
      "text/html": [
       "<div>\n",
       "<style scoped>\n",
       "    .dataframe tbody tr th:only-of-type {\n",
       "        vertical-align: middle;\n",
       "    }\n",
       "\n",
       "    .dataframe tbody tr th {\n",
       "        vertical-align: top;\n",
       "    }\n",
       "\n",
       "    .dataframe thead th {\n",
       "        text-align: right;\n",
       "    }\n",
       "</style>\n",
       "<table border=\"1\" class=\"dataframe\">\n",
       "  <thead>\n",
       "    <tr style=\"text-align: right;\">\n",
       "      <th></th>\n",
       "      <th>Accuracy</th>\n",
       "      <th>Std</th>\n",
       "      <th>Confidence Interval</th>\n",
       "    </tr>\n",
       "    <tr>\n",
       "      <th>Model</th>\n",
       "      <th></th>\n",
       "      <th></th>\n",
       "      <th></th>\n",
       "    </tr>\n",
       "  </thead>\n",
       "  <tbody>\n",
       "    <tr>\n",
       "      <th>MNB</th>\n",
       "      <td>0.746</td>\n",
       "      <td>0.007</td>\n",
       "      <td>[0.765, 0.727]</td>\n",
       "    </tr>\n",
       "    <tr>\n",
       "      <th>CNB</th>\n",
       "      <td>0.742</td>\n",
       "      <td>0.003</td>\n",
       "      <td>[0.75, 0.735]</td>\n",
       "    </tr>\n",
       "    <tr>\n",
       "      <th>RF</th>\n",
       "      <td>0.730</td>\n",
       "      <td>0.013</td>\n",
       "      <td>[0.767, 0.693]</td>\n",
       "    </tr>\n",
       "    <tr>\n",
       "      <th>SVM</th>\n",
       "      <td>0.728</td>\n",
       "      <td>0.013</td>\n",
       "      <td>[0.765, 0.692]</td>\n",
       "    </tr>\n",
       "    <tr>\n",
       "      <th>DT</th>\n",
       "      <td>0.637</td>\n",
       "      <td>0.016</td>\n",
       "      <td>[0.682, 0.593]</td>\n",
       "    </tr>\n",
       "  </tbody>\n",
       "</table>\n",
       "</div>"
      ],
      "text/plain": [
       "       Accuracy    Std Confidence Interval\n",
       "Model                                     \n",
       "MNB       0.746  0.007      [0.765, 0.727]\n",
       "CNB       0.742  0.003       [0.75, 0.735]\n",
       "RF        0.730  0.013      [0.767, 0.693]\n",
       "SVM       0.728  0.013      [0.765, 0.692]\n",
       "DT        0.637  0.016      [0.682, 0.593]"
      ]
     },
     "execution_count": 33,
     "metadata": {},
     "output_type": "execute_result"
    }
   ],
   "source": [
    "models_comparison(models_name,df_scores)"
   ]
  },
  {
   "cell_type": "markdown",
   "metadata": {},
   "source": [
    "## Considering stop words + lemmatization"
   ]
  },
  {
   "cell_type": "code",
   "execution_count": 34,
   "metadata": {},
   "outputs": [],
   "source": [
    "df_scores = pd.DataFrame()\n",
    "for model_name, model in zip(models_name, models):\n",
    "    scores = cross_val_score(model, X_train_list_vect[1], y_train_list[1], scoring = 'accuracy', cv=5)\n",
    "    df_scores[model_name] = scores"
   ]
  },
  {
   "cell_type": "code",
   "execution_count": 35,
   "metadata": {
    "scrolled": true
   },
   "outputs": [
    {
     "data": {
      "text/html": [
       "<div>\n",
       "<style scoped>\n",
       "    .dataframe tbody tr th:only-of-type {\n",
       "        vertical-align: middle;\n",
       "    }\n",
       "\n",
       "    .dataframe tbody tr th {\n",
       "        vertical-align: top;\n",
       "    }\n",
       "\n",
       "    .dataframe thead th {\n",
       "        text-align: right;\n",
       "    }\n",
       "</style>\n",
       "<table border=\"1\" class=\"dataframe\">\n",
       "  <thead>\n",
       "    <tr style=\"text-align: right;\">\n",
       "      <th></th>\n",
       "      <th>Accuracy</th>\n",
       "      <th>Std</th>\n",
       "      <th>Confidence Interval</th>\n",
       "    </tr>\n",
       "    <tr>\n",
       "      <th>Model</th>\n",
       "      <th></th>\n",
       "      <th></th>\n",
       "      <th></th>\n",
       "    </tr>\n",
       "  </thead>\n",
       "  <tbody>\n",
       "    <tr>\n",
       "      <th>MNB</th>\n",
       "      <td>0.750</td>\n",
       "      <td>0.012</td>\n",
       "      <td>[0.783, 0.716]</td>\n",
       "    </tr>\n",
       "    <tr>\n",
       "      <th>CNB</th>\n",
       "      <td>0.745</td>\n",
       "      <td>0.007</td>\n",
       "      <td>[0.764, 0.727]</td>\n",
       "    </tr>\n",
       "    <tr>\n",
       "      <th>SVM</th>\n",
       "      <td>0.728</td>\n",
       "      <td>0.013</td>\n",
       "      <td>[0.764, 0.692]</td>\n",
       "    </tr>\n",
       "    <tr>\n",
       "      <th>RF</th>\n",
       "      <td>0.728</td>\n",
       "      <td>0.012</td>\n",
       "      <td>[0.761, 0.695]</td>\n",
       "    </tr>\n",
       "    <tr>\n",
       "      <th>DT</th>\n",
       "      <td>0.652</td>\n",
       "      <td>0.015</td>\n",
       "      <td>[0.695, 0.609]</td>\n",
       "    </tr>\n",
       "  </tbody>\n",
       "</table>\n",
       "</div>"
      ],
      "text/plain": [
       "       Accuracy    Std Confidence Interval\n",
       "Model                                     \n",
       "MNB       0.750  0.012      [0.783, 0.716]\n",
       "CNB       0.745  0.007      [0.764, 0.727]\n",
       "SVM       0.728  0.013      [0.764, 0.692]\n",
       "RF        0.728  0.012      [0.761, 0.695]\n",
       "DT        0.652  0.015      [0.695, 0.609]"
      ]
     },
     "execution_count": 35,
     "metadata": {},
     "output_type": "execute_result"
    }
   ],
   "source": [
    "models_comparison(models_name,df_scores)"
   ]
  },
  {
   "cell_type": "markdown",
   "metadata": {},
   "source": [
    "## Considering stop words + stemming"
   ]
  },
  {
   "cell_type": "code",
   "execution_count": 36,
   "metadata": {},
   "outputs": [],
   "source": [
    "df_scores = pd.DataFrame()\n",
    "for model_name, model in zip(models_name, models):\n",
    "    scores = cross_val_score(model, X_train_list_vect[2], y_train_list[2], scoring = 'accuracy', cv=5)\n",
    "    df_scores[model_name] = scores"
   ]
  },
  {
   "cell_type": "code",
   "execution_count": 37,
   "metadata": {},
   "outputs": [
    {
     "data": {
      "text/html": [
       "<div>\n",
       "<style scoped>\n",
       "    .dataframe tbody tr th:only-of-type {\n",
       "        vertical-align: middle;\n",
       "    }\n",
       "\n",
       "    .dataframe tbody tr th {\n",
       "        vertical-align: top;\n",
       "    }\n",
       "\n",
       "    .dataframe thead th {\n",
       "        text-align: right;\n",
       "    }\n",
       "</style>\n",
       "<table border=\"1\" class=\"dataframe\">\n",
       "  <thead>\n",
       "    <tr style=\"text-align: right;\">\n",
       "      <th></th>\n",
       "      <th>Accuracy</th>\n",
       "      <th>Std</th>\n",
       "      <th>Confidence Interval</th>\n",
       "    </tr>\n",
       "    <tr>\n",
       "      <th>Model</th>\n",
       "      <th></th>\n",
       "      <th></th>\n",
       "      <th></th>\n",
       "    </tr>\n",
       "  </thead>\n",
       "  <tbody>\n",
       "    <tr>\n",
       "      <th>MNB</th>\n",
       "      <td>0.752</td>\n",
       "      <td>0.010</td>\n",
       "      <td>[0.78, 0.725]</td>\n",
       "    </tr>\n",
       "    <tr>\n",
       "      <th>CNB</th>\n",
       "      <td>0.750</td>\n",
       "      <td>0.010</td>\n",
       "      <td>[0.778, 0.721]</td>\n",
       "    </tr>\n",
       "    <tr>\n",
       "      <th>SVM</th>\n",
       "      <td>0.738</td>\n",
       "      <td>0.009</td>\n",
       "      <td>[0.764, 0.711]</td>\n",
       "    </tr>\n",
       "    <tr>\n",
       "      <th>RF</th>\n",
       "      <td>0.738</td>\n",
       "      <td>0.011</td>\n",
       "      <td>[0.768, 0.707]</td>\n",
       "    </tr>\n",
       "    <tr>\n",
       "      <th>DT</th>\n",
       "      <td>0.647</td>\n",
       "      <td>0.014</td>\n",
       "      <td>[0.686, 0.609]</td>\n",
       "    </tr>\n",
       "  </tbody>\n",
       "</table>\n",
       "</div>"
      ],
      "text/plain": [
       "       Accuracy    Std Confidence Interval\n",
       "Model                                     \n",
       "MNB       0.752  0.010       [0.78, 0.725]\n",
       "CNB       0.750  0.010      [0.778, 0.721]\n",
       "SVM       0.738  0.009      [0.764, 0.711]\n",
       "RF        0.738  0.011      [0.768, 0.707]\n",
       "DT        0.647  0.014      [0.686, 0.609]"
      ]
     },
     "execution_count": 37,
     "metadata": {},
     "output_type": "execute_result"
    }
   ],
   "source": [
    "models_comparison(models_name,df_scores)"
   ]
  },
  {
   "cell_type": "markdown",
   "metadata": {},
   "source": [
    "Based on the previous results we can see that the models perform similarly. The Naive Bayes models (MNB and CNB) perform the best, but the **MNB** model + using **Stemming** and a **vocabulary** of 1500 words is sligthly better than the **CNB**. <br>\n",
    "One property of the **CNB** is that is particularly suited for imbalanced data sets. More info: [ScikitLearn Docs](https://scikit-learn.org/stable/modules/generated/sklearn.naive_bayes.ComplementNB.html?highlight=complement%20naive%20bayes#sklearn.naive_bayes.ComplementNB) <br>\n",
    "In the dataset most of the tweets tend to have a negative sentiment (imbalanced dataset). Due to this, the model that is going to be tunned is the **Complement Naive Bayes** using **stemming** as preprocessing and a vocabulary of **1500** words."
   ]
  },
  {
   "cell_type": "markdown",
   "metadata": {},
   "source": [
    "## Hyperparameters tunning"
   ]
  },
  {
   "cell_type": "code",
   "execution_count": 38,
   "metadata": {},
   "outputs": [],
   "source": [
    "X_train = X_train_list_vect[2]\n",
    "y_train = y_train_list[2]\n",
    "X_test = X_test_list_vect[2]\n",
    "y_test = y_test_list[2]"
   ]
  },
  {
   "cell_type": "markdown",
   "metadata": {},
   "source": [
    "### Base Model"
   ]
  },
  {
   "cell_type": "code",
   "execution_count": 39,
   "metadata": {},
   "outputs": [
    {
     "data": {
      "text/plain": [
       "ComplementNB()"
      ]
     },
     "execution_count": 39,
     "metadata": {},
     "output_type": "execute_result"
    }
   ],
   "source": [
    "model_base = ComplementNB()\n",
    "model_base.fit(X_train,y_train)"
   ]
  },
  {
   "cell_type": "code",
   "execution_count": 40,
   "metadata": {},
   "outputs": [],
   "source": [
    "def model_predict(model, X_test, y_test):\n",
    "    \n",
    "    predicted_y = model.predict(X_test)\n",
    "    print(classification_report(y_test, predicted_y,zero_division=0))"
   ]
  },
  {
   "cell_type": "code",
   "execution_count": 41,
   "metadata": {},
   "outputs": [
    {
     "name": "stdout",
     "output_type": "stream",
     "text": [
      "              precision    recall  f1-score   support\n",
      "\n",
      "    negative       0.86      0.85      0.86       495\n",
      "     neutral       0.55      0.45      0.50       148\n",
      "    positive       0.61      0.75      0.67       157\n",
      "\n",
      "    accuracy                           0.76       800\n",
      "   macro avg       0.68      0.68      0.68       800\n",
      "weighted avg       0.76      0.76      0.75       800\n",
      "\n"
     ]
    }
   ],
   "source": [
    "model_predict(model_base, X_test, y_test)"
   ]
  },
  {
   "cell_type": "markdown",
   "metadata": {},
   "source": [
    "## Tunning"
   ]
  },
  {
   "cell_type": "code",
   "execution_count": 42,
   "metadata": {},
   "outputs": [
    {
     "name": "stdout",
     "output_type": "stream",
     "text": [
      "Searching..\n"
     ]
    },
    {
     "data": {
      "text/plain": [
       "GridSearchCV(cv=5, estimator=ComplementNB(), n_jobs=-1,\n",
       "             param_grid={'alpha': [10, 5, 2, 1.0, 0.5, 0.1, 0],\n",
       "                         'fit_prior': [True, False]},\n",
       "             return_train_score=True, scoring='accuracy')"
      ]
     },
     "execution_count": 42,
     "metadata": {},
     "output_type": "execute_result"
    },
    {
     "name": "stdout",
     "output_type": "stream",
     "text": [
      "time taken for the search : 0.484375 secs\n"
     ]
    }
   ],
   "source": [
    "start = time.process_time()\n",
    "print('Searching..')\n",
    "#evaluated hyperparameters\n",
    "search_parameters = {'alpha'     : [10,5,2,1.0,0.5,0.1,0],\\\n",
    "                      'fit_prior'     : [True, False]\n",
    "                    }\n",
    "             \n",
    "#grid search\n",
    "grid = GridSearchCV(ComplementNB(), #for early stop\n",
    "                    param_grid = search_parameters,\n",
    "                    scoring    = 'accuracy',\n",
    "                    cv = 5,\n",
    "                    n_jobs = -1,\n",
    "                    return_train_score = True)\n",
    "#fit\n",
    "grid.fit(X_train, y_train)\n",
    "\n",
    "print(f'time taken for the search : {time.process_time() - start} secs')"
   ]
  },
  {
   "cell_type": "code",
   "execution_count": 43,
   "metadata": {
    "scrolled": true
   },
   "outputs": [
    {
     "name": "stdout",
     "output_type": "stream",
     "text": [
      "The best model is: ComplementNB(alpha=5) \n",
      "\n"
     ]
    },
    {
     "data": {
      "text/html": [
       "<div>\n",
       "<style scoped>\n",
       "    .dataframe tbody tr th:only-of-type {\n",
       "        vertical-align: middle;\n",
       "    }\n",
       "\n",
       "    .dataframe tbody tr th {\n",
       "        vertical-align: top;\n",
       "    }\n",
       "\n",
       "    .dataframe thead th {\n",
       "        text-align: right;\n",
       "    }\n",
       "</style>\n",
       "<table border=\"1\" class=\"dataframe\">\n",
       "  <thead>\n",
       "    <tr style=\"text-align: right;\">\n",
       "      <th></th>\n",
       "      <th>rank_test_score</th>\n",
       "      <th>mean_train_score</th>\n",
       "      <th>mean_test_score</th>\n",
       "      <th>params</th>\n",
       "    </tr>\n",
       "  </thead>\n",
       "  <tbody>\n",
       "    <tr>\n",
       "      <th>2</th>\n",
       "      <td>1</td>\n",
       "      <td>0.822656</td>\n",
       "      <td>0.755000</td>\n",
       "      <td>{'alpha': 5, 'fit_prior': True}</td>\n",
       "    </tr>\n",
       "    <tr>\n",
       "      <th>3</th>\n",
       "      <td>1</td>\n",
       "      <td>0.822656</td>\n",
       "      <td>0.755000</td>\n",
       "      <td>{'alpha': 5, 'fit_prior': False}</td>\n",
       "    </tr>\n",
       "    <tr>\n",
       "      <th>4</th>\n",
       "      <td>3</td>\n",
       "      <td>0.845703</td>\n",
       "      <td>0.750312</td>\n",
       "      <td>{'alpha': 2, 'fit_prior': True}</td>\n",
       "    </tr>\n",
       "    <tr>\n",
       "      <th>5</th>\n",
       "      <td>3</td>\n",
       "      <td>0.845703</td>\n",
       "      <td>0.750312</td>\n",
       "      <td>{'alpha': 2, 'fit_prior': False}</td>\n",
       "    </tr>\n",
       "    <tr>\n",
       "      <th>6</th>\n",
       "      <td>5</td>\n",
       "      <td>0.852500</td>\n",
       "      <td>0.749687</td>\n",
       "      <td>{'alpha': 1.0, 'fit_prior': True}</td>\n",
       "    </tr>\n",
       "  </tbody>\n",
       "</table>\n",
       "</div>"
      ],
      "text/plain": [
       "   rank_test_score  mean_train_score  mean_test_score  \\\n",
       "2                1          0.822656         0.755000   \n",
       "3                1          0.822656         0.755000   \n",
       "4                3          0.845703         0.750312   \n",
       "5                3          0.845703         0.750312   \n",
       "6                5          0.852500         0.749687   \n",
       "\n",
       "                              params  \n",
       "2    {'alpha': 5, 'fit_prior': True}  \n",
       "3   {'alpha': 5, 'fit_prior': False}  \n",
       "4    {'alpha': 2, 'fit_prior': True}  \n",
       "5   {'alpha': 2, 'fit_prior': False}  \n",
       "6  {'alpha': 1.0, 'fit_prior': True}  "
      ]
     },
     "execution_count": 43,
     "metadata": {},
     "output_type": "execute_result"
    }
   ],
   "source": [
    "results = pd.DataFrame(grid.cv_results_)\n",
    "print(f'The best model is: {grid.best_estimator_} \\n')\n",
    "results[['rank_test_score','mean_train_score','mean_test_score','params']].sort_values(by='rank_test_score').head(5) #best 5 models"
   ]
  },
  {
   "cell_type": "markdown",
   "metadata": {},
   "source": [
    "# Best Model Test\n",
    "The best model after performing the grid search is the  **ComplementNB(alpha=5)**"
   ]
  },
  {
   "cell_type": "code",
   "execution_count": 44,
   "metadata": {},
   "outputs": [],
   "source": [
    "model_tunned = grid.best_estimator_"
   ]
  },
  {
   "cell_type": "code",
   "execution_count": 45,
   "metadata": {
    "scrolled": false
   },
   "outputs": [
    {
     "name": "stdout",
     "output_type": "stream",
     "text": [
      "              precision    recall  f1-score   support\n",
      "\n",
      "    negative       0.81      0.90      0.85       495\n",
      "     neutral       0.59      0.36      0.45       148\n",
      "    positive       0.68      0.68      0.68       157\n",
      "\n",
      "    accuracy                           0.76       800\n",
      "   macro avg       0.69      0.65      0.66       800\n",
      "weighted avg       0.74      0.76      0.74       800\n",
      "\n"
     ]
    }
   ],
   "source": [
    "model_predict(model_tunned, X_test, y_test)"
   ]
  },
  {
   "cell_type": "markdown",
   "metadata": {},
   "source": [
    "## Confusion matrix"
   ]
  },
  {
   "cell_type": "code",
   "execution_count": 46,
   "metadata": {},
   "outputs": [
    {
     "data": {
      "text/plain": [
       "<AxesSubplot:>"
      ]
     },
     "execution_count": 46,
     "metadata": {},
     "output_type": "execute_result"
    },
    {
     "data": {
      "image/png": "[encoded data removed]",
      "text/plain": [
       "<Figure size 576x396 with 2 Axes>"
      ]
     },
     "metadata": {},
     "output_type": "display_data"
    }
   ],
   "source": [
    "predicted_y = model_tunned.predict(X_test)\n",
    "cm = confusion_matrix(y_test, predicted_y)\n",
    "\n",
    "sns.heatmap(cm, annot=True, \n",
    "            fmt='g', cmap=\"Blues\")"
   ]
  }
 ],
 "metadata": {
  "kernelspec": {
   "display_name": "Python 3",
   "language": "python",
   "name": "python3"
  },
  "language_info": {
   "codemirror_mode": {
    "name": "ipython",
    "version": 3
   },
   "file_extension": ".py",
   "mimetype": "text/x-python",
   "name": "python",
   "nbconvert_exporter": "python",
   "pygments_lexer": "ipython3",
   "version": "3.7.8rc1"
  }
 },
 "nbformat": 4,
 "nbformat_minor": 4
}
