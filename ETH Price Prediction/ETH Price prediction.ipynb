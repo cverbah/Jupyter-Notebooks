{
 "cells": [
  {
   "cell_type": "markdown",
   "metadata": {},
   "source": [
    "# Ethereum (ETH) Price Prediction using LSTM"
   ]
  },
  {
   "cell_type": "code",
   "execution_count": 1,
   "metadata": {},
   "outputs": [],
   "source": [
    "import pandas as pd\n",
    "import numpy as np\n",
    "import time\n",
    "import math\n",
    "from datetime import date, datetime, timezone, timedelta\n",
    "import json\n",
    "import yfinance as yf\n",
    "import matplotlib.pyplot as plt\n",
    "import seaborn as sns\n",
    "\n",
    "from sklearn.preprocessing import MinMaxScaler\n",
    "import tensorflow as tf\n",
    "from tensorflow import keras"
   ]
  },
  {
   "cell_type": "markdown",
   "metadata": {},
   "source": [
    "## Importing the ETH price data\n",
    "First the historical ETH prices per day are downloaded from yahoo finance"
   ]
  },
  {
   "cell_type": "code",
   "execution_count": 2,
   "metadata": {
    "scrolled": true
   },
   "outputs": [],
   "source": [
    "today = date.today().strftime('%Y-%m-%d')\n",
    "\n",
    "eth = yf.Ticker('ETH-USD')\n",
    "eth_data = eth.history(interval='1d', start='2018-01-01' , end=today)\n",
    "df = eth_data[['Close']] #using the closing price\n",
    "df = df.rename(columns={'Close': 'Price'})\n"
   ]
  },
  {
   "cell_type": "code",
   "execution_count": 3,
   "metadata": {
    "scrolled": true
   },
   "outputs": [
    {
     "data": {
      "image/png": "[encoded data removed]",
      "text/plain": [
       "<Figure size 720x216 with 1 Axes>"
      ]
     },
     "metadata": {
      "needs_background": "light"
     },
     "output_type": "display_data"
    }
   ],
   "source": [
    "fig, ax = plt.subplots(1, figsize=(10, 3))\n",
    "sns.lineplot(data=df['Price'], label='price').set(title='ETH Historical Price')\n",
    "plt.grid(True)\n",
    "plt.tight_layout()"
   ]
  },
  {
   "cell_type": "markdown",
   "metadata": {},
   "source": [
    "### Checking stats and nan values"
   ]
  },
  {
   "cell_type": "code",
   "execution_count": 4,
   "metadata": {
    "scrolled": false
   },
   "outputs": [
    {
     "name": "stdout",
     "output_type": "stream",
     "text": [
      "the are: 0 nan values in the data frame\n"
     ]
    },
    {
     "data": {
      "text/html": [
       "<div>\n",
       "<style scoped>\n",
       "    .dataframe tbody tr th:only-of-type {\n",
       "        vertical-align: middle;\n",
       "    }\n",
       "\n",
       "    .dataframe tbody tr th {\n",
       "        vertical-align: top;\n",
       "    }\n",
       "\n",
       "    .dataframe thead th {\n",
       "        text-align: right;\n",
       "    }\n",
       "</style>\n",
       "<table border=\"1\" class=\"dataframe\">\n",
       "  <thead>\n",
       "    <tr style=\"text-align: right;\">\n",
       "      <th></th>\n",
       "      <th>Price</th>\n",
       "    </tr>\n",
       "  </thead>\n",
       "  <tbody>\n",
       "    <tr>\n",
       "      <th>count</th>\n",
       "      <td>1636.000000</td>\n",
       "    </tr>\n",
       "    <tr>\n",
       "      <th>mean</th>\n",
       "      <td>1117.914553</td>\n",
       "    </tr>\n",
       "    <tr>\n",
       "      <th>std</th>\n",
       "      <td>1262.689381</td>\n",
       "    </tr>\n",
       "    <tr>\n",
       "      <th>min</th>\n",
       "      <td>84.308296</td>\n",
       "    </tr>\n",
       "    <tr>\n",
       "      <th>25%</th>\n",
       "      <td>197.512249</td>\n",
       "    </tr>\n",
       "    <tr>\n",
       "      <th>50%</th>\n",
       "      <td>406.955002</td>\n",
       "    </tr>\n",
       "    <tr>\n",
       "      <th>75%</th>\n",
       "      <td>1948.662109</td>\n",
       "    </tr>\n",
       "    <tr>\n",
       "      <th>max</th>\n",
       "      <td>4812.087402</td>\n",
       "    </tr>\n",
       "  </tbody>\n",
       "</table>\n",
       "</div>"
      ],
      "text/plain": [
       "             Price\n",
       "count  1636.000000\n",
       "mean   1117.914553\n",
       "std    1262.689381\n",
       "min      84.308296\n",
       "25%     197.512249\n",
       "50%     406.955002\n",
       "75%    1948.662109\n",
       "max    4812.087402"
      ]
     },
     "execution_count": 4,
     "metadata": {},
     "output_type": "execute_result"
    }
   ],
   "source": [
    "print( f'the are: {df.isna().sum()[0]} nan values in the data frame')\n",
    "\n",
    "df.describe()"
   ]
  },
  {
   "cell_type": "markdown",
   "metadata": {},
   "source": [
    "## Selecting the time steps and splitting the dataset\n",
    "A function, **add_prev_prices** is created to append the previous prices by selecting a time step."
   ]
  },
  {
   "cell_type": "code",
   "execution_count": 5,
   "metadata": {},
   "outputs": [],
   "source": [
    "def add_prev_prices(df, time_step = 5):\n",
    "    df_2 = df.copy()\n",
    "    steps = []\n",
    "    for t in range(1,time_step+1):\n",
    "        shift_t = df_2.shift(t)\n",
    "        steps.append(shift_t)\n",
    "\n",
    "    for index,step in enumerate(steps, start=1):\n",
    "        df_2.insert(index,f\"Price {-index}\", step, True)\n",
    "    df_2 = df_2.dropna()\n",
    "    return df_2"
   ]
  },
  {
   "cell_type": "code",
   "execution_count": 6,
   "metadata": {
    "scrolled": true
   },
   "outputs": [
    {
     "data": {
      "text/html": [
       "<div>\n",
       "<style scoped>\n",
       "    .dataframe tbody tr th:only-of-type {\n",
       "        vertical-align: middle;\n",
       "    }\n",
       "\n",
       "    .dataframe tbody tr th {\n",
       "        vertical-align: top;\n",
       "    }\n",
       "\n",
       "    .dataframe thead th {\n",
       "        text-align: right;\n",
       "    }\n",
       "</style>\n",
       "<table border=\"1\" class=\"dataframe\">\n",
       "  <thead>\n",
       "    <tr style=\"text-align: right;\">\n",
       "      <th></th>\n",
       "      <th>Price</th>\n",
       "      <th>Price -1</th>\n",
       "      <th>Price -2</th>\n",
       "      <th>Price -3</th>\n",
       "      <th>Price -4</th>\n",
       "      <th>Price -5</th>\n",
       "      <th>Price -6</th>\n",
       "      <th>Price -7</th>\n",
       "    </tr>\n",
       "    <tr>\n",
       "      <th>Date</th>\n",
       "      <th></th>\n",
       "      <th></th>\n",
       "      <th></th>\n",
       "      <th></th>\n",
       "      <th></th>\n",
       "      <th></th>\n",
       "      <th></th>\n",
       "      <th></th>\n",
       "    </tr>\n",
       "  </thead>\n",
       "  <tbody>\n",
       "    <tr>\n",
       "      <th>2018-01-08</th>\n",
       "      <td>1148.530029</td>\n",
       "      <td>1153.170044</td>\n",
       "      <td>1041.680054</td>\n",
       "      <td>997.719971</td>\n",
       "      <td>980.921997</td>\n",
       "      <td>962.719971</td>\n",
       "      <td>884.443970</td>\n",
       "      <td>772.640991</td>\n",
       "    </tr>\n",
       "    <tr>\n",
       "      <th>2018-01-09</th>\n",
       "      <td>1299.739990</td>\n",
       "      <td>1148.530029</td>\n",
       "      <td>1153.170044</td>\n",
       "      <td>1041.680054</td>\n",
       "      <td>997.719971</td>\n",
       "      <td>980.921997</td>\n",
       "      <td>962.719971</td>\n",
       "      <td>884.443970</td>\n",
       "    </tr>\n",
       "    <tr>\n",
       "      <th>2018-01-10</th>\n",
       "      <td>1255.819946</td>\n",
       "      <td>1299.739990</td>\n",
       "      <td>1148.530029</td>\n",
       "      <td>1153.170044</td>\n",
       "      <td>1041.680054</td>\n",
       "      <td>997.719971</td>\n",
       "      <td>980.921997</td>\n",
       "      <td>962.719971</td>\n",
       "    </tr>\n",
       "    <tr>\n",
       "      <th>2018-01-11</th>\n",
       "      <td>1154.930054</td>\n",
       "      <td>1255.819946</td>\n",
       "      <td>1299.739990</td>\n",
       "      <td>1148.530029</td>\n",
       "      <td>1153.170044</td>\n",
       "      <td>1041.680054</td>\n",
       "      <td>997.719971</td>\n",
       "      <td>980.921997</td>\n",
       "    </tr>\n",
       "    <tr>\n",
       "      <th>2018-01-12</th>\n",
       "      <td>1273.199951</td>\n",
       "      <td>1154.930054</td>\n",
       "      <td>1255.819946</td>\n",
       "      <td>1299.739990</td>\n",
       "      <td>1148.530029</td>\n",
       "      <td>1153.170044</td>\n",
       "      <td>1041.680054</td>\n",
       "      <td>997.719971</td>\n",
       "    </tr>\n",
       "  </tbody>\n",
       "</table>\n",
       "</div>"
      ],
      "text/plain": [
       "                  Price     Price -1     Price -2     Price -3     Price -4  \\\n",
       "Date                                                                          \n",
       "2018-01-08  1148.530029  1153.170044  1041.680054   997.719971   980.921997   \n",
       "2018-01-09  1299.739990  1148.530029  1153.170044  1041.680054   997.719971   \n",
       "2018-01-10  1255.819946  1299.739990  1148.530029  1153.170044  1041.680054   \n",
       "2018-01-11  1154.930054  1255.819946  1299.739990  1148.530029  1153.170044   \n",
       "2018-01-12  1273.199951  1154.930054  1255.819946  1299.739990  1148.530029   \n",
       "\n",
       "               Price -5     Price -6    Price -7  \n",
       "Date                                              \n",
       "2018-01-08   962.719971   884.443970  772.640991  \n",
       "2018-01-09   980.921997   962.719971  884.443970  \n",
       "2018-01-10   997.719971   980.921997  962.719971  \n",
       "2018-01-11  1041.680054   997.719971  980.921997  \n",
       "2018-01-12  1153.170044  1041.680054  997.719971  "
      ]
     },
     "execution_count": 6,
     "metadata": {},
     "output_type": "execute_result"
    }
   ],
   "source": [
    "#using the prices of the past week\n",
    "time_steps = 7\n",
    "df_shifted = add_prev_prices(df, time_step = time_steps)\n",
    "df_shifted2 = df_shifted.copy()\n",
    "df_shifted.head()"
   ]
  },
  {
   "cell_type": "markdown",
   "metadata": {},
   "source": [
    "In this case, a time step of **7 days** was selected. This means, that the previous prices of the last 7 days are appended to the dataset. This historical prices are going to be used for forecasting the ETH price of the next day."
   ]
  },
  {
   "cell_type": "code",
   "execution_count": 7,
   "metadata": {},
   "outputs": [
    {
     "name": "stdout",
     "output_type": "stream",
     "text": [
      "length of the dataset: 1629\n",
      "The 80% of the dataset is going to be used for training \n",
      "\n",
      "Length of training set: 1466\n",
      "Length of test set: 163\n"
     ]
    }
   ],
   "source": [
    "df_shifted = df_shifted.to_numpy()\n",
    "print(f'length of the dataset: {len(df_shifted)}') #size of dataframe\n",
    "\n",
    "training_size = 0.8\n",
    "print(f'The {training_size:.0%} of the dataset is going to be used for training \\n')\n",
    "\n",
    "len_train = math.floor(len(df_shifted)*training_size) #0.8 traiing\n",
    "len_valid =  math.floor(len(df_shifted)*(training_size+0.1)) #0.1 validation\n",
    "\n",
    "#splitting intro training and test set. From the training set we are going to also get the validation set\n",
    "training_set = df_shifted[:len_valid] \n",
    "test_set = df_shifted[len_valid:]\n",
    "\n",
    "print(f'Length of training set: {len(training_set)}')\n",
    "print(f'Length of test set: {len(test_set)}')"
   ]
  },
  {
   "cell_type": "markdown",
   "metadata": {},
   "source": [
    "The dataset was splitted into training set and test set. From the training set we are also going to get the validation set that is going to be used for training the neural network."
   ]
  },
  {
   "cell_type": "markdown",
   "metadata": {},
   "source": [
    "## Scaling the datasets"
   ]
  },
  {
   "cell_type": "code",
   "execution_count": 8,
   "metadata": {},
   "outputs": [],
   "source": [
    "scaler = MinMaxScaler()\n",
    "training_set_scaled = scaler.fit_transform(training_set)\n",
    "test_set_scaled = scaler.transform(test_set) #we dont know the test set on production so we should scale it with the known data"
   ]
  },
  {
   "cell_type": "markdown",
   "metadata": {},
   "source": [
    "Splitting into training, validation and test set"
   ]
  },
  {
   "cell_type": "code",
   "execution_count": 9,
   "metadata": {},
   "outputs": [
    {
     "data": {
      "text/plain": [
       "((1303, 7), (163, 7), (163, 7), (1303,), (163,), (163,))"
      ]
     },
     "execution_count": 9,
     "metadata": {},
     "output_type": "execute_result"
    }
   ],
   "source": [
    "X_train, y_train =training_set_scaled[:len_train,1:], training_set_scaled[:len_train,0]\n",
    "X_val, y_val = training_set_scaled[len_train:len_valid,1:], training_set_scaled[len_train:len_valid,0]\n",
    "X_test, y_test = test_set_scaled[:,1:], test_set_scaled[:,0]\n",
    "\n",
    "X_train.shape, X_val.shape, X_test.shape, y_train.shape, y_val.shape, y_test.shape"
   ]
  },
  {
   "cell_type": "markdown",
   "metadata": {},
   "source": [
    "Reshaping the features for having the tensor shape needed as input for the neural network"
   ]
  },
  {
   "cell_type": "code",
   "execution_count": 10,
   "metadata": {},
   "outputs": [
    {
     "data": {
      "text/plain": [
       "((1303, 7, 1), (163, 7, 1), (163, 7, 1), (1303,), (163,), (163,))"
      ]
     },
     "execution_count": 10,
     "metadata": {},
     "output_type": "execute_result"
    }
   ],
   "source": [
    "X_train = X_train.reshape(X_train.shape[0], X_train.shape[1], 1 )\n",
    "X_val = X_val.reshape(X_val.shape[0], X_val.shape[1], 1 )\n",
    "X_test = X_test.reshape(X_test.shape[0], X_test.shape[1], 1 )\n",
    "\n",
    "X_train.shape, X_val.shape, X_test.shape, y_train.shape, y_val.shape, y_test.shape"
   ]
  },
  {
   "cell_type": "code",
   "execution_count": 11,
   "metadata": {
    "scrolled": false
   },
   "outputs": [
    {
     "data": {
      "image/png": "[encoded data removed]",
      "text/plain": [
       "<Figure size 720x216 with 1 Axes>"
      ]
     },
     "metadata": {
      "needs_background": "light"
     },
     "output_type": "display_data"
    }
   ],
   "source": [
    "fig, ax = plt.subplots(figsize=(10, 3))\n",
    "plt.plot(df_shifted2.index[:len_train], y_train, label='training_set')\n",
    "plt.plot(df_shifted2.index[len_train:len_valid],y_val, label='validation_set')\n",
    "plt.title('Training and validation set')\n",
    "plt.xlabel('Date')\n",
    "plt.ylabel('Scaled USD Price')\n",
    "ax.legend()\n",
    "plt.tight_layout()\n",
    "plt.show()"
   ]
  },
  {
   "cell_type": "markdown",
   "metadata": {},
   "source": [
    "# LSTM Model"
   ]
  },
  {
   "cell_type": "code",
   "execution_count": 12,
   "metadata": {},
   "outputs": [],
   "source": [
    "#importing the functions needed from keras \n",
    "from keras.models import Sequential, Model, load_model\n",
    "from keras.optimizers import Adam\n",
    "from keras import layers\n",
    "from keras.metrics import RootMeanSquaredError\n",
    "from keras.callbacks import ModelCheckpoint"
   ]
  },
  {
   "cell_type": "markdown",
   "metadata": {},
   "source": [
    "## Model for predicting the price for the next day"
   ]
  },
  {
   "cell_type": "code",
   "execution_count": 13,
   "metadata": {
    "scrolled": true
   },
   "outputs": [
    {
     "name": "stdout",
     "output_type": "stream",
     "text": [
      "Model: \"sequential\"\n",
      "_________________________________________________________________\n",
      "Layer (type)                 Output Shape              Param #   \n",
      "=================================================================\n",
      "lstm (LSTM)                  (None, None, 32)          4352      \n",
      "_________________________________________________________________\n",
      "lstm_1 (LSTM)                (None, 16)                3136      \n",
      "_________________________________________________________________\n",
      "dense (Dense)                (None, 1)                 17        \n",
      "=================================================================\n",
      "Total params: 7,505\n",
      "Trainable params: 7,505\n",
      "Non-trainable params: 0\n",
      "_________________________________________________________________\n",
      "None\n"
     ]
    }
   ],
   "source": [
    "model = Sequential()\n",
    "model.add(layers.InputLayer(input_shape=(None,1)))\n",
    "model.add(layers.LSTM(32, return_sequences=True, dropout=0.1)) #30\n",
    "model.add(layers.LSTM(16, return_sequences=False, dropout=0.5)) #20\n",
    "model.add(keras.layers.Dense(1))\n",
    "\n",
    "print(model.summary())"
   ]
  },
  {
   "cell_type": "markdown",
   "metadata": {},
   "source": [
    "The model is going to be trained using the following parameters:\n",
    "- Optimizer: Adam\n",
    "- Learning rate: 0.01\n",
    "- Loss Function: MSE\n",
    "- Metrics for validation: RMSE\n",
    "- epochs: 50"
   ]
  },
  {
   "cell_type": "code",
   "execution_count": 14,
   "metadata": {
    "scrolled": false
   },
   "outputs": [
    {
     "name": "stdout",
     "output_type": "stream",
     "text": [
      "Epoch 1/50\n",
      "40/41 [============================>.] - ETA: 0s - loss: 0.0036 - root_mean_squared_error: 0.0597\n",
      "Epoch 00001: val_loss improved from inf to 0.00477, saving model to best_model.hdf5\n",
      "41/41 [==============================] - 1s 18ms/step - loss: 0.0035 - root_mean_squared_error: 0.0593 - val_loss: 0.0048 - val_root_mean_squared_error: 0.0691\n",
      "Epoch 2/50\n",
      "39/41 [===========================>..] - ETA: 0s - loss: 0.0013 - root_mean_squared_error: 0.0361  \n",
      "Epoch 00002: val_loss did not improve from 0.00477\n",
      "41/41 [==============================] - 0s 5ms/step - loss: 0.0013 - root_mean_squared_error: 0.0358 - val_loss: 0.0116 - val_root_mean_squared_error: 0.1076\n",
      "Epoch 3/50\n",
      "40/41 [============================>.] - ETA: 0s - loss: 0.0014 - root_mean_squared_error: 0.0372   \n",
      "Epoch 00003: val_loss did not improve from 0.00477\n",
      "41/41 [==============================] - 0s 5ms/step - loss: 0.0014 - root_mean_squared_error: 0.0369 - val_loss: 0.0193 - val_root_mean_squared_error: 0.1388\n",
      "Epoch 4/50\n",
      "39/41 [===========================>..] - ETA: 0s - loss: 0.0016 - root_mean_squared_error: 0.0406\n",
      "Epoch 00004: val_loss did not improve from 0.00477\n",
      "41/41 [==============================] - 0s 5ms/step - loss: 0.0016 - root_mean_squared_error: 0.0402 - val_loss: 0.0204 - val_root_mean_squared_error: 0.1430\n",
      "Epoch 5/50\n",
      "41/41 [==============================] - ETA: 0s - loss: 0.0012 - root_mean_squared_error: 0.0352\n",
      "Epoch 00005: val_loss did not improve from 0.00477\n",
      "41/41 [==============================] - 0s 4ms/step - loss: 0.0012 - root_mean_squared_error: 0.0352 - val_loss: 0.0218 - val_root_mean_squared_error: 0.1476\n",
      "Epoch 6/50\n",
      "40/41 [============================>.] - ETA: 0s - loss: 0.0013 - root_mean_squared_error: 0.0360  \n",
      "Epoch 00006: val_loss did not improve from 0.00477\n",
      "41/41 [==============================] - 0s 4ms/step - loss: 0.0013 - root_mean_squared_error: 0.0361 - val_loss: 0.0176 - val_root_mean_squared_error: 0.1328\n",
      "Epoch 7/50\n",
      "37/41 [==========================>...] - ETA: 0s - loss: 0.0014 - root_mean_squared_error: 0.0378   \n",
      "Epoch 00007: val_loss did not improve from 0.00477\n",
      "41/41 [==============================] - 0s 5ms/step - loss: 0.0015 - root_mean_squared_error: 0.0382 - val_loss: 0.0313 - val_root_mean_squared_error: 0.1768\n",
      "Epoch 8/50\n",
      "40/41 [============================>.] - ETA: 0s - loss: 0.0013 - root_mean_squared_error: 0.0366  \n",
      "Epoch 00008: val_loss did not improve from 0.00477\n",
      "41/41 [==============================] - 0s 4ms/step - loss: 0.0013 - root_mean_squared_error: 0.0367 - val_loss: 0.0236 - val_root_mean_squared_error: 0.1538\n",
      "Epoch 9/50\n",
      "38/41 [==========================>...] - ETA: 0s - loss: 0.0019 - root_mean_squared_error: 0.0434  \n",
      "Epoch 00009: val_loss did not improve from 0.00477\n",
      "41/41 [==============================] - 0s 5ms/step - loss: 0.0018 - root_mean_squared_error: 0.0430 - val_loss: 0.0117 - val_root_mean_squared_error: 0.1080\n",
      "Epoch 10/50\n",
      "40/41 [============================>.] - ETA: 0s - loss: 0.0011 - root_mean_squared_error: 0.0330\n",
      "Epoch 00010: val_loss did not improve from 0.00477\n",
      "41/41 [==============================] - 0s 4ms/step - loss: 0.0011 - root_mean_squared_error: 0.0328 - val_loss: 0.0138 - val_root_mean_squared_error: 0.1175\n",
      "Epoch 11/50\n",
      "39/41 [===========================>..] - ETA: 0s - loss: 0.0010 - root_mean_squared_error: 0.0321  \n",
      "Epoch 00011: val_loss did not improve from 0.00477\n",
      "41/41 [==============================] - 0s 5ms/step - loss: 0.0010 - root_mean_squared_error: 0.0318 - val_loss: 0.0132 - val_root_mean_squared_error: 0.1150\n",
      "Epoch 12/50\n",
      "38/41 [==========================>...] - ETA: 0s - loss: 0.0012 - root_mean_squared_error: 0.0351  \n",
      "Epoch 00012: val_loss did not improve from 0.00477\n",
      "41/41 [==============================] - 0s 5ms/step - loss: 0.0012 - root_mean_squared_error: 0.0346 - val_loss: 0.0109 - val_root_mean_squared_error: 0.1043\n",
      "Epoch 13/50\n",
      "40/41 [============================>.] - ETA: 0s - loss: 0.0015 - root_mean_squared_error: 0.0392  \n",
      "Epoch 00013: val_loss did not improve from 0.00477\n",
      "41/41 [==============================] - 0s 4ms/step - loss: 0.0015 - root_mean_squared_error: 0.0389 - val_loss: 0.0210 - val_root_mean_squared_error: 0.1448\n",
      "Epoch 14/50\n",
      "39/41 [===========================>..] - ETA: 0s - loss: 0.0013 - root_mean_squared_error: 0.0365\n",
      "Epoch 00014: val_loss did not improve from 0.00477\n",
      "41/41 [==============================] - 0s 5ms/step - loss: 0.0013 - root_mean_squared_error: 0.0364 - val_loss: 0.0074 - val_root_mean_squared_error: 0.0860\n",
      "Epoch 15/50\n",
      "38/41 [==========================>...] - ETA: 0s - loss: 0.0012 - root_mean_squared_error: 0.0343  \n",
      "Epoch 00015: val_loss did not improve from 0.00477\n",
      "41/41 [==============================] - 0s 5ms/step - loss: 0.0012 - root_mean_squared_error: 0.0342 - val_loss: 0.0167 - val_root_mean_squared_error: 0.1294\n",
      "Epoch 16/50\n",
      "39/41 [===========================>..] - ETA: 0s - loss: 0.0010 - root_mean_squared_error: 0.0321\n",
      "Epoch 00016: val_loss did not improve from 0.00477\n",
      "41/41 [==============================] - 0s 4ms/step - loss: 0.0010 - root_mean_squared_error: 0.0320 - val_loss: 0.0113 - val_root_mean_squared_error: 0.1065\n",
      "Epoch 17/50\n",
      "40/41 [============================>.] - ETA: 0s - loss: 0.0013 - root_mean_squared_error: 0.0354 \n",
      "Epoch 00017: val_loss improved from 0.00477 to 0.00450, saving model to best_model.hdf5\n",
      "41/41 [==============================] - 0s 6ms/step - loss: 0.0012 - root_mean_squared_error: 0.0352 - val_loss: 0.0045 - val_root_mean_squared_error: 0.0671\n",
      "Epoch 18/50\n",
      "41/41 [==============================] - ETA: 0s - loss: 7.6489e-04 - root_mean_squared_error: 0.0277\n",
      "Epoch 00018: val_loss did not improve from 0.00450\n",
      "41/41 [==============================] - 0s 4ms/step - loss: 7.6489e-04 - root_mean_squared_error: 0.0277 - val_loss: 0.0120 - val_root_mean_squared_error: 0.1097\n",
      "Epoch 19/50\n",
      "40/41 [============================>.] - ETA: 0s - loss: 8.1794e-04 - root_mean_squared_error: 0.0286\n",
      "Epoch 00019: val_loss did not improve from 0.00450\n",
      "41/41 [==============================] - 0s 4ms/step - loss: 8.0759e-04 - root_mean_squared_error: 0.0284 - val_loss: 0.0049 - val_root_mean_squared_error: 0.0703\n",
      "Epoch 20/50\n",
      "38/41 [==========================>...] - ETA: 0s - loss: 6.1377e-04 - root_mean_squared_error: 0.0248\n",
      "Epoch 00020: val_loss did not improve from 0.00450\n",
      "41/41 [==============================] - 0s 5ms/step - loss: 6.6247e-04 - root_mean_squared_error: 0.0257 - val_loss: 0.0307 - val_root_mean_squared_error: 0.1753\n",
      "Epoch 21/50\n",
      "37/41 [==========================>...] - ETA: 0s - loss: 6.0279e-04 - root_mean_squared_error: 0.0246\n",
      "Epoch 00021: val_loss did not improve from 0.00450\n",
      "41/41 [==============================] - 0s 5ms/step - loss: 5.7104e-04 - root_mean_squared_error: 0.0239 - val_loss: 0.0185 - val_root_mean_squared_error: 0.1358\n",
      "Epoch 22/50\n",
      "38/41 [==========================>...] - ETA: 0s - loss: 5.7937e-04 - root_mean_squared_error: 0.0241\n",
      "Epoch 00022: val_loss improved from 0.00450 to 0.00276, saving model to best_model.hdf5\n",
      "41/41 [==============================] - 0s 5ms/step - loss: 6.2938e-04 - root_mean_squared_error: 0.0251 - val_loss: 0.0028 - val_root_mean_squared_error: 0.0525\n",
      "Epoch 23/50\n",
      "41/41 [==============================] - ETA: 0s - loss: 7.7068e-04 - root_mean_squared_error: 0.0278\n",
      "Epoch 00023: val_loss did not improve from 0.00276\n",
      "41/41 [==============================] - 0s 4ms/step - loss: 7.7068e-04 - root_mean_squared_error: 0.0278 - val_loss: 0.0040 - val_root_mean_squared_error: 0.0635\n",
      "Epoch 24/50\n",
      "39/41 [===========================>..] - ETA: 0s - loss: 6.4105e-04 - root_mean_squared_error: 0.0253\n",
      "Epoch 00024: val_loss did not improve from 0.00276\n",
      "41/41 [==============================] - 0s 4ms/step - loss: 6.3847e-04 - root_mean_squared_error: 0.0253 - val_loss: 0.0281 - val_root_mean_squared_error: 0.1678\n",
      "Epoch 25/50\n",
      "38/41 [==========================>...] - ETA: 0s - loss: 5.3331e-04 - root_mean_squared_error: 0.0231\n",
      "Epoch 00025: val_loss improved from 0.00276 to 0.00234, saving model to best_model.hdf5\n",
      "41/41 [==============================] - 0s 5ms/step - loss: 5.4148e-04 - root_mean_squared_error: 0.0233 - val_loss: 0.0023 - val_root_mean_squared_error: 0.0484\n"
     ]
    },
    {
     "name": "stdout",
     "output_type": "stream",
     "text": [
      "Epoch 26/50\n",
      "39/41 [===========================>..] - ETA: 0s - loss: 5.8525e-04 - root_mean_squared_error: 0.0242\n",
      "Epoch 00026: val_loss did not improve from 0.00234\n",
      "41/41 [==============================] - 0s 5ms/step - loss: 5.7449e-04 - root_mean_squared_error: 0.0240 - val_loss: 0.0039 - val_root_mean_squared_error: 0.0623\n",
      "Epoch 27/50\n",
      "40/41 [============================>.] - ETA: 0s - loss: 5.9790e-04 - root_mean_squared_error: 0.0245\n",
      "Epoch 00027: val_loss did not improve from 0.00234\n",
      "41/41 [==============================] - 0s 4ms/step - loss: 5.8879e-04 - root_mean_squared_error: 0.0243 - val_loss: 0.0186 - val_root_mean_squared_error: 0.1362\n",
      "Epoch 28/50\n",
      "41/41 [==============================] - ETA: 0s - loss: 6.1226e-04 - root_mean_squared_error: 0.0247\n",
      "Epoch 00028: val_loss did not improve from 0.00234\n",
      "41/41 [==============================] - 0s 4ms/step - loss: 6.1226e-04 - root_mean_squared_error: 0.0247 - val_loss: 0.0185 - val_root_mean_squared_error: 0.1360\n",
      "Epoch 29/50\n",
      "28/41 [===================>..........] - ETA: 0s - loss: 5.3251e-04 - root_mean_squared_error: 0.0231\n",
      "Epoch 00029: val_loss did not improve from 0.00234\n",
      "41/41 [==============================] - 0s 4ms/step - loss: 5.0351e-04 - root_mean_squared_error: 0.0224 - val_loss: 0.0125 - val_root_mean_squared_error: 0.1118\n",
      "Epoch 30/50\n",
      "38/41 [==========================>...] - ETA: 0s - loss: 4.5233e-04 - root_mean_squared_error: 0.0213- ETA: 0s - loss: 3.4672e-04 - root_mean_squared_error: 0.01\n",
      "Epoch 00030: val_loss did not improve from 0.00234\n",
      "41/41 [==============================] - 0s 5ms/step - loss: 4.4856e-04 - root_mean_squared_error: 0.0212 - val_loss: 0.0056 - val_root_mean_squared_error: 0.0746\n",
      "Epoch 31/50\n",
      "39/41 [===========================>..] - ETA: 0s - loss: 5.4859e-04 - root_mean_squared_error: 0.0234\n",
      "Epoch 00031: val_loss did not improve from 0.00234\n",
      "41/41 [==============================] - 0s 5ms/step - loss: 5.4242e-04 - root_mean_squared_error: 0.0233 - val_loss: 0.0213 - val_root_mean_squared_error: 0.1460\n",
      "Epoch 32/50\n",
      "40/41 [============================>.] - ETA: 0s - loss: 5.2918e-04 - root_mean_squared_error: 0.0230\n",
      "Epoch 00032: val_loss did not improve from 0.00234\n",
      "41/41 [==============================] - 0s 4ms/step - loss: 5.3376e-04 - root_mean_squared_error: 0.0231 - val_loss: 0.0094 - val_root_mean_squared_error: 0.0971\n",
      "Epoch 33/50\n",
      "40/41 [============================>.] - ETA: 0s - loss: 4.5541e-04 - root_mean_squared_error: 0.0213\n",
      "Epoch 00033: val_loss did not improve from 0.00234\n",
      "41/41 [==============================] - 0s 4ms/step - loss: 4.5357e-04 - root_mean_squared_error: 0.0213 - val_loss: 0.0179 - val_root_mean_squared_error: 0.1338\n",
      "Epoch 34/50\n",
      "34/41 [=======================>......] - ETA: 0s - loss: 4.4494e-04 - root_mean_squared_error: 0.0211\n",
      "Epoch 00034: val_loss did not improve from 0.00234\n",
      "41/41 [==============================] - 0s 5ms/step - loss: 4.3738e-04 - root_mean_squared_error: 0.0209 - val_loss: 0.0109 - val_root_mean_squared_error: 0.1043\n",
      "Epoch 35/50\n",
      "41/41 [==============================] - ETA: 0s - loss: 4.9399e-04 - root_mean_squared_error: 0.0222\n",
      "Epoch 00035: val_loss did not improve from 0.00234\n",
      "41/41 [==============================] - 0s 4ms/step - loss: 4.9399e-04 - root_mean_squared_error: 0.0222 - val_loss: 0.0128 - val_root_mean_squared_error: 0.1131\n",
      "Epoch 36/50\n",
      "39/41 [===========================>..] - ETA: 0s - loss: 5.0804e-04 - root_mean_squared_error: 0.0225\n",
      "Epoch 00036: val_loss did not improve from 0.00234\n",
      "41/41 [==============================] - 0s 5ms/step - loss: 4.9839e-04 - root_mean_squared_error: 0.0223 - val_loss: 0.0141 - val_root_mean_squared_error: 0.1189\n",
      "Epoch 37/50\n",
      "35/41 [========================>.....] - ETA: 0s - loss: 4.8546e-04 - root_mean_squared_error: 0.0220\n",
      "Epoch 00037: val_loss did not improve from 0.00234\n",
      "41/41 [==============================] - 0s 5ms/step - loss: 4.5144e-04 - root_mean_squared_error: 0.0212 - val_loss: 0.0218 - val_root_mean_squared_error: 0.1477\n",
      "Epoch 38/50\n",
      "39/41 [===========================>..] - ETA: 0s - loss: 3.6480e-04 - root_mean_squared_error: 0.0191\n",
      "Epoch 00038: val_loss did not improve from 0.00234\n",
      "41/41 [==============================] - 0s 5ms/step - loss: 3.7349e-04 - root_mean_squared_error: 0.0193 - val_loss: 0.0102 - val_root_mean_squared_error: 0.1010\n",
      "Epoch 39/50\n",
      "41/41 [==============================] - ETA: 0s - loss: 4.4643e-04 - root_mean_squared_error: 0.0211\n",
      "Epoch 00039: val_loss did not improve from 0.00234\n",
      "41/41 [==============================] - 0s 4ms/step - loss: 4.4643e-04 - root_mean_squared_error: 0.0211 - val_loss: 0.0074 - val_root_mean_squared_error: 0.0861\n",
      "Epoch 40/50\n",
      "40/41 [============================>.] - ETA: 0s - loss: 3.6153e-04 - root_mean_squared_error: 0.0190\n",
      "Epoch 00040: val_loss did not improve from 0.00234\n",
      "41/41 [==============================] - 0s 4ms/step - loss: 3.6335e-04 - root_mean_squared_error: 0.0191 - val_loss: 0.0157 - val_root_mean_squared_error: 0.1254\n",
      "Epoch 41/50\n",
      "39/41 [===========================>..] - ETA: 0s - loss: 3.5874e-04 - root_mean_squared_error: 0.0189\n",
      "Epoch 00041: val_loss did not improve from 0.00234\n",
      "41/41 [==============================] - 0s 4ms/step - loss: 3.7217e-04 - root_mean_squared_error: 0.0193 - val_loss: 0.0249 - val_root_mean_squared_error: 0.1578\n",
      "Epoch 42/50\n",
      "38/41 [==========================>...] - ETA: 0s - loss: 4.3494e-04 - root_mean_squared_error: 0.0209\n",
      "Epoch 00042: val_loss did not improve from 0.00234\n",
      "41/41 [==============================] - 0s 5ms/step - loss: 4.2186e-04 - root_mean_squared_error: 0.0205 - val_loss: 0.0180 - val_root_mean_squared_error: 0.1343\n",
      "Epoch 43/50\n",
      "40/41 [============================>.] - ETA: 0s - loss: 4.2138e-04 - root_mean_squared_error: 0.0205\n",
      "Epoch 00043: val_loss did not improve from 0.00234\n",
      "41/41 [==============================] - 0s 4ms/step - loss: 4.2242e-04 - root_mean_squared_error: 0.0206 - val_loss: 0.0072 - val_root_mean_squared_error: 0.0846\n",
      "Epoch 44/50\n",
      "38/41 [==========================>...] - ETA: 0s - loss: 4.8843e-04 - root_mean_squared_error: 0.0221\n",
      "Epoch 00044: val_loss did not improve from 0.00234\n",
      "41/41 [==============================] - 0s 5ms/step - loss: 5.0033e-04 - root_mean_squared_error: 0.0224 - val_loss: 0.0088 - val_root_mean_squared_error: 0.0936\n",
      "Epoch 45/50\n",
      "35/41 [========================>.....] - ETA: 0s - loss: 4.5948e-04 - root_mean_squared_error: 0.0214\n",
      "Epoch 00045: val_loss did not improve from 0.00234\n",
      "41/41 [==============================] - 0s 5ms/step - loss: 4.5723e-04 - root_mean_squared_error: 0.0214 - val_loss: 0.0049 - val_root_mean_squared_error: 0.0700\n",
      "Epoch 46/50\n",
      "37/41 [==========================>...] - ETA: 0s - loss: 4.0970e-04 - root_mean_squared_error: 0.0202\n",
      "Epoch 00046: val_loss did not improve from 0.00234\n",
      "41/41 [==============================] - 0s 5ms/step - loss: 4.2214e-04 - root_mean_squared_error: 0.0205 - val_loss: 0.0076 - val_root_mean_squared_error: 0.0869\n",
      "Epoch 47/50\n",
      "38/41 [==========================>...] - ETA: 0s - loss: 4.0619e-04 - root_mean_squared_error: 0.0202\n",
      "Epoch 00047: val_loss did not improve from 0.00234\n",
      "41/41 [==============================] - 0s 5ms/step - loss: 4.0154e-04 - root_mean_squared_error: 0.0200 - val_loss: 0.0081 - val_root_mean_squared_error: 0.0902\n",
      "Epoch 48/50\n",
      "36/41 [=========================>....] - ETA: 0s - loss: 4.5876e-04 - root_mean_squared_error: 0.0214\n",
      "Epoch 00048: val_loss did not improve from 0.00234\n",
      "41/41 [==============================] - 0s 5ms/step - loss: 4.6879e-04 - root_mean_squared_error: 0.0217 - val_loss: 0.0111 - val_root_mean_squared_error: 0.1053\n",
      "Epoch 49/50\n",
      "41/41 [==============================] - ETA: 0s - loss: 3.9186e-04 - root_mean_squared_error: 0.0198\n",
      "Epoch 00049: val_loss did not improve from 0.00234\n",
      "41/41 [==============================] - 0s 4ms/step - loss: 3.9186e-04 - root_mean_squared_error: 0.0198 - val_loss: 0.0116 - val_root_mean_squared_error: 0.1076\n",
      "Epoch 50/50\n",
      "37/41 [==========================>...] - ETA: 0s - loss: 3.5833e-04 - root_mean_squared_error: 0.0189\n",
      "Epoch 00050: val_loss did not improve from 0.00234\n",
      "41/41 [==============================] - 0s 5ms/step - loss: 3.7504e-04 - root_mean_squared_error: 0.0194 - val_loss: 0.0075 - val_root_mean_squared_error: 0.0865\n"
     ]
    }
   ],
   "source": [
    "filepath = 'best_model.hdf5'\n",
    "checkpoint = ModelCheckpoint(filepath=filepath, \n",
    "                             monitor='val_loss',\n",
    "                             verbose=1, \n",
    "                             save_best_only=True,\n",
    "                             mode='min')\n",
    "##################################################\n",
    "model.compile(loss='mse', optimizer=Adam(learning_rate=0.01),metrics=[RootMeanSquaredError()])\n",
    "\n",
    "history = model.fit(X_train, y_train, validation_data=(X_val, y_val), callbacks = [checkpoint],epochs=50)"
   ]
  },
  {
   "cell_type": "markdown",
   "metadata": {},
   "source": [
    "In the following plot we can see how the training and validation loss changed during the training."
   ]
  },
  {
   "cell_type": "code",
   "execution_count": 15,
   "metadata": {
    "scrolled": true
   },
   "outputs": [
    {
     "data": {
      "image/png": "[encoded data removed]",
      "text/plain": [
       "<Figure size 432x288 with 1 Axes>"
      ]
     },
     "metadata": {
      "needs_background": "light"
     },
     "output_type": "display_data"
    },
    {
     "data": {
      "text/plain": [
       "<Figure size 432x288 with 0 Axes>"
      ]
     },
     "metadata": {},
     "output_type": "display_data"
    }
   ],
   "source": [
    "loss = history.history['loss']\n",
    "val_loss = history.history['val_loss']\n",
    "epochs = range(len(loss))\n",
    "plt.plot(epochs, loss, label='Training loss')\n",
    "plt.plot(epochs, val_loss, label='Validation loss')\n",
    "plt.title('Training and validation loss')\n",
    "plt.legend(loc='best')\n",
    "plt.figure()\n",
    "plt.show()"
   ]
  },
  {
   "cell_type": "markdown",
   "metadata": {},
   "source": [
    "## Predictions for the next day in the test set"
   ]
  },
  {
   "cell_type": "code",
   "execution_count": 16,
   "metadata": {
    "scrolled": true
   },
   "outputs": [
    {
     "name": "stdout",
     "output_type": "stream",
     "text": [
      "Test Predictions shape: (163, 8)\n"
     ]
    },
    {
     "data": {
      "image/png": "[encoded data removed]",
      "text/plain": [
       "<Figure size 504x216 with 1 Axes>"
      ]
     },
     "metadata": {
      "needs_background": "light"
     },
     "output_type": "display_data"
    }
   ],
   "source": [
    "test_predictions = model.predict(X_test)\n",
    "\n",
    "test_predictions = np.repeat(test_predictions, (time_steps+1), axis = 1) #to have a matrix of the same size of scaler\n",
    "                                                                                #and then get the first column that is the target \n",
    "\n",
    "print(f'Test Predictions shape: {test_predictions.shape}')\n",
    "test_predictions_scaledback =scaler.inverse_transform(test_predictions)[:,0]\n",
    "\n",
    "\n",
    "fig, ax = plt.subplots(figsize=(7, 3))\n",
    "plt.plot(df_shifted2[len_valid:].index,test_predictions_scaledback, label='predictions')\n",
    "#plt.plot(y_test, label= 'test set')\n",
    "plt.plot(df_shifted2[len_valid:].index,test_set[:,0], label= 'test set')\n",
    "ax.legend()\n",
    "plt.xlabel('Date')\n",
    "plt.ylabel('USD')\n",
    "plt.title('Predictions')\n",
    "plt.tight_layout()\n",
    "plt.show()"
   ]
  },
  {
   "cell_type": "markdown",
   "metadata": {},
   "source": [
    "In the above plot we can see that the predictions are similar to the prices of the test set. If we want to predict the price of **tomorrow**, we need to consider the ETH price of today plus the last 7 prices:"
   ]
  },
  {
   "cell_type": "code",
   "execution_count": 17,
   "metadata": {
    "scrolled": true
   },
   "outputs": [
    {
     "name": "stdout",
     "output_type": "stream",
     "text": [
      "ETH Closing Prediction for tomorrow(2022-06-26) : $1135 USD\n"
     ]
    }
   ],
   "source": [
    "#predictions for tomorrow\n",
    "today_price = y_test[-1]\n",
    "X_today = np.append(today_price,X_test[-1,:-1]).reshape(1,X_test.shape[1],1)\n",
    "tomorrow_prediction = model.predict(X_today)\n",
    "\n",
    "tomorrow_predictions = np.repeat(tomorrow_prediction, (time_steps+1), axis = 1) \n",
    "tomorrow_predictions_scaledback =scaler.inverse_transform(tomorrow_predictions)[:,0]\n",
    "\n",
    "print(f'ETH Closing Prediction for tomorrow({date.today() + timedelta(1)}) : ${math.floor(tomorrow_predictions_scaledback[0])} USD')\n",
    "#prediction 06-25: 1061 USD\n",
    "#prediction 06-26: 1133 USD"
   ]
  },
  {
   "cell_type": "markdown",
   "metadata": {},
   "source": [
    "## Model for predicting the next 10 days\n",
    "The previous model is only for forecasting the price of the following day. Now we are going to build a model for forecasting the **following 10 days**."
   ]
  },
  {
   "cell_type": "markdown",
   "metadata": {},
   "source": [
    "First the dataset must be adjusted for predicting 10 days for each input"
   ]
  },
  {
   "cell_type": "code",
   "execution_count": 18,
   "metadata": {},
   "outputs": [],
   "source": [
    "def adjust_datasets(X, y, days_prediction=10):\n",
    "    new_y = []\n",
    "    for index in range(len(y)-days_prediction+1):\n",
    "        new_y.append(y[index:days_prediction+index])\n",
    "    new_y = np.array(new_y)\n",
    "    new_y = new_y.reshape(new_y.shape[0],days_prediction,1) #tensor\n",
    "    X = X[:new_y.shape[0]]\n",
    "    return X,new_y"
   ]
  },
  {
   "cell_type": "code",
   "execution_count": 19,
   "metadata": {
    "scrolled": true
   },
   "outputs": [
    {
     "data": {
      "text/plain": [
       "((1294, 7, 1),\n",
       " (154, 7, 1),\n",
       " (154, 7, 1),\n",
       " (1294, 10, 1),\n",
       " (154, 10, 1),\n",
       " (154, 10, 1))"
      ]
     },
     "execution_count": 19,
     "metadata": {},
     "output_type": "execute_result"
    }
   ],
   "source": [
    "days_prediction = 10\n",
    "\n",
    "X_train_forecast,y_train_forecast = adjust_datasets(X_train, y_train, days_prediction=days_prediction)\n",
    "X_val_forecast,y_val_forecast = adjust_datasets(X_val, y_val, days_prediction=days_prediction)\n",
    "X_test_forecast,y_test_forecast = adjust_datasets(X_test, y_test, days_prediction=days_prediction)\n",
    "\n",
    "#checking the shapes. must have tensor shape\n",
    "X_train_forecast.shape, X_val_forecast.shape, X_test_forecast.shape,\\\n",
    "y_train_forecast.shape, y_val_forecast.shape, y_test_forecast.shape"
   ]
  },
  {
   "cell_type": "markdown",
   "metadata": {},
   "source": [
    "## LSTM Model 2"
   ]
  },
  {
   "cell_type": "code",
   "execution_count": 20,
   "metadata": {
    "scrolled": true
   },
   "outputs": [
    {
     "name": "stdout",
     "output_type": "stream",
     "text": [
      "Model: \"sequential_1\"\n",
      "_________________________________________________________________\n",
      "Layer (type)                 Output Shape              Param #   \n",
      "=================================================================\n",
      "lstm_2 (LSTM)                (None, None, 32)          4352      \n",
      "_________________________________________________________________\n",
      "lstm_3 (LSTM)                (None, 16)                3136      \n",
      "_________________________________________________________________\n",
      "dense_1 (Dense)              (None, 10)                170       \n",
      "=================================================================\n",
      "Total params: 7,658\n",
      "Trainable params: 7,658\n",
      "Non-trainable params: 0\n",
      "_________________________________________________________________\n",
      "None\n"
     ]
    }
   ],
   "source": [
    "model_2 = Sequential()\n",
    "model_2.add(layers.InputLayer(input_shape=(None,1)))\n",
    "model_2.add(layers.LSTM(32, return_sequences=True, dropout=0.15)) #30\n",
    "model_2.add(layers.LSTM(16, return_sequences=False, dropout=0.5)) #20\n",
    "model_2.add(keras.layers.Dense(days_prediction)) #output of the NN must be the number of days to predict\n",
    "\n",
    "print(model_2.summary())"
   ]
  },
  {
   "cell_type": "code",
   "execution_count": 21,
   "metadata": {
    "scrolled": true
   },
   "outputs": [
    {
     "name": "stdout",
     "output_type": "stream",
     "text": [
      "Epoch 1/50\n",
      "39/41 [===========================>..] - ETA: 0s - loss: 0.0080 - root_mean_squared_error: 0.0896\n",
      "Epoch 00001: val_loss improved from inf to 0.06615, saving model to best_model_10.hdf5\n",
      "41/41 [==============================] - 1s 18ms/step - loss: 0.0078 - root_mean_squared_error: 0.0884 - val_loss: 0.0662 - val_root_mean_squared_error: 0.2572\n",
      "Epoch 2/50\n",
      "29/41 [====================>.........] - ETA: 0s - loss: 0.0025 - root_mean_squared_error: 0.0501\n",
      "Epoch 00002: val_loss improved from 0.06615 to 0.03494, saving model to best_model_10.hdf5\n",
      "41/41 [==============================] - 0s 5ms/step - loss: 0.0024 - root_mean_squared_error: 0.0488 - val_loss: 0.0349 - val_root_mean_squared_error: 0.1869\n",
      "Epoch 3/50\n",
      "28/41 [===================>..........] - ETA: 0s - loss: 0.0021 - root_mean_squared_error: 0.0454   \n",
      "Epoch 00003: val_loss did not improve from 0.03494\n",
      "41/41 [==============================] - 0s 4ms/step - loss: 0.0020 - root_mean_squared_error: 0.0450 - val_loss: 0.0485 - val_root_mean_squared_error: 0.2203\n",
      "Epoch 4/50\n",
      "40/41 [============================>.] - ETA: 0s - loss: 0.0022 - root_mean_squared_error: 0.0473  \n",
      "Epoch 00004: val_loss did not improve from 0.03494\n",
      "41/41 [==============================] - 0s 5ms/step - loss: 0.0023 - root_mean_squared_error: 0.0481 - val_loss: 0.0780 - val_root_mean_squared_error: 0.2793\n",
      "Epoch 5/50\n",
      "41/41 [==============================] - ETA: 0s - loss: 0.0021 - root_mean_squared_error: 0.0463\n",
      "Epoch 00005: val_loss did not improve from 0.03494\n",
      "41/41 [==============================] - 0s 4ms/step - loss: 0.0021 - root_mean_squared_error: 0.0463 - val_loss: 0.0453 - val_root_mean_squared_error: 0.2128\n",
      "Epoch 6/50\n",
      "41/41 [==============================] - ETA: 0s - loss: 0.0019 - root_mean_squared_error: 0.0432  \n",
      "Epoch 00006: val_loss improved from 0.03494 to 0.03271, saving model to best_model_10.hdf5\n",
      "41/41 [==============================] - 0s 5ms/step - loss: 0.0019 - root_mean_squared_error: 0.0432 - val_loss: 0.0327 - val_root_mean_squared_error: 0.1809\n",
      "Epoch 7/50\n",
      "40/41 [============================>.] - ETA: 0s - loss: 0.0021 - root_mean_squared_error: 0.0456\n",
      "Epoch 00007: val_loss did not improve from 0.03271\n",
      "41/41 [==============================] - 0s 4ms/step - loss: 0.0021 - root_mean_squared_error: 0.0454 - val_loss: 0.0502 - val_root_mean_squared_error: 0.2241\n",
      "Epoch 8/50\n",
      "29/41 [====================>.........] - ETA: 0s - loss: 0.0018 - root_mean_squared_error: 0.0419   \n",
      "Epoch 00008: val_loss improved from 0.03271 to 0.02348, saving model to best_model_10.hdf5\n",
      "41/41 [==============================] - 0s 5ms/step - loss: 0.0019 - root_mean_squared_error: 0.0435 - val_loss: 0.0235 - val_root_mean_squared_error: 0.1532\n",
      "Epoch 9/50\n",
      "39/41 [===========================>..] - ETA: 0s - loss: 0.0020 - root_mean_squared_error: 0.0445\n",
      "Epoch 00009: val_loss did not improve from 0.02348\n",
      "41/41 [==============================] - 0s 5ms/step - loss: 0.0020 - root_mean_squared_error: 0.0445 - val_loss: 0.0379 - val_root_mean_squared_error: 0.1948\n",
      "Epoch 10/50\n",
      "37/41 [==========================>...] - ETA: 0s - loss: 0.0021 - root_mean_squared_error: 0.0453\n",
      "Epoch 00010: val_loss did not improve from 0.02348\n",
      "41/41 [==============================] - 0s 5ms/step - loss: 0.0021 - root_mean_squared_error: 0.0453 - val_loss: 0.0677 - val_root_mean_squared_error: 0.2602\n",
      "Epoch 11/50\n",
      "40/41 [============================>.] - ETA: 0s - loss: 0.0018 - root_mean_squared_error: 0.0420\n",
      "Epoch 00011: val_loss did not improve from 0.02348\n",
      "41/41 [==============================] - 0s 4ms/step - loss: 0.0018 - root_mean_squared_error: 0.0423 - val_loss: 0.0362 - val_root_mean_squared_error: 0.1904\n",
      "Epoch 12/50\n",
      "41/41 [==============================] - ETA: 0s - loss: 0.0017 - root_mean_squared_error: 0.0407- ETA: 0s - loss: 0.0015 - root_mean_squared_error: 0.03\n",
      "Epoch 00012: val_loss did not improve from 0.02348\n",
      "41/41 [==============================] - 0s 4ms/step - loss: 0.0017 - root_mean_squared_error: 0.0407 - val_loss: 0.0282 - val_root_mean_squared_error: 0.1678\n",
      "Epoch 13/50\n",
      "39/41 [===========================>..] - ETA: 0s - loss: 0.0013 - root_mean_squared_error: 0.0366  \n",
      "Epoch 00013: val_loss did not improve from 0.02348\n",
      "41/41 [==============================] - 0s 4ms/step - loss: 0.0013 - root_mean_squared_error: 0.0363 - val_loss: 0.0712 - val_root_mean_squared_error: 0.2669\n",
      "Epoch 14/50\n",
      "38/41 [==========================>...] - ETA: 0s - loss: 0.0014 - root_mean_squared_error: 0.0380  \n",
      "Epoch 00014: val_loss improved from 0.02348 to 0.02142, saving model to best_model_10.hdf5\n",
      "41/41 [==============================] - 0s 5ms/step - loss: 0.0014 - root_mean_squared_error: 0.0380 - val_loss: 0.0214 - val_root_mean_squared_error: 0.1464\n",
      "Epoch 15/50\n",
      "41/41 [==============================] - ETA: 0s - loss: 0.0013 - root_mean_squared_error: 0.0360   \n",
      "Epoch 00015: val_loss did not improve from 0.02142\n",
      "41/41 [==============================] - 0s 4ms/step - loss: 0.0013 - root_mean_squared_error: 0.0360 - val_loss: 0.0506 - val_root_mean_squared_error: 0.2250\n",
      "Epoch 16/50\n",
      "37/41 [==========================>...] - ETA: 0s - loss: 0.0013 - root_mean_squared_error: 0.0355  \n",
      "Epoch 00016: val_loss did not improve from 0.02142\n",
      "41/41 [==============================] - 0s 5ms/step - loss: 0.0013 - root_mean_squared_error: 0.0359 - val_loss: 0.0349 - val_root_mean_squared_error: 0.1867\n",
      "Epoch 17/50\n",
      "40/41 [============================>.] - ETA: 0s - loss: 0.0012 - root_mean_squared_error: 0.0353  \n",
      "Epoch 00017: val_loss did not improve from 0.02142\n",
      "41/41 [==============================] - 0s 4ms/step - loss: 0.0013 - root_mean_squared_error: 0.0358 - val_loss: 0.0522 - val_root_mean_squared_error: 0.2286\n",
      "Epoch 18/50\n",
      "39/41 [===========================>..] - ETA: 0s - loss: 0.0013 - root_mean_squared_error: 0.0354\n",
      "Epoch 00018: val_loss did not improve from 0.02142\n",
      "41/41 [==============================] - 0s 4ms/step - loss: 0.0013 - root_mean_squared_error: 0.0359 - val_loss: 0.0228 - val_root_mean_squared_error: 0.1511\n",
      "Epoch 19/50\n",
      "37/41 [==========================>...] - ETA: 0s - loss: 0.0012 - root_mean_squared_error: 0.0346    \n",
      "Epoch 00019: val_loss improved from 0.02142 to 0.01543, saving model to best_model_10.hdf5\n",
      "41/41 [==============================] - 0s 5ms/step - loss: 0.0012 - root_mean_squared_error: 0.0347 - val_loss: 0.0154 - val_root_mean_squared_error: 0.1242\n",
      "Epoch 20/50\n",
      "40/41 [============================>.] - ETA: 0s - loss: 0.0015 - root_mean_squared_error: 0.0381\n",
      "Epoch 00020: val_loss did not improve from 0.01543\n",
      "41/41 [==============================] - 0s 4ms/step - loss: 0.0015 - root_mean_squared_error: 0.0381 - val_loss: 0.0334 - val_root_mean_squared_error: 0.1829\n",
      "Epoch 21/50\n",
      "41/41 [==============================] - ETA: 0s - loss: 0.0012 - root_mean_squared_error: 0.0344\n",
      "Epoch 00021: val_loss did not improve from 0.01543\n",
      "41/41 [==============================] - 0s 4ms/step - loss: 0.0012 - root_mean_squared_error: 0.0344 - val_loss: 0.0265 - val_root_mean_squared_error: 0.1627\n",
      "Epoch 22/50\n",
      "37/41 [==========================>...] - ETA: 0s - loss: 0.0012 - root_mean_squared_error: 0.0348  \n",
      "Epoch 00022: val_loss did not improve from 0.01543\n",
      "41/41 [==============================] - 0s 5ms/step - loss: 0.0012 - root_mean_squared_error: 0.0346 - val_loss: 0.0378 - val_root_mean_squared_error: 0.1943\n",
      "Epoch 23/50\n",
      "40/41 [============================>.] - ETA: 0s - loss: 0.0012 - root_mean_squared_error: 0.0344\n",
      "Epoch 00023: val_loss did not improve from 0.01543\n",
      "41/41 [==============================] - 0s 4ms/step - loss: 0.0012 - root_mean_squared_error: 0.0345 - val_loss: 0.0486 - val_root_mean_squared_error: 0.2205\n",
      "Epoch 24/50\n",
      "40/41 [============================>.] - ETA: 0s - loss: 0.0013 - root_mean_squared_error: 0.0354  \n",
      "Epoch 00024: val_loss did not improve from 0.01543\n",
      "41/41 [==============================] - 0s 4ms/step - loss: 0.0013 - root_mean_squared_error: 0.0354 - val_loss: 0.0170 - val_root_mean_squared_error: 0.1303\n",
      "Epoch 25/50\n",
      "41/41 [==============================] - ETA: 0s - loss: 0.0011 - root_mean_squared_error: 0.0326    \n",
      "Epoch 00025: val_loss did not improve from 0.01543\n",
      "41/41 [==============================] - 0s 4ms/step - loss: 0.0011 - root_mean_squared_error: 0.0326 - val_loss: 0.0211 - val_root_mean_squared_error: 0.1452\n"
     ]
    },
    {
     "name": "stdout",
     "output_type": "stream",
     "text": [
      "Epoch 26/50\n",
      "40/41 [============================>.] - ETA: 0s - loss: 0.0012 - root_mean_squared_error: 0.0344\n",
      "Epoch 00026: val_loss did not improve from 0.01543\n",
      "41/41 [==============================] - 0s 5ms/step - loss: 0.0012 - root_mean_squared_error: 0.0343 - val_loss: 0.0505 - val_root_mean_squared_error: 0.2247\n",
      "Epoch 27/50\n",
      "38/41 [==========================>...] - ETA: 0s - loss: 0.0011 - root_mean_squared_error: 0.0332  \n",
      "Epoch 00027: val_loss did not improve from 0.01543\n",
      "41/41 [==============================] - 0s 5ms/step - loss: 0.0011 - root_mean_squared_error: 0.0329 - val_loss: 0.0292 - val_root_mean_squared_error: 0.1709\n",
      "Epoch 28/50\n",
      "40/41 [============================>.] - ETA: 0s - loss: 0.0013 - root_mean_squared_error: 0.0360  \n",
      "Epoch 00028: val_loss did not improve from 0.01543\n",
      "41/41 [==============================] - 0s 4ms/step - loss: 0.0013 - root_mean_squared_error: 0.0359 - val_loss: 0.0556 - val_root_mean_squared_error: 0.2357\n",
      "Epoch 29/50\n",
      "40/41 [============================>.] - ETA: 0s - loss: 0.0013 - root_mean_squared_error: 0.0364\n",
      "Epoch 00029: val_loss did not improve from 0.01543\n",
      "41/41 [==============================] - 0s 4ms/step - loss: 0.0013 - root_mean_squared_error: 0.0363 - val_loss: 0.0309 - val_root_mean_squared_error: 0.1757\n",
      "Epoch 30/50\n",
      "40/41 [============================>.] - ETA: 0s - loss: 0.0012 - root_mean_squared_error: 0.0351\n",
      "Epoch 00030: val_loss did not improve from 0.01543\n",
      "41/41 [==============================] - 0s 4ms/step - loss: 0.0012 - root_mean_squared_error: 0.0350 - val_loss: 0.0296 - val_root_mean_squared_error: 0.1720\n",
      "Epoch 31/50\n",
      "40/41 [============================>.] - ETA: 0s - loss: 0.0012 - root_mean_squared_error: 0.0344   \n",
      "Epoch 00031: val_loss did not improve from 0.01543\n",
      "41/41 [==============================] - 0s 4ms/step - loss: 0.0012 - root_mean_squared_error: 0.0343 - val_loss: 0.0399 - val_root_mean_squared_error: 0.1999\n",
      "Epoch 32/50\n",
      "39/41 [===========================>..] - ETA: 0s - loss: 0.0012 - root_mean_squared_error: 0.0344  \n",
      "Epoch 00032: val_loss did not improve from 0.01543\n",
      "41/41 [==============================] - 0s 4ms/step - loss: 0.0012 - root_mean_squared_error: 0.0342 - val_loss: 0.0470 - val_root_mean_squared_error: 0.2169\n",
      "Epoch 33/50\n",
      "40/41 [============================>.] - ETA: 0s - loss: 0.0013 - root_mean_squared_error: 0.0359\n",
      "Epoch 00033: val_loss did not improve from 0.01543\n",
      "41/41 [==============================] - 0s 4ms/step - loss: 0.0013 - root_mean_squared_error: 0.0358 - val_loss: 0.0250 - val_root_mean_squared_error: 0.1582\n",
      "Epoch 34/50\n",
      "41/41 [==============================] - ETA: 0s - loss: 0.0012 - root_mean_squared_error: 0.0343\n",
      "Epoch 00034: val_loss did not improve from 0.01543\n",
      "41/41 [==============================] - 0s 4ms/step - loss: 0.0012 - root_mean_squared_error: 0.0343 - val_loss: 0.0199 - val_root_mean_squared_error: 0.1412\n",
      "Epoch 35/50\n",
      "40/41 [============================>.] - ETA: 0s - loss: 0.0011 - root_mean_squared_error: 0.0336  \n",
      "Epoch 00035: val_loss did not improve from 0.01543\n",
      "41/41 [==============================] - 0s 4ms/step - loss: 0.0011 - root_mean_squared_error: 0.0335 - val_loss: 0.0272 - val_root_mean_squared_error: 0.1649\n",
      "Epoch 36/50\n",
      "40/41 [============================>.] - ETA: 0s - loss: 0.0010 - root_mean_squared_error: 0.0321    \n",
      "Epoch 00036: val_loss did not improve from 0.01543\n",
      "41/41 [==============================] - 0s 4ms/step - loss: 0.0010 - root_mean_squared_error: 0.0322 - val_loss: 0.0380 - val_root_mean_squared_error: 0.1948\n",
      "Epoch 37/50\n",
      "40/41 [============================>.] - ETA: 0s - loss: 0.0011 - root_mean_squared_error: 0.0325  \n",
      "Epoch 00037: val_loss did not improve from 0.01543\n",
      "41/41 [==============================] - 0s 4ms/step - loss: 0.0010 - root_mean_squared_error: 0.0324 - val_loss: 0.0343 - val_root_mean_squared_error: 0.1851\n",
      "Epoch 38/50\n",
      "38/41 [==========================>...] - ETA: 0s - loss: 0.0012 - root_mean_squared_error: 0.0340\n",
      "Epoch 00038: val_loss did not improve from 0.01543\n",
      "41/41 [==============================] - 0s 5ms/step - loss: 0.0012 - root_mean_squared_error: 0.0340 - val_loss: 0.0323 - val_root_mean_squared_error: 0.1798\n",
      "Epoch 39/50\n",
      "38/41 [==========================>...] - ETA: 0s - loss: 9.6100e-04 - root_mean_squared_error: 0.0310\n",
      "Epoch 00039: val_loss did not improve from 0.01543\n",
      "41/41 [==============================] - 0s 5ms/step - loss: 0.0010 - root_mean_squared_error: 0.0321 - val_loss: 0.0275 - val_root_mean_squared_error: 0.1660\n",
      "Epoch 40/50\n",
      "38/41 [==========================>...] - ETA: 0s - loss: 0.0013 - root_mean_squared_error: 0.0357  \n",
      "Epoch 00040: val_loss did not improve from 0.01543\n",
      "41/41 [==============================] - 0s 5ms/step - loss: 0.0013 - root_mean_squared_error: 0.0365 - val_loss: 0.0229 - val_root_mean_squared_error: 0.1514\n",
      "Epoch 41/50\n",
      "37/41 [==========================>...] - ETA: 0s - loss: 0.0012 - root_mean_squared_error: 0.0340   \n",
      "Epoch 00041: val_loss did not improve from 0.01543\n",
      "41/41 [==============================] - 0s 5ms/step - loss: 0.0012 - root_mean_squared_error: 0.0341 - val_loss: 0.0469 - val_root_mean_squared_error: 0.2165\n",
      "Epoch 42/50\n",
      "35/41 [========================>.....] - ETA: 0s - loss: 0.0012 - root_mean_squared_error: 0.0342  \n",
      "Epoch 00042: val_loss did not improve from 0.01543\n",
      "41/41 [==============================] - 0s 5ms/step - loss: 0.0011 - root_mean_squared_error: 0.0337 - val_loss: 0.0258 - val_root_mean_squared_error: 0.1607\n",
      "Epoch 43/50\n",
      "35/41 [========================>.....] - ETA: 0s - loss: 0.0013 - root_mean_squared_error: 0.0354\n",
      "Epoch 00043: val_loss did not improve from 0.01543\n",
      "41/41 [==============================] - 0s 5ms/step - loss: 0.0012 - root_mean_squared_error: 0.0348 - val_loss: 0.0324 - val_root_mean_squared_error: 0.1800\n",
      "Epoch 44/50\n",
      "36/41 [=========================>....] - ETA: 0s - loss: 0.0011 - root_mean_squared_error: 0.0327  \n",
      "Epoch 00044: val_loss did not improve from 0.01543\n",
      "41/41 [==============================] - 0s 5ms/step - loss: 0.0011 - root_mean_squared_error: 0.0326 - val_loss: 0.0308 - val_root_mean_squared_error: 0.1754\n",
      "Epoch 45/50\n",
      "35/41 [========================>.....] - ETA: 0s - loss: 0.0010 - root_mean_squared_error: 0.0322    \n",
      "Epoch 00045: val_loss did not improve from 0.01543\n",
      "41/41 [==============================] - 0s 5ms/step - loss: 0.0010 - root_mean_squared_error: 0.0317 - val_loss: 0.0443 - val_root_mean_squared_error: 0.2104\n",
      "Epoch 46/50\n",
      "34/41 [=======================>......] - ETA: 0s - loss: 0.0011 - root_mean_squared_error: 0.0332    \n",
      "Epoch 00046: val_loss did not improve from 0.01543\n",
      "41/41 [==============================] - 0s 5ms/step - loss: 0.0011 - root_mean_squared_error: 0.0339 - val_loss: 0.0259 - val_root_mean_squared_error: 0.1609\n",
      "Epoch 47/50\n",
      "32/41 [======================>.......] - ETA: 0s - loss: 0.0011 - root_mean_squared_error: 0.0330\n",
      "Epoch 00047: val_loss did not improve from 0.01543\n",
      "41/41 [==============================] - 0s 6ms/step - loss: 0.0011 - root_mean_squared_error: 0.0329 - val_loss: 0.0261 - val_root_mean_squared_error: 0.1615\n",
      "Epoch 48/50\n",
      "33/41 [=======================>......] - ETA: 0s - loss: 0.0011 - root_mean_squared_error: 0.0335    \n",
      "Epoch 00048: val_loss did not improve from 0.01543\n",
      "41/41 [==============================] - 0s 5ms/step - loss: 0.0011 - root_mean_squared_error: 0.0338 - val_loss: 0.0449 - val_root_mean_squared_error: 0.2120\n",
      "Epoch 49/50\n",
      "34/41 [=======================>......] - ETA: 0s - loss: 0.0012 - root_mean_squared_error: 0.0351\n",
      "Epoch 00049: val_loss did not improve from 0.01543\n",
      "41/41 [==============================] - 0s 5ms/step - loss: 0.0012 - root_mean_squared_error: 0.0348 - val_loss: 0.0342 - val_root_mean_squared_error: 0.1850\n",
      "Epoch 50/50\n",
      "36/41 [=========================>....] - ETA: 0s - loss: 0.0010 - root_mean_squared_error: 0.0321  \n",
      "Epoch 00050: val_loss did not improve from 0.01543\n",
      "41/41 [==============================] - 0s 5ms/step - loss: 0.0011 - root_mean_squared_error: 0.0337 - val_loss: 0.0395 - val_root_mean_squared_error: 0.1988\n"
     ]
    }
   ],
   "source": [
    "filepath = 'best_model_10.hdf5'\n",
    "checkpoint = ModelCheckpoint(filepath=filepath, \n",
    "                             monitor='val_loss',\n",
    "                             verbose=1, \n",
    "                             save_best_only=True,\n",
    "                             mode='min')\n",
    "##################################################\n",
    "\n",
    "model_2.compile(loss='mse', optimizer=Adam(learning_rate=0.01),metrics=[RootMeanSquaredError()])\n",
    "\n",
    "history = model_2.fit(X_train_forecast, y_train_forecast, validation_data=(X_val_forecast, y_val_forecast),\\\n",
    "                    callbacks = [checkpoint],epochs=50)"
   ]
  },
  {
   "cell_type": "markdown",
   "metadata": {},
   "source": [
    "## Predictions"
   ]
  },
  {
   "cell_type": "code",
   "execution_count": 22,
   "metadata": {
    "scrolled": true
   },
   "outputs": [
    {
     "data": {
      "image/png": "[encoded data removed]",
      "text/plain": [
       "<Figure size 576x288 with 1 Axes>"
      ]
     },
     "metadata": {
      "needs_background": "light"
     },
     "output_type": "display_data"
    }
   ],
   "source": [
    "test_predictions_forecast = model_2.predict(X_test_forecast)\n",
    "\n",
    "fig, ax = plt.subplots(figsize=(8, 4))\n",
    "plt.plot(test_predictions_forecast[:,:].flatten(), label='prediction')\n",
    "plt.plot(y_test_forecast[:,:].flatten(), label='y test')\n",
    "plt.ylabel('USD Scaled')\n",
    "plt.legend(loc='best')\n",
    "plt.title(f'{days_prediction} days Predictions vs Test Price ')\n",
    "plt.tight_layout()"
   ]
  },
  {
   "cell_type": "markdown",
   "metadata": {},
   "source": [
    "In the following plot we are going to observe only the forecast for the **last 10 days**, that is the goal of the model."
   ]
  },
  {
   "cell_type": "code",
   "execution_count": 23,
   "metadata": {
    "scrolled": true
   },
   "outputs": [
    {
     "data": {
      "image/png": "[encoded data removed]",
      "text/plain": [
       "<Figure size 576x216 with 1 Axes>"
      ]
     },
     "metadata": {
      "needs_background": "light"
     },
     "output_type": "display_data"
    }
   ],
   "source": [
    "forecast_10_days = test_predictions_forecast[-1].reshape(-1,1) #last 10 days prediction\n",
    "forecast_10_days = np.repeat(forecast_10_days, (time_steps+1), axis = 1)\n",
    "\n",
    "forecast_10_days_scaledback =scaler.inverse_transform(forecast_10_days)[:,0]\n",
    "forecast_10_days_scaledback\n",
    "\n",
    "y_test_10_days = np.repeat(y_test_forecast[-1], (time_steps+1), axis = 1)\n",
    "y_test_10_days_scaledback = scaler.inverse_transform(y_test_10_days)[:,0]\n",
    "\n",
    "fig, ax = plt.subplots(figsize=(8, 3))\n",
    "plt.plot(df_shifted2[-10:].index,forecast_10_days_scaledback, label='predictions')\n",
    "plt.plot(df_shifted2[-10:].index,y_test_10_days_scaledback, label= 'test set')\n",
    "\n",
    "ax.legend(loc= 'best')\n",
    "plt.xlabel('Date')\n",
    "plt.xticks(rotation=45)\n",
    "plt.ylabel('USD')\n",
    "plt.title('Predictions')\n",
    "plt.tight_layout()\n",
    "plt.show()"
   ]
  },
  {
   "cell_type": "markdown",
   "metadata": {},
   "source": [
    "Now we are going to forecast the following 10 days, based on the price of today."
   ]
  },
  {
   "cell_type": "code",
   "execution_count": 24,
   "metadata": {
    "scrolled": true
   },
   "outputs": [],
   "source": [
    "#predictions for tomorrow\n",
    "today_price = y_test_forecast[-1:,-1].flatten()\n",
    "X_today = np.append(today_price,X_test_forecast[-1,:-1]).reshape(1,X_test_forecast.shape[1],1)\n",
    "tomorrow_prediction = model_2.predict(X_today).reshape(-1,1)\n",
    "\n",
    "forecast_next_10_days = np.repeat(tomorrow_prediction, (time_steps+1), axis = 1) \n",
    "forecast_next_10_days_scaledback =scaler.inverse_transform(forecast_next_10_days)[:,0]\n"
   ]
  },
  {
   "cell_type": "code",
   "execution_count": 25,
   "metadata": {
    "scrolled": true
   },
   "outputs": [
    {
     "name": "stdout",
     "output_type": "stream",
     "text": [
      "ETH Forecast for 2022-06-26: 1348 USD\n",
      "ETH Forecast for 2022-06-27: 1346 USD\n",
      "ETH Forecast for 2022-06-28: 1342 USD\n",
      "ETH Forecast for 2022-06-29: 1358 USD\n",
      "ETH Forecast for 2022-06-30: 1332 USD\n",
      "ETH Forecast for 2022-07-01: 1326 USD\n",
      "ETH Forecast for 2022-07-02: 1345 USD\n",
      "ETH Forecast for 2022-07-03: 1352 USD\n",
      "ETH Forecast for 2022-07-04: 1385 USD\n",
      "ETH Forecast for 2022-07-05: 1426 USD\n"
     ]
    }
   ],
   "source": [
    "for index, price in enumerate(forecast_next_10_days_scaledback, start=1):\n",
    "    print(f'ETH Forecast for {date.today() + timedelta(index)}: {math.floor(price)} USD')"
   ]
  }
 ],
 "metadata": {
  "kernelspec": {
   "display_name": "Python 3",
   "language": "python",
   "name": "python3"
  },
  "language_info": {
   "codemirror_mode": {
    "name": "ipython",
    "version": 3
   },
   "file_extension": ".py",
   "mimetype": "text/x-python",
   "name": "python",
   "nbconvert_exporter": "python",
   "pygments_lexer": "ipython3",
   "version": "3.7.8rc1"
  }
 },
 "nbformat": 4,
 "nbformat_minor": 4
}
