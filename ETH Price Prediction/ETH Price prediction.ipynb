{
 "cells": [
  {
   "cell_type": "markdown",
   "metadata": {},
   "source": [
    "# Ethereum (ETH) Price Prediction using LSTM"
   ]
  },
  {
   "cell_type": "code",
   "execution_count": 1,
   "metadata": {},
   "outputs": [],
   "source": [
    "import pandas as pd\n",
    "import numpy as np\n",
    "import time\n",
    "import math\n",
    "from datetime import date, datetime, timezone, timedelta\n",
    "import json\n",
    "import yfinance as yf\n",
    "import matplotlib.pyplot as plt\n",
    "import seaborn as sns\n",
    "\n",
    "from sklearn.preprocessing import MinMaxScaler\n",
    "import tensorflow as tf\n",
    "from tensorflow import keras"
   ]
  },
  {
   "cell_type": "markdown",
   "metadata": {},
   "source": [
    "## Importing the ETH price data\n",
    "First the historical ETH prices per day are downloaded from yahoo finance"
   ]
  },
  {
   "cell_type": "code",
   "execution_count": 2,
   "metadata": {
    "scrolled": true
   },
   "outputs": [],
   "source": [
    "today = date.today().strftime('%Y-%m-%d')\n",
    "\n",
    "eth = yf.Ticker('ETH-USD')\n",
    "eth_data = eth.history(interval='1d', start='2018-01-01' , end=today)\n",
    "df = eth_data[['Close']] #using the closing price\n",
    "df = df.rename(columns={'Close': 'Price'})\n"
   ]
  },
  {
   "cell_type": "code",
   "execution_count": 3,
   "metadata": {
    "scrolled": true
   },
   "outputs": [
    {
     "data": {
      "image/png": "[encoded data removed]",
      "text/plain": [
       "<Figure size 720x216 with 1 Axes>"
      ]
     },
     "metadata": {
      "needs_background": "light"
     },
     "output_type": "display_data"
    }
   ],
   "source": [
    "fig, ax = plt.subplots(1, figsize=(10, 3))\n",
    "sns.lineplot(data=df['Price'], label='price').set(title='ETH Historical Price')\n",
    "plt.grid(True)\n",
    "plt.tight_layout()"
   ]
  },
  {
   "cell_type": "markdown",
   "metadata": {},
   "source": [
    "### Checking stats and nan values"
   ]
  },
  {
   "cell_type": "code",
   "execution_count": 4,
   "metadata": {
    "scrolled": false
   },
   "outputs": [
    {
     "name": "stdout",
     "output_type": "stream",
     "text": [
      "the are: 0 nan values in the data frame\n"
     ]
    },
    {
     "data": {
      "text/html": [
       "<div>\n",
       "<style scoped>\n",
       "    .dataframe tbody tr th:only-of-type {\n",
       "        vertical-align: middle;\n",
       "    }\n",
       "\n",
       "    .dataframe tbody tr th {\n",
       "        vertical-align: top;\n",
       "    }\n",
       "\n",
       "    .dataframe thead th {\n",
       "        text-align: right;\n",
       "    }\n",
       "</style>\n",
       "<table border=\"1\" class=\"dataframe\">\n",
       "  <thead>\n",
       "    <tr style=\"text-align: right;\">\n",
       "      <th></th>\n",
       "      <th>Price</th>\n",
       "    </tr>\n",
       "  </thead>\n",
       "  <tbody>\n",
       "    <tr>\n",
       "      <th>count</th>\n",
       "      <td>1638.000000</td>\n",
       "    </tr>\n",
       "    <tr>\n",
       "      <th>mean</th>\n",
       "      <td>1118.064374</td>\n",
       "    </tr>\n",
       "    <tr>\n",
       "      <th>std</th>\n",
       "      <td>1261.925085</td>\n",
       "    </tr>\n",
       "    <tr>\n",
       "      <th>min</th>\n",
       "      <td>84.308296</td>\n",
       "    </tr>\n",
       "    <tr>\n",
       "      <th>25%</th>\n",
       "      <td>197.635750</td>\n",
       "    </tr>\n",
       "    <tr>\n",
       "      <th>50%</th>\n",
       "      <td>407.698105</td>\n",
       "    </tr>\n",
       "    <tr>\n",
       "      <th>75%</th>\n",
       "      <td>1944.202911</td>\n",
       "    </tr>\n",
       "    <tr>\n",
       "      <th>max</th>\n",
       "      <td>4812.087402</td>\n",
       "    </tr>\n",
       "  </tbody>\n",
       "</table>\n",
       "</div>"
      ],
      "text/plain": [
       "             Price\n",
       "count  1638.000000\n",
       "mean   1118.064374\n",
       "std    1261.925085\n",
       "min      84.308296\n",
       "25%     197.635750\n",
       "50%     407.698105\n",
       "75%    1944.202911\n",
       "max    4812.087402"
      ]
     },
     "execution_count": 4,
     "metadata": {},
     "output_type": "execute_result"
    }
   ],
   "source": [
    "print( f'the are: {df.isna().sum()[0]} nan values in the data frame')\n",
    "\n",
    "df.describe()"
   ]
  },
  {
   "cell_type": "markdown",
   "metadata": {},
   "source": [
    "## Selecting the time steps and splitting the dataset\n",
    "A function, **add_prev_prices** is created to append the previous prices by selecting a time step."
   ]
  },
  {
   "cell_type": "code",
   "execution_count": 5,
   "metadata": {},
   "outputs": [],
   "source": [
    "def add_prev_prices(df, time_step = 5):\n",
    "    df_2 = df.copy()\n",
    "    steps = []\n",
    "    for t in range(1,time_step+1):\n",
    "        shift_t = df_2.shift(t)\n",
    "        steps.append(shift_t)\n",
    "\n",
    "    for index,step in enumerate(steps, start=1):\n",
    "        df_2.insert(index,f\"Price {-index}\", step, True)\n",
    "    df_2 = df_2.dropna()\n",
    "    return df_2"
   ]
  },
  {
   "cell_type": "code",
   "execution_count": 6,
   "metadata": {
    "scrolled": true
   },
   "outputs": [
    {
     "data": {
      "text/html": [
       "<div>\n",
       "<style scoped>\n",
       "    .dataframe tbody tr th:only-of-type {\n",
       "        vertical-align: middle;\n",
       "    }\n",
       "\n",
       "    .dataframe tbody tr th {\n",
       "        vertical-align: top;\n",
       "    }\n",
       "\n",
       "    .dataframe thead th {\n",
       "        text-align: right;\n",
       "    }\n",
       "</style>\n",
       "<table border=\"1\" class=\"dataframe\">\n",
       "  <thead>\n",
       "    <tr style=\"text-align: right;\">\n",
       "      <th></th>\n",
       "      <th>Price</th>\n",
       "      <th>Price -1</th>\n",
       "      <th>Price -2</th>\n",
       "      <th>Price -3</th>\n",
       "      <th>Price -4</th>\n",
       "      <th>Price -5</th>\n",
       "      <th>Price -6</th>\n",
       "      <th>Price -7</th>\n",
       "    </tr>\n",
       "    <tr>\n",
       "      <th>Date</th>\n",
       "      <th></th>\n",
       "      <th></th>\n",
       "      <th></th>\n",
       "      <th></th>\n",
       "      <th></th>\n",
       "      <th></th>\n",
       "      <th></th>\n",
       "      <th></th>\n",
       "    </tr>\n",
       "  </thead>\n",
       "  <tbody>\n",
       "    <tr>\n",
       "      <th>2018-01-08</th>\n",
       "      <td>1148.530029</td>\n",
       "      <td>1153.170044</td>\n",
       "      <td>1041.680054</td>\n",
       "      <td>997.719971</td>\n",
       "      <td>980.921997</td>\n",
       "      <td>962.719971</td>\n",
       "      <td>884.443970</td>\n",
       "      <td>772.640991</td>\n",
       "    </tr>\n",
       "    <tr>\n",
       "      <th>2018-01-09</th>\n",
       "      <td>1299.739990</td>\n",
       "      <td>1148.530029</td>\n",
       "      <td>1153.170044</td>\n",
       "      <td>1041.680054</td>\n",
       "      <td>997.719971</td>\n",
       "      <td>980.921997</td>\n",
       "      <td>962.719971</td>\n",
       "      <td>884.443970</td>\n",
       "    </tr>\n",
       "    <tr>\n",
       "      <th>2018-01-10</th>\n",
       "      <td>1255.819946</td>\n",
       "      <td>1299.739990</td>\n",
       "      <td>1148.530029</td>\n",
       "      <td>1153.170044</td>\n",
       "      <td>1041.680054</td>\n",
       "      <td>997.719971</td>\n",
       "      <td>980.921997</td>\n",
       "      <td>962.719971</td>\n",
       "    </tr>\n",
       "    <tr>\n",
       "      <th>2018-01-11</th>\n",
       "      <td>1154.930054</td>\n",
       "      <td>1255.819946</td>\n",
       "      <td>1299.739990</td>\n",
       "      <td>1148.530029</td>\n",
       "      <td>1153.170044</td>\n",
       "      <td>1041.680054</td>\n",
       "      <td>997.719971</td>\n",
       "      <td>980.921997</td>\n",
       "    </tr>\n",
       "    <tr>\n",
       "      <th>2018-01-12</th>\n",
       "      <td>1273.199951</td>\n",
       "      <td>1154.930054</td>\n",
       "      <td>1255.819946</td>\n",
       "      <td>1299.739990</td>\n",
       "      <td>1148.530029</td>\n",
       "      <td>1153.170044</td>\n",
       "      <td>1041.680054</td>\n",
       "      <td>997.719971</td>\n",
       "    </tr>\n",
       "  </tbody>\n",
       "</table>\n",
       "</div>"
      ],
      "text/plain": [
       "                  Price     Price -1     Price -2     Price -3     Price -4  \\\n",
       "Date                                                                          \n",
       "2018-01-08  1148.530029  1153.170044  1041.680054   997.719971   980.921997   \n",
       "2018-01-09  1299.739990  1148.530029  1153.170044  1041.680054   997.719971   \n",
       "2018-01-10  1255.819946  1299.739990  1148.530029  1153.170044  1041.680054   \n",
       "2018-01-11  1154.930054  1255.819946  1299.739990  1148.530029  1153.170044   \n",
       "2018-01-12  1273.199951  1154.930054  1255.819946  1299.739990  1148.530029   \n",
       "\n",
       "               Price -5     Price -6    Price -7  \n",
       "Date                                              \n",
       "2018-01-08   962.719971   884.443970  772.640991  \n",
       "2018-01-09   980.921997   962.719971  884.443970  \n",
       "2018-01-10   997.719971   980.921997  962.719971  \n",
       "2018-01-11  1041.680054   997.719971  980.921997  \n",
       "2018-01-12  1153.170044  1041.680054  997.719971  "
      ]
     },
     "execution_count": 6,
     "metadata": {},
     "output_type": "execute_result"
    }
   ],
   "source": [
    "#using the prices of the past week\n",
    "time_steps = 7\n",
    "df_shifted = add_prev_prices(df, time_step = time_steps)\n",
    "df_shifted2 = df_shifted.copy()\n",
    "df_shifted.head()"
   ]
  },
  {
   "cell_type": "markdown",
   "metadata": {},
   "source": [
    "In this case, a time step of **7 days** was selected. This means, that the prices of the last 7 days are appended to the dataset. These historical prices are going to be used for forecasting the ETH price of the day."
   ]
  },
  {
   "cell_type": "code",
   "execution_count": 7,
   "metadata": {},
   "outputs": [
    {
     "name": "stdout",
     "output_type": "stream",
     "text": [
      "length of the dataset: 1631\n",
      "The 80% of the dataset is going to be used for training \n",
      "\n",
      "Length of training set: 1467\n",
      "Length of test set: 164\n"
     ]
    }
   ],
   "source": [
    "#selecting the size of the training set\n",
    "df_shifted = df_shifted.to_numpy()\n",
    "print(f'length of the dataset: {len(df_shifted)}') #size of dataframe\n",
    "\n",
    "training_size = 0.8\n",
    "print(f'The {training_size:.0%} of the dataset is going to be used for training \\n')\n",
    "\n",
    "len_train = math.floor(len(df_shifted)*training_size) #0.8 traiing\n",
    "len_valid =  math.floor(len(df_shifted)*(training_size+0.1)) #0.1 validation\n",
    "\n",
    "#splitting intro training and test set. From the training set we are going to also get the validation set\n",
    "training_set = df_shifted[:len_valid] \n",
    "test_set = df_shifted[len_valid:]\n",
    "\n",
    "print(f'Length of training set: {len(training_set)}')\n",
    "print(f'Length of test set: {len(test_set)}')"
   ]
  },
  {
   "cell_type": "markdown",
   "metadata": {},
   "source": [
    "The dataset was splitted into training and test set. From the training set we are also going to get the validation set that is going to be used for training the neural network."
   ]
  },
  {
   "cell_type": "markdown",
   "metadata": {},
   "source": [
    "## Scaling the datasets"
   ]
  },
  {
   "cell_type": "code",
   "execution_count": 8,
   "metadata": {},
   "outputs": [],
   "source": [
    "scaler = MinMaxScaler()\n",
    "training_set_scaled = scaler.fit_transform(training_set)\n",
    "test_set_scaled = scaler.transform(test_set) #we dont know the test set on production so we should scale it with the known data"
   ]
  },
  {
   "cell_type": "markdown",
   "metadata": {},
   "source": [
    "Splitting into training, validation and test set"
   ]
  },
  {
   "cell_type": "code",
   "execution_count": 9,
   "metadata": {},
   "outputs": [
    {
     "data": {
      "text/plain": [
       "((1304, 7), (163, 7), (164, 7), (1304,), (163,), (164,))"
      ]
     },
     "execution_count": 9,
     "metadata": {},
     "output_type": "execute_result"
    }
   ],
   "source": [
    "X_train, y_train =training_set_scaled[:len_train,1:], training_set_scaled[:len_train,0]\n",
    "X_val, y_val = training_set_scaled[len_train:len_valid,1:], training_set_scaled[len_train:len_valid,0]\n",
    "X_test, y_test = test_set_scaled[:,1:], test_set_scaled[:,0]\n",
    "\n",
    "X_train.shape, X_val.shape, X_test.shape, y_train.shape, y_val.shape, y_test.shape"
   ]
  },
  {
   "cell_type": "markdown",
   "metadata": {},
   "source": [
    "Reshaping the features for having the tensor shape needed as input for the neural network"
   ]
  },
  {
   "cell_type": "code",
   "execution_count": 10,
   "metadata": {},
   "outputs": [
    {
     "data": {
      "text/plain": [
       "((1304, 7, 1), (163, 7, 1), (164, 7, 1), (1304,), (163,), (164,))"
      ]
     },
     "execution_count": 10,
     "metadata": {},
     "output_type": "execute_result"
    }
   ],
   "source": [
    "X_train = X_train.reshape(X_train.shape[0], X_train.shape[1], 1 )\n",
    "X_val = X_val.reshape(X_val.shape[0], X_val.shape[1], 1 )\n",
    "X_test = X_test.reshape(X_test.shape[0], X_test.shape[1], 1 )\n",
    "\n",
    "X_train.shape, X_val.shape, X_test.shape, y_train.shape, y_val.shape, y_test.shape"
   ]
  },
  {
   "cell_type": "code",
   "execution_count": 11,
   "metadata": {
    "scrolled": false
   },
   "outputs": [
    {
     "data": {
      "image/png": "[encoded data removed]",
      "text/plain": [
       "<Figure size 720x216 with 1 Axes>"
      ]
     },
     "metadata": {
      "needs_background": "light"
     },
     "output_type": "display_data"
    }
   ],
   "source": [
    "fig, ax = plt.subplots(figsize=(10, 3))\n",
    "plt.plot(df_shifted2.index[:len_train], y_train, label='training_set')\n",
    "plt.plot(df_shifted2.index[len_train:len_valid],y_val, label='validation_set')\n",
    "plt.title('Training and validation set')\n",
    "plt.xlabel('Date')\n",
    "plt.ylabel('Scaled USD Price')\n",
    "ax.legend()\n",
    "plt.tight_layout()\n",
    "plt.show()"
   ]
  },
  {
   "cell_type": "markdown",
   "metadata": {},
   "source": [
    "# LSTM Model"
   ]
  },
  {
   "cell_type": "code",
   "execution_count": 27,
   "metadata": {},
   "outputs": [],
   "source": [
    "#importing the functions needed from keras \n",
    "from keras.models import Sequential, Model, load_model\n",
    "from keras.optimizers import Adam\n",
    "from keras import layers\n",
    "from keras.metrics import RootMeanSquaredError\n",
    "from keras.callbacks import ModelCheckpoint"
   ]
  },
  {
   "cell_type": "code",
   "execution_count": null,
   "metadata": {},
   "outputs": [],
   "source": []
  },
  {
   "cell_type": "markdown",
   "metadata": {},
   "source": [
    "## Model for predicting the price for the next day"
   ]
  },
  {
   "cell_type": "code",
   "execution_count": 50,
   "metadata": {
    "scrolled": true
   },
   "outputs": [
    {
     "name": "stdout",
     "output_type": "stream",
     "text": [
      "Model: \"sequential_5\"\n",
      "_________________________________________________________________\n",
      "Layer (type)                 Output Shape              Param #   \n",
      "=================================================================\n",
      "lstm_10 (LSTM)               (None, None, 32)          4352      \n",
      "_________________________________________________________________\n",
      "lstm_11 (LSTM)               (None, 16)                3136      \n",
      "_________________________________________________________________\n",
      "dense_5 (Dense)              (None, 1)                 17        \n",
      "=================================================================\n",
      "Total params: 7,505\n",
      "Trainable params: 7,505\n",
      "Non-trainable params: 0\n",
      "_________________________________________________________________\n",
      "None\n"
     ]
    }
   ],
   "source": [
    "model = Sequential()\n",
    "model.add(layers.InputLayer(input_shape=(None,1)))\n",
    "model.add(layers.LSTM(32, return_sequences=True, dropout=0.15)) #30\n",
    "model.add(layers.LSTM(16, return_sequences=False, dropout=0.5)) #20\n",
    "model.add(keras.layers.Dense(1))\n",
    "\n",
    "print(model.summary())"
   ]
  },
  {
   "cell_type": "markdown",
   "metadata": {},
   "source": [
    "The model is going to be trained using the following parameters:\n",
    "- Optimizer: Adam\n",
    "- Learning rate: 0.01\n",
    "- Loss Function: MSE\n",
    "- Metrics for validation: RMSE\n",
    "- epochs: 50"
   ]
  },
  {
   "cell_type": "code",
   "execution_count": 51,
   "metadata": {
    "scrolled": false
   },
   "outputs": [
    {
     "name": "stdout",
     "output_type": "stream",
     "text": [
      "Epoch 1/50\n",
      "36/41 [=========================>....] - ETA: 0s - loss: 0.0066 - root_mean_squared_error: 0.0811\n",
      "Epoch 00001: val_loss improved from inf to 0.02809, saving model to best_model.hdf5\n",
      "41/41 [==============================] - 1s 20ms/step - loss: 0.0061 - root_mean_squared_error: 0.0779 - val_loss: 0.0281 - val_root_mean_squared_error: 0.1676\n",
      "Epoch 2/50\n",
      "34/41 [=======================>......] - ETA: 0s - loss: 0.0020 - root_mean_squared_error: 0.0449\n",
      "Epoch 00002: val_loss improved from 0.02809 to 0.01111, saving model to best_model.hdf5\n",
      "41/41 [==============================] - 0s 6ms/step - loss: 0.0020 - root_mean_squared_error: 0.0446 - val_loss: 0.0111 - val_root_mean_squared_error: 0.1054\n",
      "Epoch 3/50\n",
      "38/41 [==========================>...] - ETA: 0s - loss: 0.0016 - root_mean_squared_error: 0.0406\n",
      "Epoch 00003: val_loss did not improve from 0.01111\n",
      "41/41 [==============================] - 0s 6ms/step - loss: 0.0016 - root_mean_squared_error: 0.0400 - val_loss: 0.0165 - val_root_mean_squared_error: 0.1284\n",
      "Epoch 4/50\n",
      "32/41 [======================>.......] - ETA: 0s - loss: 0.0016 - root_mean_squared_error: 0.0404\n",
      "Epoch 00004: val_loss did not improve from 0.01111\n",
      "41/41 [==============================] - 0s 6ms/step - loss: 0.0017 - root_mean_squared_error: 0.0414 - val_loss: 0.0280 - val_root_mean_squared_error: 0.1672\n",
      "Epoch 5/50\n",
      "33/41 [=======================>......] - ETA: 0s - loss: 0.0015 - root_mean_squared_error: 0.0391\n",
      "Epoch 00005: val_loss did not improve from 0.01111\n",
      "41/41 [==============================] - 0s 6ms/step - loss: 0.0016 - root_mean_squared_error: 0.0397 - val_loss: 0.0159 - val_root_mean_squared_error: 0.1261\n",
      "Epoch 6/50\n",
      "41/41 [==============================] - ETA: 0s - loss: 0.0014 - root_mean_squared_error: 0.0368\n",
      "Epoch 00006: val_loss did not improve from 0.01111\n",
      "41/41 [==============================] - 0s 6ms/step - loss: 0.0014 - root_mean_squared_error: 0.0368 - val_loss: 0.0163 - val_root_mean_squared_error: 0.1277\n",
      "Epoch 7/50\n",
      "33/41 [=======================>......] - ETA: 0s - loss: 0.0016 - root_mean_squared_error: 0.0396\n",
      "Epoch 00007: val_loss did not improve from 0.01111\n",
      "41/41 [==============================] - 0s 5ms/step - loss: 0.0016 - root_mean_squared_error: 0.0403 - val_loss: 0.0177 - val_root_mean_squared_error: 0.1330\n",
      "Epoch 8/50\n",
      "34/41 [=======================>......] - ETA: 0s - loss: 0.0019 - root_mean_squared_error: 0.0436  \n",
      "Epoch 00008: val_loss did not improve from 0.01111\n",
      "41/41 [==============================] - 0s 5ms/step - loss: 0.0018 - root_mean_squared_error: 0.0427 - val_loss: 0.0184 - val_root_mean_squared_error: 0.1358\n",
      "Epoch 9/50\n",
      "32/41 [======================>.......] - ETA: 0s - loss: 0.0012 - root_mean_squared_error: 0.0342\n",
      "Epoch 00009: val_loss did not improve from 0.01111\n",
      "41/41 [==============================] - 0s 5ms/step - loss: 0.0013 - root_mean_squared_error: 0.0358 - val_loss: 0.0166 - val_root_mean_squared_error: 0.1288\n",
      "Epoch 10/50\n",
      "33/41 [=======================>......] - ETA: 0s - loss: 0.0016 - root_mean_squared_error: 0.0396\n",
      "Epoch 00010: val_loss did not improve from 0.01111\n",
      "41/41 [==============================] - 0s 5ms/step - loss: 0.0016 - root_mean_squared_error: 0.0394 - val_loss: 0.0135 - val_root_mean_squared_error: 0.1162\n",
      "Epoch 11/50\n",
      "34/41 [=======================>......] - ETA: 0s - loss: 0.0015 - root_mean_squared_error: 0.0382  \n",
      "Epoch 00011: val_loss did not improve from 0.01111\n",
      "41/41 [==============================] - 0s 5ms/step - loss: 0.0015 - root_mean_squared_error: 0.0383 - val_loss: 0.0130 - val_root_mean_squared_error: 0.1140\n",
      "Epoch 12/50\n",
      "33/41 [=======================>......] - ETA: 0s - loss: 0.0015 - root_mean_squared_error: 0.0388\n",
      "Epoch 00012: val_loss did not improve from 0.01111\n",
      "41/41 [==============================] - 0s 5ms/step - loss: 0.0014 - root_mean_squared_error: 0.0380 - val_loss: 0.0189 - val_root_mean_squared_error: 0.1376\n",
      "Epoch 13/50\n",
      "34/41 [=======================>......] - ETA: 0s - loss: 0.0011 - root_mean_squared_error: 0.0335\n",
      "Epoch 00013: val_loss did not improve from 0.01111\n",
      "41/41 [==============================] - 0s 5ms/step - loss: 0.0010 - root_mean_squared_error: 0.0323 - val_loss: 0.0253 - val_root_mean_squared_error: 0.1590\n",
      "Epoch 14/50\n",
      "41/41 [==============================] - ETA: 0s - loss: 8.5414e-04 - root_mean_squared_error: 0.0292\n",
      "Epoch 00014: val_loss did not improve from 0.01111\n",
      "41/41 [==============================] - 0s 6ms/step - loss: 8.5414e-04 - root_mean_squared_error: 0.0292 - val_loss: 0.0213 - val_root_mean_squared_error: 0.1460\n",
      "Epoch 15/50\n",
      "41/41 [==============================] - ETA: 0s - loss: 9.8490e-04 - root_mean_squared_error: 0.0314\n",
      "Epoch 00015: val_loss improved from 0.01111 to 0.00850, saving model to best_model.hdf5\n",
      "41/41 [==============================] - 0s 6ms/step - loss: 9.8490e-04 - root_mean_squared_error: 0.0314 - val_loss: 0.0085 - val_root_mean_squared_error: 0.0922\n",
      "Epoch 16/50\n",
      "34/41 [=======================>......] - ETA: 0s - loss: 9.3751e-04 - root_mean_squared_error: 0.0306\n",
      "Epoch 00016: val_loss did not improve from 0.00850\n",
      "41/41 [==============================] - 0s 5ms/step - loss: 9.9473e-04 - root_mean_squared_error: 0.0315 - val_loss: 0.0209 - val_root_mean_squared_error: 0.1445\n",
      "Epoch 17/50\n",
      "34/41 [=======================>......] - ETA: 0s - loss: 6.9834e-04 - root_mean_squared_error: 0.0264\n",
      "Epoch 00017: val_loss did not improve from 0.00850\n",
      "41/41 [==============================] - 0s 5ms/step - loss: 6.6764e-04 - root_mean_squared_error: 0.0258 - val_loss: 0.0237 - val_root_mean_squared_error: 0.1540\n",
      "Epoch 18/50\n",
      "31/41 [=====================>........] - ETA: 0s - loss: 5.4752e-04 - root_mean_squared_error: 0.0234\n",
      "Epoch 00018: val_loss did not improve from 0.00850\n",
      "41/41 [==============================] - 0s 5ms/step - loss: 6.0038e-04 - root_mean_squared_error: 0.0245 - val_loss: 0.0283 - val_root_mean_squared_error: 0.1684\n",
      "Epoch 19/50\n",
      "33/41 [=======================>......] - ETA: 0s - loss: 7.2428e-04 - root_mean_squared_error: 0.0269\n",
      "Epoch 00019: val_loss did not improve from 0.00850\n",
      "41/41 [==============================] - 0s 5ms/step - loss: 6.6212e-04 - root_mean_squared_error: 0.0257 - val_loss: 0.0158 - val_root_mean_squared_error: 0.1257\n",
      "Epoch 20/50\n",
      "33/41 [=======================>......] - ETA: 0s - loss: 6.0786e-04 - root_mean_squared_error: 0.0247\n",
      "Epoch 00020: val_loss did not improve from 0.00850\n",
      "41/41 [==============================] - 0s 5ms/step - loss: 6.0954e-04 - root_mean_squared_error: 0.0247 - val_loss: 0.0104 - val_root_mean_squared_error: 0.1022\n",
      "Epoch 21/50\n",
      "32/41 [======================>.......] - ETA: 0s - loss: 5.1638e-04 - root_mean_squared_error: 0.0227\n",
      "Epoch 00021: val_loss did not improve from 0.00850\n",
      "41/41 [==============================] - 0s 6ms/step - loss: 5.1460e-04 - root_mean_squared_error: 0.0227 - val_loss: 0.0291 - val_root_mean_squared_error: 0.1706\n",
      "Epoch 22/50\n",
      "37/41 [==========================>...] - ETA: 0s - loss: 5.8928e-04 - root_mean_squared_error: 0.0243\n",
      "Epoch 00022: val_loss did not improve from 0.00850\n",
      "41/41 [==============================] - 0s 6ms/step - loss: 5.7719e-04 - root_mean_squared_error: 0.0240 - val_loss: 0.0191 - val_root_mean_squared_error: 0.1384\n",
      "Epoch 23/50\n",
      "32/41 [======================>.......] - ETA: 0s - loss: 4.5443e-04 - root_mean_squared_error: 0.0213\n",
      "Epoch 00023: val_loss did not improve from 0.00850\n",
      "41/41 [==============================] - 0s 6ms/step - loss: 5.5688e-04 - root_mean_squared_error: 0.0236 - val_loss: 0.0206 - val_root_mean_squared_error: 0.1434\n",
      "Epoch 24/50\n",
      "39/41 [===========================>..] - ETA: 0s - loss: 4.5198e-04 - root_mean_squared_error: 0.0213\n",
      "Epoch 00024: val_loss did not improve from 0.00850\n",
      "41/41 [==============================] - 0s 6ms/step - loss: 4.5500e-04 - root_mean_squared_error: 0.0213 - val_loss: 0.0236 - val_root_mean_squared_error: 0.1535\n",
      "Epoch 25/50\n",
      "32/41 [======================>.......] - ETA: 0s - loss: 4.5730e-04 - root_mean_squared_error: 0.0214\n",
      "Epoch 00025: val_loss did not improve from 0.00850\n",
      "41/41 [==============================] - 0s 6ms/step - loss: 4.4322e-04 - root_mean_squared_error: 0.0211 - val_loss: 0.0166 - val_root_mean_squared_error: 0.1287\n"
     ]
    },
    {
     "name": "stdout",
     "output_type": "stream",
     "text": [
      "Epoch 26/50\n",
      "31/41 [=====================>........] - ETA: 0s - loss: 5.2717e-04 - root_mean_squared_error: 0.0230\n",
      "Epoch 00026: val_loss improved from 0.00850 to 0.00645, saving model to best_model.hdf5\n",
      "41/41 [==============================] - 0s 6ms/step - loss: 5.6521e-04 - root_mean_squared_error: 0.0238 - val_loss: 0.0065 - val_root_mean_squared_error: 0.0803\n",
      "Epoch 27/50\n",
      "41/41 [==============================] - ETA: 0s - loss: 5.6536e-04 - root_mean_squared_error: 0.0238\n",
      "Epoch 00027: val_loss did not improve from 0.00645\n",
      "41/41 [==============================] - 0s 6ms/step - loss: 5.6536e-04 - root_mean_squared_error: 0.0238 - val_loss: 0.0258 - val_root_mean_squared_error: 0.1607\n",
      "Epoch 28/50\n",
      "32/41 [======================>.......] - ETA: 0s - loss: 5.9837e-04 - root_mean_squared_error: 0.0245\n",
      "Epoch 00028: val_loss did not improve from 0.00645\n",
      "41/41 [==============================] - 0s 5ms/step - loss: 6.0136e-04 - root_mean_squared_error: 0.0245 - val_loss: 0.0089 - val_root_mean_squared_error: 0.0943\n",
      "Epoch 29/50\n",
      "33/41 [=======================>......] - ETA: 0s - loss: 5.2016e-04 - root_mean_squared_error: 0.0228\n",
      "Epoch 00029: val_loss improved from 0.00645 to 0.00565, saving model to best_model.hdf5\n",
      "41/41 [==============================] - 0s 6ms/step - loss: 5.4604e-04 - root_mean_squared_error: 0.0234 - val_loss: 0.0056 - val_root_mean_squared_error: 0.0751\n",
      "Epoch 30/50\n",
      "41/41 [==============================] - ETA: 0s - loss: 5.5310e-04 - root_mean_squared_error: 0.0235\n",
      "Epoch 00030: val_loss did not improve from 0.00565\n",
      "41/41 [==============================] - 0s 6ms/step - loss: 5.5310e-04 - root_mean_squared_error: 0.0235 - val_loss: 0.0254 - val_root_mean_squared_error: 0.1595\n",
      "Epoch 31/50\n",
      "35/41 [========================>.....] - ETA: 0s - loss: 4.8346e-04 - root_mean_squared_error: 0.0220\n",
      "Epoch 00031: val_loss did not improve from 0.00565\n",
      "41/41 [==============================] - 0s 7ms/step - loss: 4.9827e-04 - root_mean_squared_error: 0.0223 - val_loss: 0.0129 - val_root_mean_squared_error: 0.1138\n",
      "Epoch 32/50\n",
      "41/41 [==============================] - ETA: 0s - loss: 5.1860e-04 - root_mean_squared_error: 0.0228\n",
      "Epoch 00032: val_loss did not improve from 0.00565\n",
      "41/41 [==============================] - 0s 6ms/step - loss: 5.1860e-04 - root_mean_squared_error: 0.0228 - val_loss: 0.0133 - val_root_mean_squared_error: 0.1152\n",
      "Epoch 33/50\n",
      "40/41 [============================>.] - ETA: 0s - loss: 4.9440e-04 - root_mean_squared_error: 0.0222\n",
      "Epoch 00033: val_loss did not improve from 0.00565\n",
      "41/41 [==============================] - 0s 6ms/step - loss: 4.9364e-04 - root_mean_squared_error: 0.0222 - val_loss: 0.0072 - val_root_mean_squared_error: 0.0847\n",
      "Epoch 34/50\n",
      "34/41 [=======================>......] - ETA: 0s - loss: 6.7472e-04 - root_mean_squared_error: 0.0260\n",
      "Epoch 00034: val_loss did not improve from 0.00565\n",
      "41/41 [==============================] - 0s 7ms/step - loss: 6.2305e-04 - root_mean_squared_error: 0.0250 - val_loss: 0.0061 - val_root_mean_squared_error: 0.0783\n",
      "Epoch 35/50\n",
      "36/41 [=========================>....] - ETA: 0s - loss: 4.8823e-04 - root_mean_squared_error: 0.0221\n",
      "Epoch 00035: val_loss did not improve from 0.00565\n",
      "41/41 [==============================] - 0s 9ms/step - loss: 5.0072e-04 - root_mean_squared_error: 0.0224 - val_loss: 0.0153 - val_root_mean_squared_error: 0.1237\n",
      "Epoch 36/50\n",
      "36/41 [=========================>....] - ETA: 0s - loss: 5.1334e-04 - root_mean_squared_error: 0.0227\n",
      "Epoch 00036: val_loss did not improve from 0.00565\n",
      "41/41 [==============================] - 0s 8ms/step - loss: 4.8987e-04 - root_mean_squared_error: 0.0221 - val_loss: 0.0158 - val_root_mean_squared_error: 0.1258\n",
      "Epoch 37/50\n",
      "37/41 [==========================>...] - ETA: 0s - loss: 4.9978e-04 - root_mean_squared_error: 0.0224\n",
      "Epoch 00037: val_loss did not improve from 0.00565\n",
      "41/41 [==============================] - 0s 8ms/step - loss: 4.8305e-04 - root_mean_squared_error: 0.0220 - val_loss: 0.0079 - val_root_mean_squared_error: 0.0887\n",
      "Epoch 38/50\n",
      "36/41 [=========================>....] - ETA: 0s - loss: 4.7596e-04 - root_mean_squared_error: 0.0218\n",
      "Epoch 00038: val_loss did not improve from 0.00565\n",
      "41/41 [==============================] - 0s 8ms/step - loss: 4.7419e-04 - root_mean_squared_error: 0.0218 - val_loss: 0.0106 - val_root_mean_squared_error: 0.1031\n",
      "Epoch 39/50\n",
      "36/41 [=========================>....] - ETA: 0s - loss: 4.6782e-04 - root_mean_squared_error: 0.0216\n",
      "Epoch 00039: val_loss did not improve from 0.00565\n",
      "41/41 [==============================] - 0s 8ms/step - loss: 5.0445e-04 - root_mean_squared_error: 0.0225 - val_loss: 0.0270 - val_root_mean_squared_error: 0.1642\n",
      "Epoch 40/50\n",
      "38/41 [==========================>...] - ETA: 0s - loss: 5.7662e-04 - root_mean_squared_error: 0.0240\n",
      "Epoch 00040: val_loss did not improve from 0.00565\n",
      "41/41 [==============================] - 0s 8ms/step - loss: 5.6875e-04 - root_mean_squared_error: 0.0238 - val_loss: 0.0176 - val_root_mean_squared_error: 0.1325\n",
      "Epoch 41/50\n",
      "35/41 [========================>.....] - ETA: 0s - loss: 4.6425e-04 - root_mean_squared_error: 0.0215\n",
      "Epoch 00041: val_loss did not improve from 0.00565\n",
      "41/41 [==============================] - 0s 8ms/step - loss: 4.7668e-04 - root_mean_squared_error: 0.0218 - val_loss: 0.0085 - val_root_mean_squared_error: 0.0924\n",
      "Epoch 42/50\n",
      "41/41 [==============================] - ETA: 0s - loss: 4.9829e-04 - root_mean_squared_error: 0.0223- ETA: 0s - loss: 3.8456e-04 - root_mean_squared_error: 0.0\n",
      "Epoch 00042: val_loss did not improve from 0.00565\n",
      "41/41 [==============================] - 0s 9ms/step - loss: 4.9829e-04 - root_mean_squared_error: 0.0223 - val_loss: 0.0140 - val_root_mean_squared_error: 0.1181\n",
      "Epoch 43/50\n",
      "38/41 [==========================>...] - ETA: 0s - loss: 4.7323e-04 - root_mean_squared_error: 0.0218\n",
      "Epoch 00043: val_loss did not improve from 0.00565\n",
      "41/41 [==============================] - 0s 8ms/step - loss: 4.6339e-04 - root_mean_squared_error: 0.0215 - val_loss: 0.0135 - val_root_mean_squared_error: 0.1160\n",
      "Epoch 44/50\n",
      "35/41 [========================>.....] - ETA: 0s - loss: 4.2745e-04 - root_mean_squared_error: 0.0207\n",
      "Epoch 00044: val_loss did not improve from 0.00565\n",
      "41/41 [==============================] - 0s 9ms/step - loss: 3.9836e-04 - root_mean_squared_error: 0.0200 - val_loss: 0.0279 - val_root_mean_squared_error: 0.1670\n",
      "Epoch 45/50\n",
      "36/41 [=========================>....] - ETA: 0s - loss: 3.7563e-04 - root_mean_squared_error: 0.0194\n",
      "Epoch 00045: val_loss did not improve from 0.00565\n",
      "41/41 [==============================] - 0s 9ms/step - loss: 3.7305e-04 - root_mean_squared_error: 0.0193 - val_loss: 0.0199 - val_root_mean_squared_error: 0.1411\n",
      "Epoch 46/50\n",
      "40/41 [============================>.] - ETA: 0s - loss: 5.5600e-04 - root_mean_squared_error: 0.0236\n",
      "Epoch 00046: val_loss did not improve from 0.00565\n",
      "41/41 [==============================] - 0s 8ms/step - loss: 5.5418e-04 - root_mean_squared_error: 0.0235 - val_loss: 0.0223 - val_root_mean_squared_error: 0.1495\n",
      "Epoch 47/50\n",
      "38/41 [==========================>...] - ETA: 0s - loss: 4.6526e-04 - root_mean_squared_error: 0.0216\n",
      "Epoch 00047: val_loss did not improve from 0.00565\n",
      "41/41 [==============================] - 0s 8ms/step - loss: 4.7282e-04 - root_mean_squared_error: 0.0217 - val_loss: 0.0151 - val_root_mean_squared_error: 0.1229\n",
      "Epoch 48/50\n",
      "39/41 [===========================>..] - ETA: 0s - loss: 3.8357e-04 - root_mean_squared_error: 0.0196\n",
      "Epoch 00048: val_loss did not improve from 0.00565\n",
      "41/41 [==============================] - 0s 8ms/step - loss: 3.8437e-04 - root_mean_squared_error: 0.0196 - val_loss: 0.0166 - val_root_mean_squared_error: 0.1287\n",
      "Epoch 49/50\n",
      "39/41 [===========================>..] - ETA: 0s - loss: 4.5262e-04 - root_mean_squared_error: 0.0213\n",
      "Epoch 00049: val_loss did not improve from 0.00565\n",
      "41/41 [==============================] - 0s 8ms/step - loss: 4.5578e-04 - root_mean_squared_error: 0.0213 - val_loss: 0.0189 - val_root_mean_squared_error: 0.1374\n",
      "Epoch 50/50\n",
      "35/41 [========================>.....] - ETA: 0s - loss: 3.4001e-04 - root_mean_squared_error: 0.0184\n",
      "Epoch 00050: val_loss did not improve from 0.00565\n",
      "41/41 [==============================] - 0s 9ms/step - loss: 3.8115e-04 - root_mean_squared_error: 0.0195 - val_loss: 0.0122 - val_root_mean_squared_error: 0.1106\n"
     ]
    }
   ],
   "source": [
    "filepath = 'best_model.hdf5'\n",
    "checkpoint = ModelCheckpoint(filepath=filepath, \n",
    "                             monitor='val_loss',\n",
    "                             verbose=1, \n",
    "                             save_best_only=True,\n",
    "                             mode='min')\n",
    "##################################################\n",
    "model.compile(loss='mse', optimizer=Adam(learning_rate=0.01),metrics=[RootMeanSquaredError()])\n",
    "\n",
    "history = model.fit(X_train, y_train, validation_data=(X_val, y_val), callbacks = [checkpoint],epochs=50)"
   ]
  },
  {
   "cell_type": "markdown",
   "metadata": {},
   "source": [
    "In the following plot we can see how the training and validation loss changed during the training."
   ]
  },
  {
   "cell_type": "code",
   "execution_count": 52,
   "metadata": {
    "scrolled": true
   },
   "outputs": [
    {
     "data": {
      "image/png": "[encoded data removed]",
      "text/plain": [
       "<Figure size 432x288 with 1 Axes>"
      ]
     },
     "metadata": {
      "needs_background": "light"
     },
     "output_type": "display_data"
    },
    {
     "data": {
      "text/plain": [
       "<Figure size 432x288 with 0 Axes>"
      ]
     },
     "metadata": {},
     "output_type": "display_data"
    }
   ],
   "source": [
    "loss = history.history['loss']\n",
    "val_loss = history.history['val_loss']\n",
    "epochs = range(len(loss))\n",
    "plt.plot(epochs, loss, label='Training loss')\n",
    "plt.plot(epochs, val_loss, label='Validation loss')\n",
    "plt.title('Training and validation loss')\n",
    "plt.legend(loc='best')\n",
    "plt.figure()\n",
    "plt.show()"
   ]
  },
  {
   "cell_type": "markdown",
   "metadata": {},
   "source": [
    "## Predictions for the next day in the test set"
   ]
  },
  {
   "cell_type": "code",
   "execution_count": 53,
   "metadata": {
    "scrolled": true
   },
   "outputs": [
    {
     "name": "stdout",
     "output_type": "stream",
     "text": [
      "Test Predictions shape: (164, 8)\n"
     ]
    },
    {
     "data": {
      "image/png": "[encoded data removed]",
      "text/plain": [
       "<Figure size 504x216 with 1 Axes>"
      ]
     },
     "metadata": {
      "needs_background": "light"
     },
     "output_type": "display_data"
    }
   ],
   "source": [
    "test_predictions = model.predict(X_test)\n",
    "\n",
    "test_predictions = np.repeat(test_predictions, (time_steps+1), axis = 1) #to have a matrix of the same size of scaler\n",
    "                                                                                #and then get the first column that is the target \n",
    "\n",
    "print(f'Test Predictions shape: {test_predictions.shape}')\n",
    "test_predictions_scaledback =scaler.inverse_transform(test_predictions)[:,0]\n",
    "\n",
    "\n",
    "fig, ax = plt.subplots(figsize=(7, 3))\n",
    "plt.plot(df_shifted2[len_valid:].index,test_predictions_scaledback, label='predictions')\n",
    "#plt.plot(y_test, label= 'test set')\n",
    "plt.plot(df_shifted2[len_valid:].index,test_set[:,0], label= 'test set')\n",
    "ax.legend()\n",
    "plt.xlabel('Date')\n",
    "plt.ylabel('USD')\n",
    "plt.title('Predictions')\n",
    "plt.tight_layout()\n",
    "plt.show()"
   ]
  },
  {
   "cell_type": "markdown",
   "metadata": {},
   "source": [
    "In the above plot we can see that the predictions are similar to the prices of the test set. If we want to predict the price of **tomorrow**, we need to consider the ETH price of today plus the last 6 prices:"
   ]
  },
  {
   "cell_type": "code",
   "execution_count": 54,
   "metadata": {
    "scrolled": true
   },
   "outputs": [
    {
     "name": "stdout",
     "output_type": "stream",
     "text": [
      "ETH Closing Prediction for tomorrow(2022-06-27) : $1136 USD\n"
     ]
    }
   ],
   "source": [
    "#predictions for tomorrow\n",
    "today_price = y_test[-1]\n",
    "X_today = np.append(today_price,X_test[-1,:-1]).reshape(1,X_test.shape[1],1)\n",
    "tomorrow_prediction = model.predict(X_today)\n",
    "\n",
    "tomorrow_predictions = np.repeat(tomorrow_prediction, (time_steps+1), axis = 1) \n",
    "tomorrow_predictions_scaledback =scaler.inverse_transform(tomorrow_predictions)[:,0]\n",
    "\n",
    "print(f'ETH Closing Prediction for tomorrow({date.today() + timedelta(1)}) : ${math.floor(tomorrow_predictions_scaledback[0])} USD')\n",
    "#prediction 06-25: 1061 USD\n",
    "#prediction 06-26: 1133 USD"
   ]
  },
  {
   "cell_type": "markdown",
   "metadata": {},
   "source": [
    "## Model for predicting the next 10 days\n",
    "The previous model is only for forecasting the price of the following day. Now we are going to build a model for forecasting the **following 10 days**."
   ]
  },
  {
   "cell_type": "markdown",
   "metadata": {},
   "source": [
    "First the dataset must be adjusted for predicting 10 days for each input"
   ]
  },
  {
   "cell_type": "code",
   "execution_count": 33,
   "metadata": {},
   "outputs": [],
   "source": [
    "def adjust_datasets(X, y, days_prediction=10):\n",
    "    new_y = []\n",
    "    for index in range(len(y)-days_prediction): #+1\n",
    "        new_y.append(y[index:days_prediction+index])\n",
    "    new_y = np.array(new_y)\n",
    "    new_y = new_y.reshape(new_y.shape[0],days_prediction,1) #tensor\n",
    "    X = X[:new_y.shape[0]]\n",
    "    return X,new_y"
   ]
  },
  {
   "cell_type": "code",
   "execution_count": 34,
   "metadata": {
    "scrolled": true
   },
   "outputs": [
    {
     "data": {
      "text/plain": [
       "((1294, 7, 1),\n",
       " (153, 7, 1),\n",
       " (154, 7, 1),\n",
       " (1294, 10, 1),\n",
       " (153, 10, 1),\n",
       " (154, 10, 1))"
      ]
     },
     "execution_count": 34,
     "metadata": {},
     "output_type": "execute_result"
    }
   ],
   "source": [
    "days_prediction = 10\n",
    "\n",
    "X_train_forecast,y_train_forecast = adjust_datasets(X_train, y_train, days_prediction=days_prediction)\n",
    "X_val_forecast,y_val_forecast = adjust_datasets(X_val, y_val, days_prediction=days_prediction)\n",
    "X_test_forecast,y_test_forecast = adjust_datasets(X_test, y_test, days_prediction=days_prediction)\n",
    "\n",
    "#checking the shapes. must have tensor shape\n",
    "X_train_forecast.shape, X_val_forecast.shape, X_test_forecast.shape,\\\n",
    "y_train_forecast.shape, y_val_forecast.shape, y_test_forecast.shape"
   ]
  },
  {
   "cell_type": "markdown",
   "metadata": {},
   "source": [
    "## LSTM Model 2"
   ]
  },
  {
   "cell_type": "code",
   "execution_count": 44,
   "metadata": {
    "scrolled": true
   },
   "outputs": [
    {
     "name": "stdout",
     "output_type": "stream",
     "text": [
      "Model: \"sequential_4\"\n",
      "_________________________________________________________________\n",
      "Layer (type)                 Output Shape              Param #   \n",
      "=================================================================\n",
      "lstm_8 (LSTM)                (None, None, 32)          4352      \n",
      "_________________________________________________________________\n",
      "lstm_9 (LSTM)                (None, 16)                3136      \n",
      "_________________________________________________________________\n",
      "dense_4 (Dense)              (None, 10)                170       \n",
      "=================================================================\n",
      "Total params: 7,658\n",
      "Trainable params: 7,658\n",
      "Non-trainable params: 0\n",
      "_________________________________________________________________\n",
      "None\n"
     ]
    }
   ],
   "source": [
    "model_2 = Sequential()\n",
    "model_2.add(layers.InputLayer(input_shape=(None,1)))\n",
    "model_2.add(layers.LSTM(32, return_sequences=True, dropout=0.15)) #30\n",
    "model_2.add(layers.LSTM(16, return_sequences=False, dropout=0.5)) #20\n",
    "model_2.add(keras.layers.Dense(days_prediction)) #output of the NN must be the number of days to predict\n",
    "\n",
    "print(model_2.summary())"
   ]
  },
  {
   "cell_type": "code",
   "execution_count": 45,
   "metadata": {
    "scrolled": true
   },
   "outputs": [
    {
     "name": "stdout",
     "output_type": "stream",
     "text": [
      "Epoch 1/50\n",
      "34/41 [=======================>......] - ETA: 0s - loss: 0.0104 - root_mean_squared_error: 0.1019\n",
      "Epoch 00001: val_loss improved from inf to 0.09360, saving model to best_model_10.hdf5\n",
      "41/41 [==============================] - 1s 19ms/step - loss: 0.0093 - root_mean_squared_error: 0.0966 - val_loss: 0.0936 - val_root_mean_squared_error: 0.3059\n",
      "Epoch 2/50\n",
      "35/41 [========================>.....] - ETA: 0s - loss: 0.0026 - root_mean_squared_error: 0.0512\n",
      "Epoch 00002: val_loss improved from 0.09360 to 0.02993, saving model to best_model_10.hdf5\n",
      "41/41 [==============================] - 0s 6ms/step - loss: 0.0027 - root_mean_squared_error: 0.0515 - val_loss: 0.0299 - val_root_mean_squared_error: 0.1730\n",
      "Epoch 3/50\n",
      "39/41 [===========================>..] - ETA: 0s - loss: 0.0026 - root_mean_squared_error: 0.0506\n",
      "Epoch 00003: val_loss did not improve from 0.02993\n",
      "41/41 [==============================] - 0s 5ms/step - loss: 0.0025 - root_mean_squared_error: 0.0499 - val_loss: 0.0482 - val_root_mean_squared_error: 0.2195\n",
      "Epoch 4/50\n",
      "38/41 [==========================>...] - ETA: 0s - loss: 0.0020 - root_mean_squared_error: 0.0443\n",
      "Epoch 00004: val_loss improved from 0.02993 to 0.02338, saving model to best_model_10.hdf5\n",
      "41/41 [==============================] - 0s 5ms/step - loss: 0.0019 - root_mean_squared_error: 0.0440 - val_loss: 0.0234 - val_root_mean_squared_error: 0.1529\n",
      "Epoch 5/50\n",
      "38/41 [==========================>...] - ETA: 0s - loss: 0.0021 - root_mean_squared_error: 0.0456\n",
      "Epoch 00005: val_loss did not improve from 0.02338\n",
      "41/41 [==============================] - 0s 5ms/step - loss: 0.0021 - root_mean_squared_error: 0.0462 - val_loss: 0.0479 - val_root_mean_squared_error: 0.2188\n",
      "Epoch 6/50\n",
      "37/41 [==========================>...] - ETA: 0s - loss: 0.0021 - root_mean_squared_error: 0.0454\n",
      "Epoch 00006: val_loss did not improve from 0.02338\n",
      "41/41 [==============================] - 0s 5ms/step - loss: 0.0021 - root_mean_squared_error: 0.0454 - val_loss: 0.0512 - val_root_mean_squared_error: 0.2263\n",
      "Epoch 7/50\n",
      "40/41 [============================>.] - ETA: 0s - loss: 0.0019 - root_mean_squared_error: 0.0441  \n",
      "Epoch 00007: val_loss did not improve from 0.02338\n",
      "41/41 [==============================] - 0s 4ms/step - loss: 0.0019 - root_mean_squared_error: 0.0439 - val_loss: 0.0488 - val_root_mean_squared_error: 0.2208\n",
      "Epoch 8/50\n",
      "37/41 [==========================>...] - ETA: 0s - loss: 0.0019 - root_mean_squared_error: 0.0430  \n",
      "Epoch 00008: val_loss did not improve from 0.02338\n",
      "41/41 [==============================] - 0s 5ms/step - loss: 0.0019 - root_mean_squared_error: 0.0433 - val_loss: 0.0357 - val_root_mean_squared_error: 0.1891\n",
      "Epoch 9/50\n",
      "37/41 [==========================>...] - ETA: 0s - loss: 0.0020 - root_mean_squared_error: 0.0445\n",
      "Epoch 00009: val_loss did not improve from 0.02338\n",
      "41/41 [==============================] - 0s 5ms/step - loss: 0.0019 - root_mean_squared_error: 0.0440 - val_loss: 0.0344 - val_root_mean_squared_error: 0.1854\n",
      "Epoch 10/50\n",
      "38/41 [==========================>...] - ETA: 0s - loss: 0.0019 - root_mean_squared_error: 0.0436\n",
      "Epoch 00010: val_loss did not improve from 0.02338\n",
      "41/41 [==============================] - 0s 5ms/step - loss: 0.0019 - root_mean_squared_error: 0.0433 - val_loss: 0.0437 - val_root_mean_squared_error: 0.2090\n",
      "Epoch 11/50\n",
      "34/41 [=======================>......] - ETA: 0s - loss: 0.0020 - root_mean_squared_error: 0.0445\n",
      "Epoch 00011: val_loss did not improve from 0.02338\n",
      "41/41 [==============================] - 0s 5ms/step - loss: 0.0019 - root_mean_squared_error: 0.0432 - val_loss: 0.0414 - val_root_mean_squared_error: 0.2035\n",
      "Epoch 12/50\n",
      "37/41 [==========================>...] - ETA: 0s - loss: 0.0015 - root_mean_squared_error: 0.0393\n",
      "Epoch 00012: val_loss did not improve from 0.02338\n",
      "41/41 [==============================] - 0s 5ms/step - loss: 0.0015 - root_mean_squared_error: 0.0388 - val_loss: 0.0279 - val_root_mean_squared_error: 0.1672\n",
      "Epoch 13/50\n",
      "35/41 [========================>.....] - ETA: 0s - loss: 0.0014 - root_mean_squared_error: 0.0377\n",
      "Epoch 00013: val_loss did not improve from 0.02338\n",
      "41/41 [==============================] - 0s 5ms/step - loss: 0.0015 - root_mean_squared_error: 0.0384 - val_loss: 0.0425 - val_root_mean_squared_error: 0.2062\n",
      "Epoch 14/50\n",
      "36/41 [=========================>....] - ETA: 0s - loss: 0.0018 - root_mean_squared_error: 0.0424\n",
      "Epoch 00014: val_loss improved from 0.02338 to 0.02035, saving model to best_model_10.hdf5\n",
      "41/41 [==============================] - 0s 5ms/step - loss: 0.0018 - root_mean_squared_error: 0.0420 - val_loss: 0.0203 - val_root_mean_squared_error: 0.1426\n",
      "Epoch 15/50\n",
      "33/41 [=======================>......] - ETA: 0s - loss: 0.0014 - root_mean_squared_error: 0.0373\n",
      "Epoch 00015: val_loss did not improve from 0.02035\n",
      "41/41 [==============================] - 0s 6ms/step - loss: 0.0015 - root_mean_squared_error: 0.0391 - val_loss: 0.0210 - val_root_mean_squared_error: 0.1450\n",
      "Epoch 16/50\n",
      "34/41 [=======================>......] - ETA: 0s - loss: 0.0013 - root_mean_squared_error: 0.0361\n",
      "Epoch 00016: val_loss did not improve from 0.02035\n",
      "41/41 [==============================] - 0s 5ms/step - loss: 0.0013 - root_mean_squared_error: 0.0365 - val_loss: 0.0651 - val_root_mean_squared_error: 0.2550\n",
      "Epoch 17/50\n",
      "34/41 [=======================>......] - ETA: 0s - loss: 0.0013 - root_mean_squared_error: 0.0367  \n",
      "Epoch 00017: val_loss did not improve from 0.02035\n",
      "41/41 [==============================] - 0s 5ms/step - loss: 0.0013 - root_mean_squared_error: 0.0359 - val_loss: 0.0370 - val_root_mean_squared_error: 0.1924\n",
      "Epoch 18/50\n",
      "39/41 [===========================>..] - ETA: 0s - loss: 0.0012 - root_mean_squared_error: 0.0350  \n",
      "Epoch 00018: val_loss did not improve from 0.02035\n",
      "41/41 [==============================] - 0s 5ms/step - loss: 0.0013 - root_mean_squared_error: 0.0359 - val_loss: 0.0221 - val_root_mean_squared_error: 0.1487\n",
      "Epoch 19/50\n",
      "34/41 [=======================>......] - ETA: 0s - loss: 0.0011 - root_mean_squared_error: 0.0336\n",
      "Epoch 00019: val_loss did not improve from 0.02035\n",
      "41/41 [==============================] - 0s 5ms/step - loss: 0.0013 - root_mean_squared_error: 0.0359 - val_loss: 0.0394 - val_root_mean_squared_error: 0.1986\n",
      "Epoch 20/50\n",
      "37/41 [==========================>...] - ETA: 0s - loss: 0.0013 - root_mean_squared_error: 0.0361\n",
      "Epoch 00020: val_loss did not improve from 0.02035\n",
      "41/41 [==============================] - 0s 5ms/step - loss: 0.0013 - root_mean_squared_error: 0.0359 - val_loss: 0.0502 - val_root_mean_squared_error: 0.2241\n",
      "Epoch 21/50\n",
      "34/41 [=======================>......] - ETA: 0s - loss: 0.0014 - root_mean_squared_error: 0.0374  \n",
      "Epoch 00021: val_loss did not improve from 0.02035\n",
      "41/41 [==============================] - 0s 5ms/step - loss: 0.0014 - root_mean_squared_error: 0.0380 - val_loss: 0.0333 - val_root_mean_squared_error: 0.1826\n",
      "Epoch 22/50\n",
      "36/41 [=========================>....] - ETA: 0s - loss: 0.0012 - root_mean_squared_error: 0.0353\n",
      "Epoch 00022: val_loss did not improve from 0.02035\n",
      "41/41 [==============================] - 0s 5ms/step - loss: 0.0012 - root_mean_squared_error: 0.0352 - val_loss: 0.0515 - val_root_mean_squared_error: 0.2269\n",
      "Epoch 23/50\n",
      "33/41 [=======================>......] - ETA: 0s - loss: 0.0012 - root_mean_squared_error: 0.0347\n",
      "Epoch 00023: val_loss did not improve from 0.02035\n",
      "41/41 [==============================] - 0s 5ms/step - loss: 0.0013 - root_mean_squared_error: 0.0355 - val_loss: 0.0275 - val_root_mean_squared_error: 0.1659\n",
      "Epoch 24/50\n",
      "35/41 [========================>.....] - ETA: 0s - loss: 0.0013 - root_mean_squared_error: 0.0355  \n",
      "Epoch 00024: val_loss did not improve from 0.02035\n",
      "41/41 [==============================] - 0s 6ms/step - loss: 0.0012 - root_mean_squared_error: 0.0352 - val_loss: 0.0413 - val_root_mean_squared_error: 0.2033\n",
      "Epoch 25/50\n",
      "35/41 [========================>.....] - ETA: 0s - loss: 0.0013 - root_mean_squared_error: 0.0365  \n",
      "Epoch 00025: val_loss did not improve from 0.02035\n",
      "41/41 [==============================] - 0s 5ms/step - loss: 0.0014 - root_mean_squared_error: 0.0368 - val_loss: 0.0303 - val_root_mean_squared_error: 0.1741\n",
      "Epoch 26/50\n"
     ]
    },
    {
     "name": "stdout",
     "output_type": "stream",
     "text": [
      "38/41 [==========================>...] - ETA: 0s - loss: 0.0011 - root_mean_squared_error: 0.0335  \n",
      "Epoch 00026: val_loss did not improve from 0.02035\n",
      "41/41 [==============================] - 0s 5ms/step - loss: 0.0011 - root_mean_squared_error: 0.0332 - val_loss: 0.0450 - val_root_mean_squared_error: 0.2121\n",
      "Epoch 27/50\n",
      "39/41 [===========================>..] - ETA: 0s - loss: 0.0012 - root_mean_squared_error: 0.0350  \n",
      "Epoch 00027: val_loss did not improve from 0.02035\n",
      "41/41 [==============================] - 0s 5ms/step - loss: 0.0012 - root_mean_squared_error: 0.0349 - val_loss: 0.0354 - val_root_mean_squared_error: 0.1883\n",
      "Epoch 28/50\n",
      "34/41 [=======================>......] - ETA: 0s - loss: 0.0011 - root_mean_squared_error: 0.0329\n",
      "Epoch 00028: val_loss did not improve from 0.02035\n",
      "41/41 [==============================] - 0s 5ms/step - loss: 0.0011 - root_mean_squared_error: 0.0326 - val_loss: 0.0204 - val_root_mean_squared_error: 0.1427\n",
      "Epoch 29/50\n",
      "36/41 [=========================>....] - ETA: 0s - loss: 0.0011 - root_mean_squared_error: 0.0330    \n",
      "Epoch 00029: val_loss did not improve from 0.02035\n",
      "41/41 [==============================] - 0s 5ms/step - loss: 0.0012 - root_mean_squared_error: 0.0339 - val_loss: 0.0300 - val_root_mean_squared_error: 0.1733\n",
      "Epoch 30/50\n",
      "34/41 [=======================>......] - ETA: 0s - loss: 0.0011 - root_mean_squared_error: 0.0327\n",
      "Epoch 00030: val_loss did not improve from 0.02035\n",
      "41/41 [==============================] - 0s 5ms/step - loss: 0.0011 - root_mean_squared_error: 0.0335 - val_loss: 0.0287 - val_root_mean_squared_error: 0.1695\n",
      "Epoch 31/50\n",
      "38/41 [==========================>...] - ETA: 0s - loss: 0.0012 - root_mean_squared_error: 0.0348  \n",
      "Epoch 00031: val_loss did not improve from 0.02035\n",
      "41/41 [==============================] - 0s 5ms/step - loss: 0.0012 - root_mean_squared_error: 0.0342 - val_loss: 0.0243 - val_root_mean_squared_error: 0.1558\n",
      "Epoch 32/50\n",
      "36/41 [=========================>....] - ETA: 0s - loss: 0.0012 - root_mean_squared_error: 0.0352\n",
      "Epoch 00032: val_loss did not improve from 0.02035\n",
      "41/41 [==============================] - 0s 5ms/step - loss: 0.0012 - root_mean_squared_error: 0.0345 - val_loss: 0.0353 - val_root_mean_squared_error: 0.1878\n",
      "Epoch 33/50\n",
      "38/41 [==========================>...] - ETA: 0s - loss: 0.0011 - root_mean_squared_error: 0.0325    \n",
      "Epoch 00033: val_loss did not improve from 0.02035\n",
      "41/41 [==============================] - 0s 5ms/step - loss: 0.0011 - root_mean_squared_error: 0.0331 - val_loss: 0.0354 - val_root_mean_squared_error: 0.1880\n",
      "Epoch 34/50\n",
      "36/41 [=========================>....] - ETA: 0s - loss: 0.0011 - root_mean_squared_error: 0.0325  \n",
      "Epoch 00034: val_loss did not improve from 0.02035\n",
      "41/41 [==============================] - 0s 5ms/step - loss: 0.0011 - root_mean_squared_error: 0.0329 - val_loss: 0.0468 - val_root_mean_squared_error: 0.2163\n",
      "Epoch 35/50\n",
      "34/41 [=======================>......] - ETA: 0s - loss: 0.0012 - root_mean_squared_error: 0.0352  \n",
      "Epoch 00035: val_loss did not improve from 0.02035\n",
      "41/41 [==============================] - 0s 5ms/step - loss: 0.0012 - root_mean_squared_error: 0.0343 - val_loss: 0.0275 - val_root_mean_squared_error: 0.1659\n",
      "Epoch 36/50\n",
      "35/41 [========================>.....] - ETA: 0s - loss: 0.0010 - root_mean_squared_error: 0.0323   \n",
      "Epoch 00036: val_loss did not improve from 0.02035\n",
      "41/41 [==============================] - 0s 5ms/step - loss: 0.0011 - root_mean_squared_error: 0.0324 - val_loss: 0.0314 - val_root_mean_squared_error: 0.1771\n",
      "Epoch 37/50\n",
      "34/41 [=======================>......] - ETA: 0s - loss: 0.0010 - root_mean_squared_error: 0.0321    \n",
      "Epoch 00037: val_loss did not improve from 0.02035\n",
      "41/41 [==============================] - 0s 5ms/step - loss: 0.0011 - root_mean_squared_error: 0.0331 - val_loss: 0.0368 - val_root_mean_squared_error: 0.1917\n",
      "Epoch 38/50\n",
      "37/41 [==========================>...] - ETA: 0s - loss: 0.0011 - root_mean_squared_error: 0.0333    \n",
      "Epoch 00038: val_loss did not improve from 0.02035\n",
      "41/41 [==============================] - 0s 5ms/step - loss: 0.0011 - root_mean_squared_error: 0.0329 - val_loss: 0.0313 - val_root_mean_squared_error: 0.1768\n",
      "Epoch 39/50\n",
      "36/41 [=========================>....] - ETA: 0s - loss: 0.0011 - root_mean_squared_error: 0.0339\n",
      "Epoch 00039: val_loss did not improve from 0.02035\n",
      "41/41 [==============================] - 0s 5ms/step - loss: 0.0011 - root_mean_squared_error: 0.0331 - val_loss: 0.0320 - val_root_mean_squared_error: 0.1788\n",
      "Epoch 40/50\n",
      "36/41 [=========================>....] - ETA: 0s - loss: 0.0012 - root_mean_squared_error: 0.0342  \n",
      "Epoch 00040: val_loss did not improve from 0.02035\n",
      "41/41 [==============================] - 0s 5ms/step - loss: 0.0012 - root_mean_squared_error: 0.0340 - val_loss: 0.0397 - val_root_mean_squared_error: 0.1991\n",
      "Epoch 41/50\n",
      "35/41 [========================>.....] - ETA: 0s - loss: 0.0013 - root_mean_squared_error: 0.0355\n",
      "Epoch 00041: val_loss did not improve from 0.02035\n",
      "41/41 [==============================] - 0s 5ms/step - loss: 0.0012 - root_mean_squared_error: 0.0350 - val_loss: 0.0410 - val_root_mean_squared_error: 0.2025\n",
      "Epoch 42/50\n",
      "35/41 [========================>.....] - ETA: 0s - loss: 0.0012 - root_mean_squared_error: 0.0347\n",
      "Epoch 00042: val_loss did not improve from 0.02035\n",
      "41/41 [==============================] - 0s 5ms/step - loss: 0.0012 - root_mean_squared_error: 0.0352 - val_loss: 0.0327 - val_root_mean_squared_error: 0.1809\n",
      "Epoch 43/50\n",
      "31/41 [=====================>........] - ETA: 0s - loss: 0.0011 - root_mean_squared_error: 0.0334\n",
      "Epoch 00043: val_loss did not improve from 0.02035\n",
      "41/41 [==============================] - 0s 5ms/step - loss: 0.0012 - root_mean_squared_error: 0.0341 - val_loss: 0.0387 - val_root_mean_squared_error: 0.1966\n",
      "Epoch 44/50\n",
      "37/41 [==========================>...] - ETA: 0s - loss: 0.0011 - root_mean_squared_error: 0.0336   \n",
      "Epoch 00044: val_loss did not improve from 0.02035\n",
      "41/41 [==============================] - 0s 6ms/step - loss: 0.0011 - root_mean_squared_error: 0.0334 - val_loss: 0.0319 - val_root_mean_squared_error: 0.1786\n",
      "Epoch 45/50\n",
      "36/41 [=========================>....] - ETA: 0s - loss: 0.0013 - root_mean_squared_error: 0.0355\n",
      "Epoch 00045: val_loss did not improve from 0.02035\n",
      "41/41 [==============================] - 0s 5ms/step - loss: 0.0013 - root_mean_squared_error: 0.0360 - val_loss: 0.0326 - val_root_mean_squared_error: 0.1804\n",
      "Epoch 46/50\n",
      "36/41 [=========================>....] - ETA: 0s - loss: 0.0012 - root_mean_squared_error: 0.0349\n",
      "Epoch 00046: val_loss did not improve from 0.02035\n",
      "41/41 [==============================] - 0s 5ms/step - loss: 0.0012 - root_mean_squared_error: 0.0347 - val_loss: 0.0443 - val_root_mean_squared_error: 0.2104\n",
      "Epoch 47/50\n",
      "39/41 [===========================>..] - ETA: 0s - loss: 0.0011 - root_mean_squared_error: 0.0324   \n",
      "Epoch 00047: val_loss did not improve from 0.02035\n",
      "41/41 [==============================] - 0s 6ms/step - loss: 0.0010 - root_mean_squared_error: 0.0322 - val_loss: 0.0316 - val_root_mean_squared_error: 0.1778\n",
      "Epoch 48/50\n",
      "34/41 [=======================>......] - ETA: 0s - loss: 0.0010 - root_mean_squared_error: 0.0316    \n",
      "Epoch 00048: val_loss did not improve from 0.02035\n",
      "41/41 [==============================] - 0s 5ms/step - loss: 9.9852e-04 - root_mean_squared_error: 0.0316 - val_loss: 0.0236 - val_root_mean_squared_error: 0.1535\n",
      "Epoch 49/50\n",
      "35/41 [========================>.....] - ETA: 0s - loss: 0.0012 - root_mean_squared_error: 0.0340\n",
      "Epoch 00049: val_loss did not improve from 0.02035\n",
      "41/41 [==============================] - 0s 5ms/step - loss: 0.0012 - root_mean_squared_error: 0.0341 - val_loss: 0.0269 - val_root_mean_squared_error: 0.1639\n",
      "Epoch 50/50\n",
      "41/41 [==============================] - ETA: 0s - loss: 0.0011 - root_mean_squared_error: 0.0330\n",
      "Epoch 00050: val_loss did not improve from 0.02035\n",
      "41/41 [==============================] - 0s 6ms/step - loss: 0.0011 - root_mean_squared_error: 0.0330 - val_loss: 0.0218 - val_root_mean_squared_error: 0.1477\n"
     ]
    }
   ],
   "source": [
    "filepath = 'best_model_10.hdf5'\n",
    "checkpoint = ModelCheckpoint(filepath=filepath, \n",
    "                             monitor='val_loss',\n",
    "                             verbose=1, \n",
    "                             save_best_only=True,\n",
    "                             mode='min')\n",
    "##################################################\n",
    "\n",
    "model_2.compile(loss='mse', optimizer=Adam(learning_rate=0.01),metrics=[RootMeanSquaredError()])\n",
    "\n",
    "history = model_2.fit(X_train_forecast, y_train_forecast, validation_data=(X_val_forecast, y_val_forecast),\\\n",
    "                    callbacks = [checkpoint],epochs=50)"
   ]
  },
  {
   "cell_type": "markdown",
   "metadata": {},
   "source": [
    "## Predictions"
   ]
  },
  {
   "cell_type": "code",
   "execution_count": 76,
   "metadata": {},
   "outputs": [
    {
     "data": {
      "text/plain": [
       "array([0.20800938, 0.21198346, 0.19233735, 0.22068463, 0.22068166,\n",
       "       0.22008564, 0.20455981, 0.22401182, 0.24166451, 0.24517613])"
      ]
     },
     "execution_count": 76,
     "metadata": {},
     "output_type": "execute_result"
    }
   ],
   "source": [
    "y_test_forecast[-1].flatten()"
   ]
  },
  {
   "cell_type": "code",
   "execution_count": 85,
   "metadata": {
    "scrolled": true
   },
   "outputs": [
    {
     "data": {
      "image/png": "[encoded data removed]",
      "text/plain": [
       "<Figure size 576x288 with 1 Axes>"
      ]
     },
     "metadata": {
      "needs_background": "light"
     },
     "output_type": "display_data"
    }
   ],
   "source": [
    "test_predictions_forecast = model_2.predict(X_test_forecast)\n",
    "\n",
    "fig, ax = plt.subplots(figsize=(8, 4))\n",
    "plt.plot(test_predictions_forecast[:,:].flatten(), label='prediction')\n",
    "plt.plot(y_test_forecast[:,:].flatten(), label='y test')\n",
    "plt.ylabel('USD Scaled')\n",
    "plt.legend(loc='best')\n",
    "plt.title(f'{days_prediction} days Predictions vs Test Price ')\n",
    "plt.tight_layout()"
   ]
  },
  {
   "cell_type": "markdown",
   "metadata": {},
   "source": [
    "In the following plot we are going to observe only the forecast for the **last 10 days**, that is the goal of the model."
   ]
  },
  {
   "cell_type": "code",
   "execution_count": 86,
   "metadata": {
    "scrolled": true
   },
   "outputs": [
    {
     "data": {
      "image/png": "[encoded data removed]",
      "text/plain": [
       "<Figure size 576x288 with 1 Axes>"
      ]
     },
     "metadata": {
      "needs_background": "light"
     },
     "output_type": "display_data"
    }
   ],
   "source": [
    "forecast_10_days = test_predictions_forecast[-1].reshape(-1,1) #last 10 days prediction\n",
    "forecast_10_days = np.repeat(forecast_10_days, (time_steps+1), axis = 1)\n",
    "\n",
    "forecast_10_days_scaledback =scaler.inverse_transform(forecast_10_days)[:,0]\n",
    "forecast_10_days_scaledback\n",
    "\n",
    "y_test_10_days = np.repeat(y_test_forecast[-1], (time_steps+1), axis = 1)\n",
    "y_test_10_days_scaledback = scaler.inverse_transform(y_test_10_days)[:,0]\n",
    "\n",
    "fig, ax = plt.subplots(figsize=(8, 4))\n",
    "plt.plot(df_shifted2[-10:].index,forecast_10_days_scaledback, label='predictions')\n",
    "plt.plot(df_shifted2[-10:].index,y_test_10_days_scaledback, label= 'test set')\n",
    "\n",
    "ax.legend(loc= 'best')\n",
    "plt.xlabel('Date')\n",
    "plt.xticks(rotation=45)\n",
    "plt.ylabel('USD')\n",
    "plt.title('Predictions')\n",
    "plt.tight_layout()\n",
    "plt.show()"
   ]
  },
  {
   "cell_type": "markdown",
   "metadata": {},
   "source": [
    "Now we are going to forecast the following 10 days, based on the price of today."
   ]
  },
  {
   "cell_type": "code",
   "execution_count": 87,
   "metadata": {
    "scrolled": true
   },
   "outputs": [],
   "source": [
    "#predictions for tomorrow\n",
    "today_price = y_test_forecast[-1:,-1].flatten()\n",
    "X_today = np.append(today_price,X_test_forecast[-1,:-1]).reshape(1,X_test_forecast.shape[1],1)\n",
    "tomorrow_prediction = model_2.predict(X_today).reshape(-1,1)\n",
    "\n",
    "forecast_next_10_days = np.repeat(tomorrow_prediction, (time_steps+1), axis = 1) \n",
    "forecast_next_10_days_scaledback =scaler.inverse_transform(forecast_next_10_days)[:,0]\n"
   ]
  },
  {
   "cell_type": "code",
   "execution_count": 88,
   "metadata": {
    "scrolled": false
   },
   "outputs": [
    {
     "name": "stdout",
     "output_type": "stream",
     "text": [
      "ETH Forecast for 2022-06-27: 1242 USD\n",
      "ETH Forecast for 2022-06-28: 1244 USD\n",
      "ETH Forecast for 2022-06-29: 1254 USD\n",
      "ETH Forecast for 2022-06-30: 1237 USD\n",
      "ETH Forecast for 2022-07-01: 1239 USD\n",
      "ETH Forecast for 2022-07-02: 1237 USD\n",
      "ETH Forecast for 2022-07-03: 1246 USD\n",
      "ETH Forecast for 2022-07-04: 1268 USD\n",
      "ETH Forecast for 2022-07-05: 1275 USD\n",
      "ETH Forecast for 2022-07-06: 1255 USD\n"
     ]
    }
   ],
   "source": [
    "for index, price in enumerate(forecast_next_10_days_scaledback, start=1):\n",
    "    print(f'ETH Forecast for {date.today() + timedelta(index)}: {math.floor(price)} USD')"
   ]
  }
 ],
 "metadata": {
  "kernelspec": {
   "display_name": "Python 3",
   "language": "python",
   "name": "python3"
  },
  "language_info": {
   "codemirror_mode": {
    "name": "ipython",
    "version": 3
   },
   "file_extension": ".py",
   "mimetype": "text/x-python",
   "name": "python",
   "nbconvert_exporter": "python",
   "pygments_lexer": "ipython3",
   "version": "3.7.8rc1"
  }
 },
 "nbformat": 4,
 "nbformat_minor": 4
}
